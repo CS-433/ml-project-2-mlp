{
 "cells": [
  {
   "cell_type": "markdown",
   "metadata": {},
   "source": [
    "### GPT Labeler\n",
    "\n",
    "---\n",
    "\n",
    "In this notebook, we test how well can `GPT 3.5` classify given websites based on the provided context. Specifically, we will try to classify websites based on the following contexts: \n",
    "\n",
    "1. tld + domain + metatags\n",
    "2. context 1 + title + description + keywords\n",
    "3. context 2 + links + text"
   ]
  },
  {
   "cell_type": "code",
   "execution_count": null,
   "metadata": {},
   "outputs": [],
   "source": [
    "%load_ext autoreload\n",
    "%autoreload 2\n",
    "\n",
    "import pickle\n",
    "import os\n",
    "from openai import OpenAI\n",
    "from ml_project_2_mlp import gpt\n",
    "from ml_project_2_mlp import utils\n",
    "\n",
    "\n",
    "# Load env variables\n",
    "import dotenv\n",
    "dotenv.load_dotenv()\n",
    "\n",
    "import pandas as pd"
   ]
  },
  {
   "cell_type": "markdown",
   "metadata": {},
   "source": [
    "Setup the OpenAI client:"
   ]
  },
  {
   "cell_type": "code",
   "execution_count": null,
   "metadata": {},
   "outputs": [],
   "source": [
    "client = OpenAI(\n",
    "    api_key=os.environ.get(\"OPENAI_API_KEY\"), # Change this to your API name\n",
    ")"
   ]
  },
  {
   "cell_type": "markdown",
   "metadata": {},
   "source": [
    "Setup the global flags:"
   ]
  },
  {
   "cell_type": "code",
   "execution_count": null,
   "metadata": {},
   "outputs": [],
   "source": [
    "RERUN = False # Set to True to rerun the classification process"
   ]
  },
  {
   "cell_type": "markdown",
   "metadata": {},
   "source": [
    "Load the web features and labelling info of the **crowdsourced** dataset, for more info about these, check out the [eda notebook](eda.ipynb)."
   ]
  },
  {
   "cell_type": "code",
   "execution_count": null,
   "metadata": {},
   "outputs": [],
   "source": [
    "# Features as a dict of dicts where outer dict has as a key webiste id and inner dict are the features\n",
    "features_path = os.path.join(\"..\", \"data\", \"crowdsourced\", \"processed\", \"web_features.pkl\")\n",
    "with open(features_path, 'rb') as f:\n",
    "    web_features = pickle.load(f)\n",
    "\n",
    "# Websites with corresponding label - at least 2 votes for each label\n",
    "websites_labels_path = os.path.join(\"..\", \"data\", \"crowdsourced\", \"processed\", \"websites.csv\")\n",
    "websites = pd.read_csv(websites_labels_path)"
   ]
  },
  {
   "cell_type": "markdown",
   "metadata": {},
   "source": [
    "### Context 1: tld + domain + metatags\n",
    "\n",
    "---"
   ]
  },
  {
   "cell_type": "code",
   "execution_count": null,
   "metadata": {},
   "outputs": [],
   "source": [
    "# Define the context\n",
    "context1 = [('tld', None), ('domain', None), ('metatags', 10)]\n",
    "\n",
    "# Define the labeler\n",
    "c1_lab = gpt.GPTLabeler(client, context1)"
   ]
  },
  {
   "cell_type": "code",
   "execution_count": null,
   "metadata": {},
   "outputs": [],
   "source": [
    "folder_path = os.path.join('..', 'data', \"tld_domain_meta\")\n",
    "if not os.path.exists(folder_path) or RERUN:\n",
    "\n",
    "    # Get the labeled data\n",
    "    c1_out = c1_lab.predict(web_features)\n",
    "\n",
    "    # Save the labeled data\n",
    "    if not os.path.exists(folder_path):\n",
    "        os.makedirs(folder_path)\n",
    "\n",
    "    with open(os.path.join(folder_path, 'labeled_data.pkl'), 'wb') as f:\n",
    "        pickle.dump(c1_out, f)\n",
    "\n",
    "else:\n",
    "    with open(os.path.join(folder_path, 'labeled_data.pkl'), 'rb') as f:\n",
    "        c1_out = pickle.load(f)"
   ]
  },
  {
   "cell_type": "markdown",
   "metadata": {},
   "source": [
    "### Context 2: context 1 + title + description + keywords\n",
    "\n",
    "---"
   ]
  },
  {
   "cell_type": "code",
   "execution_count": null,
   "metadata": {},
   "outputs": [],
   "source": [
    "# Set the context\n",
    "context2 = context1 + [('title', None), ('description', None), ('keywords', None)]\n",
    "\n",
    "# Define the labeler\n",
    "c2_lab = gpt.GPTLabeler(client, context2)"
   ]
  },
  {
   "cell_type": "code",
   "execution_count": null,
   "metadata": {},
   "outputs": [],
   "source": [
    "folder_path = os.path.join('..', 'data', \"tld_domain_meta_title_desc_kws\")\n",
    "\n",
    "if not os.path.exists(folder_path) or RERUN:\n",
    "\n",
    "    # Get the labeled data\n",
    "    c2_out = c2_lab.predict(web_features)\n",
    "\n",
    "    # Save the labeled data\n",
    "    if not os.path.exists(folder_path):\n",
    "        os.makedirs(folder_path)\n",
    "\n",
    "    with open(os.path.join(folder_path, 'labeled_data.pkl'), 'wb') as f:\n",
    "        pickle.dump(c2_out, f)\n",
    "\n",
    "else:\n",
    "    with open(os.path.join(folder_path, 'labeled_data.pkl'), 'rb') as f:\n",
    "        c2_out = pickle.load(f)"
   ]
  },
  {
   "cell_type": "markdown",
   "metadata": {},
   "source": [
    "### Context 3: context 2 + links + text\n",
    "\n",
    "---"
   ]
  },
  {
   "cell_type": "code",
   "execution_count": null,
   "metadata": {},
   "outputs": [],
   "source": [
    "# Set the context \n",
    "context3 = context2 + [('links', 10), ('sentences', 20)]\n",
    "\n",
    "# Define the labeler\n",
    "c3_lab = gpt.GPTLabeler(client, context3)"
   ]
  },
  {
   "cell_type": "code",
   "execution_count": null,
   "metadata": {},
   "outputs": [],
   "source": [
    "folder_path = os.path.join('..', 'data', \"tld_domain_meta_title_desc_kws_links_text\")\n",
    "\n",
    "if not os.path.exists(folder_path) or RERUN:\n",
    "    # Get the labeled data\n",
    "    c3_out = c3_lab.predict(web_features)\n",
    "\n",
    "    # Save the labeled data\n",
    "    if not os.path.exists(folder_path):\n",
    "        os.makedirs(folder_path)\n",
    "\n",
    "    with open(os.path.join(folder_path, 'labeled_data.pkl'), 'wb') as f:\n",
    "        pickle.dump(c3_out, f)\n",
    "\n",
    "else:\n",
    "    with open(os.path.join(folder_path, 'labeled_data.pkl'), 'rb') as f:\n",
    "        c3_out = pickle.load(f)"
   ]
  },
  {
   "cell_type": "markdown",
   "metadata": {},
   "source": [
    "---"
   ]
  }
 ],
 "metadata": {
  "kernelspec": {
   "display_name": "ml-project-2-mlp-rx2AOdW0-py3.10",
   "language": "python",
   "name": "python3"
  },
  "language_info": {
   "codemirror_mode": {
    "name": "ipython",
    "version": 3
   },
   "file_extension": ".py",
   "mimetype": "text/x-python",
   "name": "python",
   "nbconvert_exporter": "python",
   "pygments_lexer": "ipython3",
   "version": "3.10.13"
  }
 },
 "nbformat": 4,
 "nbformat_minor": 2
}
