{
 "cells": [
  {
   "cell_type": "markdown",
   "metadata": {},
   "source": [
    "### GPT Labeler\n",
    "\n",
    "---\n",
    "\n",
    "In this notebook, we test how well can `GPT 3.5` classify given websites based on the provided context. Specifically, we will try to classify websites based on the following contexts: \n",
    "\n",
    "1. tld + domain + metatags\n",
    "2. context 1 + title + description + keywords\n",
    "3. context 2 + links + text"
   ]
  },
  {
   "cell_type": "code",
   "execution_count": 1,
   "metadata": {},
   "outputs": [],
   "source": [
    "%load_ext autoreload\n",
    "%autoreload 2\n",
    "\n",
    "import pickle\n",
    "import os\n",
    "from openai import OpenAI\n",
    "from ml_project_2_mlp import gpt\n",
    "\n",
    "# Load env variables\n",
    "import dotenv\n",
    "dotenv.load_dotenv()\n",
    "\n",
    "import pandas as pd"
   ]
  },
  {
   "cell_type": "markdown",
   "metadata": {},
   "source": [
    "Setup the OpenAI client:"
   ]
  },
  {
   "cell_type": "code",
   "execution_count": 2,
   "metadata": {},
   "outputs": [],
   "source": [
    "client = OpenAI(\n",
    "    api_key=os.environ.get(\"OPENAI_API_KEY\"), # Change this to your API name\n",
    ")"
   ]
  },
  {
   "cell_type": "markdown",
   "metadata": {},
   "source": [
    "Load the web features and labelling info of the **crowdsourced** dataset, for more info about these, check out the [eda notebook](eda.ipynb)."
   ]
  },
  {
   "cell_type": "code",
   "execution_count": 3,
   "metadata": {},
   "outputs": [],
   "source": [
    "# Features as a dict of dicts where outer dict has as a key webiste id and inner dict are the features\n",
    "with open('../data/crowdsourced/processed/web_features.pkl', 'rb') as f:\n",
    "    web_features = pickle.load(f)[:5]\n",
    "\n",
    "# Websites with corresponding label - at least 2 votes for each label\n",
    "websites = pd.read_csv('../data/crowdsourced/processed/websites.csv')"
   ]
  },
  {
   "cell_type": "markdown",
   "metadata": {},
   "source": [
    "### Context 1: tld + domain + metatags\n",
    "\n",
    "---"
   ]
  },
  {
   "cell_type": "code",
   "execution_count": 4,
   "metadata": {},
   "outputs": [
    {
     "name": "stderr",
     "output_type": "stream",
     "text": [
      "100%|██████████| 5/5 [00:18<00:00,  3.70s/it]\n"
     ]
    }
   ],
   "source": [
    "# Define the context\n",
    "context1 = [('tld', None), ('domain', None), ('metatags', 10)]\n",
    "\n",
    "# Define the labeler\n",
    "c1_lab = gpt.GPTLabeler(client, context1)\n",
    "\n",
    "# Get the labeled data\n",
    "c1_out = c1_lab.predict(web_features)\n",
    "\n",
    "# Save the labeled data\n",
    "folder_path = os.path.join('..', 'data', \"tld_domain_meta\")\n",
    "if not os.path.exists(folder_path):\n",
    "    os.makedirs(folder_path)\n",
    "\n",
    "with open(os.path.join(folder_path, 'labeled_data.pkl'), 'wb') as f:\n",
    "    pickle.dump(c1_out, f)"
   ]
  },
  {
   "cell_type": "markdown",
   "metadata": {},
   "source": [
    "### Context 2: context 1 + title + description + keywords\n",
    "\n",
    "---"
   ]
  },
  {
   "cell_type": "code",
   "execution_count": 5,
   "metadata": {},
   "outputs": [
    {
     "name": "stderr",
     "output_type": "stream",
     "text": [
      "100%|██████████| 5/5 [00:16<00:00,  3.22s/it]\n"
     ]
    }
   ],
   "source": [
    "# Set the context\n",
    "context2 = context1 + [('title', None), ('description', None), ('keywords', None)]\n",
    "\n",
    "# Define the labeler\n",
    "c2_lab = gpt.GPTLabeler(client, context2)\n",
    "\n",
    "# Get the labeled data\n",
    "c2_out = c2_lab.predict(web_features)\n",
    "\n",
    "# Save the labeled data\n",
    "folder_path = os.path.join('..', 'data', \"c1_title_desc_kws\")\n",
    "if not os.path.exists(folder_path):\n",
    "    os.makedirs(folder_path)\n",
    "\n",
    "with open(os.path.join(folder_path, 'labeled_data.pkl'), 'wb') as f:\n",
    "    pickle.dump(c2_out, f)"
   ]
  },
  {
   "cell_type": "markdown",
   "metadata": {},
   "source": [
    "### Context 3: context 2 + links + text\n",
    "\n",
    "---"
   ]
  },
  {
   "cell_type": "code",
   "execution_count": 9,
   "metadata": {},
   "outputs": [
    {
     "name": "stderr",
     "output_type": "stream",
     "text": [
      "100%|██████████| 5/5 [00:14<00:00,  2.92s/it]\n"
     ]
    }
   ],
   "source": [
    "# Set the context \n",
    "context3 = context2 + [('links', 10), ('sentences', 20)]\n",
    "\n",
    "# Define the labeler\n",
    "c3_lab = gpt.GPTLabeler(client, context3)\n",
    "\n",
    "# Get the labeled data\n",
    "c3_out = c3_lab.predict(web_features)\n",
    "\n",
    "# Save the labeled data\n",
    "folder_path = os.path.join('..', 'data', \"c2_links_text\")\n",
    "if not os.path.exists(folder_path):\n",
    "    os.makedirs(folder_path)\n",
    "\n",
    "with open(os.path.join(folder_path, 'labeled_data.pkl'), 'wb') as f:\n",
    "    pickle.dump(c3_out, f)"
   ]
  },
  {
   "cell_type": "markdown",
   "metadata": {},
   "source": [
    "---"
   ]
  }
 ],
 "metadata": {
  "kernelspec": {
   "display_name": "ml-project-2-mlp-rx2AOdW0-py3.10",
   "language": "python",
   "name": "python3"
  },
  "language_info": {
   "codemirror_mode": {
    "name": "ipython",
    "version": 3
   },
   "file_extension": ".py",
   "mimetype": "text/x-python",
   "name": "python",
   "nbconvert_exporter": "python",
   "pygments_lexer": "ipython3",
   "version": "3.10.13"
  }
 },
 "nbformat": 4,
 "nbformat_minor": 2
}
