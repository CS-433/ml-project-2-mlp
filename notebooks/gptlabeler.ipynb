{
 "cells": [
  {
   "cell_type": "markdown",
   "metadata": {},
   "source": [
    "### GPT Labeler\n",
    "\n",
    "---\n",
    "\n",
    "In this notebook, we test how well can `GPT 3.5` classify given websites based on the provided context. Specifically, we will try to classify websites based on the following contexts: \n",
    "\n",
    "1. tld + domain + metatags\n",
    "2. context 1 + title + description + keywords\n",
    "3. context 2 + links + text"
   ]
  },
  {
   "cell_type": "code",
   "execution_count": null,
   "metadata": {},
   "outputs": [],
   "source": [
    "%load_ext autoreload\n",
    "%autoreload 2\n",
    "\n",
    "import pickle\n",
    "import os\n",
    "\n",
    "import pandas as pd\n",
    "import matplotlib.pyplot as plt\n",
    "import seaborn as sns"
   ]
  },
  {
   "cell_type": "markdown",
   "metadata": {},
   "source": [
    "Load the web features and labelling info of the **crowdsourced** dataset, for more info about these, check out the [eda notebook](eda.ipynb)."
   ]
  },
  {
   "cell_type": "code",
   "execution_count": null,
   "metadata": {},
   "outputs": [],
   "source": [
    "# Features as a dict of dicts where outer dict has as a key webiste id and inner dict are the features\n",
    "with open('../data/crowdsourced/processed/web_features.pkl', 'rb') as f:\n",
    "    web_features = pickle.load(f)\n",
    "\n",
    "# Websites with corresponding label - at least 2 votes for each label\n",
    "websites = pd.read_csv('../data/crowdsourced/processed/websites.csv')"
   ]
  },
  {
   "cell_type": "markdown",
   "metadata": {},
   "source": [
    "### Context 1: tld + domain + metatags\n",
    "\n",
    "---"
   ]
  },
  {
   "cell_type": "code",
   "execution_count": null,
   "metadata": {},
   "outputs": [],
   "source": [
    "# Define the context\n",
    "context1 = ['tld', 'domain', 'metatags']\n",
    "\n",
    "# Define the labeler\n",
    "c1_lab = ...\n",
    "\n",
    "# Get the labeled data\n",
    "c1_out = c1_lab.predict(web_features, context1)\n",
    "\n",
    "# Save the labeled data\n",
    "folder_path = os.path.join('..', 'data', \"tld_domain_meta\")\n",
    "if not os.path.exists(folder_path):\n",
    "    os.makedirs(folder_path)\n",
    "\n",
    "with open(os.path.join(folder_path, 'labeled_data.pkl'), 'wb') as f:\n",
    "    pickle.dump(c1_out, f)"
   ]
  },
  {
   "cell_type": "markdown",
   "metadata": {},
   "source": [
    "### Context 2: context 1 + title + description + keywords\n",
    "\n",
    "---"
   ]
  },
  {
   "cell_type": "code",
   "execution_count": null,
   "metadata": {},
   "outputs": [],
   "source": [
    "# Set the context\n",
    "context2 = context1 + ['title', 'description', 'keywords']\n",
    "\n",
    "# Define the labeler\n",
    "c2_lab = ...\n",
    "\n",
    "# Get the labeled data\n",
    "c2_out = c2_lab.predict(web_features, context2)\n",
    "\n",
    "# Save the labeled data\n",
    "folder_path = os.path.join('..', 'data', \"c1_title_desc_kws\")\n",
    "if not os.path.exists(folder_path):\n",
    "    os.makedirs(folder_path)\n",
    "\n",
    "with open(os.path.join(folder_path, 'labeled_data.pkl'), 'wb') as f:\n",
    "    pickle.dump(c2_out, f)"
   ]
  },
  {
   "cell_type": "markdown",
   "metadata": {},
   "source": [
    "### Context 3: context 2 + links + text\n",
    "\n",
    "---"
   ]
  },
  {
   "cell_type": "code",
   "execution_count": null,
   "metadata": {},
   "outputs": [],
   "source": [
    "# Set the context\n",
    "context3 = context2 + ['links', 'sentences']\n",
    "\n",
    "# Define the labeler\n",
    "c3_lab = ...\n",
    "\n",
    "# Get the labeled data\n",
    "c3_out = c3_lab.predict(web_features, context3)\n",
    "\n",
    "# Save the labeled data\n",
    "folder_path = os.path.join('..', 'data', \"c2_links_text\")\n",
    "if not os.path.exists(folder_path):\n",
    "    os.makedirs(folder_path)\n",
    "\n",
    "with open(os.path.join(folder_path, 'labeled_data.pkl'), 'wb') as f:\n",
    "    pickle.dump(c3_out, f)"
   ]
  }
 ],
 "metadata": {
  "kernelspec": {
   "display_name": "ml-project-2-mlp-rx2AOdW0-py3.10",
   "language": "python",
   "name": "python3"
  },
  "language_info": {
   "codemirror_mode": {
    "name": "ipython",
    "version": 3
   },
   "file_extension": ".py",
   "mimetype": "text/x-python",
   "name": "python",
   "nbconvert_exporter": "python",
   "pygments_lexer": "ipython3",
   "version": "3.10.13"
  }
 },
 "nbformat": 4,
 "nbformat_minor": 2
}
