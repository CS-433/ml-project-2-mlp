{
 "cells": [
  {
   "cell_type": "markdown",
   "metadata": {},
   "source": [
    "# Data Loading\n",
    "\n",
    "This notebook shows how to download/ load the data and models which are used in\n",
    "this project.\n"
   ]
  },
  {
   "cell_type": "code",
   "execution_count": 1,
   "metadata": {},
   "outputs": [],
   "source": [
    "# ruff: noqa\n",
    "%reload_ext autoreload\n",
    "%autoreload 2\n",
    "\n",
    "# External imports\n",
    "import os\n",
    "import time\n",
    "import logging\n",
    "\n",
    "# Internal imports\n",
    "import ml_project_2_mlp.utils as utils\n",
    "import ml_project_2_mlp.conf as conf\n",
    "import ml_project_2_mlp.log as log"
   ]
  },
  {
   "cell_type": "code",
   "execution_count": 2,
   "metadata": {},
   "outputs": [],
   "source": [
    "# Set logging level to DEBUG (detailed logs)\n",
    "logger = log.setup_logging(logging.INFO)"
   ]
  },
  {
   "cell_type": "code",
   "execution_count": 3,
   "metadata": {},
   "outputs": [],
   "source": [
    "paths = [conf.MODELS_PATH, conf.DATA_PATH]\n",
    "\n",
    "# Paths have to be created before loading the data\n",
    "for path in paths:\n",
    "    os.makedirs(path, exist_ok=True)"
   ]
  },
  {
   "cell_type": "code",
   "execution_count": 4,
   "metadata": {},
   "outputs": [
    {
     "name": "stderr",
     "output_type": "stream",
     "text": [
      "[INFO] (ml_project_2_mlp.utils._download_if_not_present) - /Users/jonas-mika/epfl/coursework/projects/ml-project-2-mlp/models/homepage2vec doesn't exist. Downloading from Google Drive...\n",
      "Downloading...\n",
      "From: https://drive.google.com/u/0/uc?id=17EAb6wgORzbu3xYAIkATzUu-hCKiP6A0&export=download\n",
      "To: /Users/jonas-mika/epfl/coursework/projects/ml-project-2-mlp/models/homepage2vec.zip\n",
      "100%|██████████| 17.7M/17.7M [00:01<00:00, 11.5MB/s]"
     ]
    },
    {
     "name": "stdout",
     "output_type": "stream",
     "text": [
      "\n",
      "✅ (Down)loaded homepage2vec model (3.24s).\n",
      "✅ Loaded homepage2vec model (0.00s).\n"
     ]
    },
    {
     "name": "stderr",
     "output_type": "stream",
     "text": [
      "\n"
     ]
    }
   ],
   "source": [
    "# Demo: Homepage2Vec model\n",
    "homepage2vec_path = os.path.join(conf.MODELS_PATH, \"homepage2vec\")\n",
    "os.system(f\"rm {homepage2vec_path}/*\")\n",
    "\n",
    "start = time.time()\n",
    "model, features = utils.load_homepage2vec(homepage2vec_path)\n",
    "\n",
    "print(f\"\\n✅ (Down)loaded homepage2vec model ({(time.time() - start):.2f}s).\")\n",
    "\n",
    "start = time.time()\n",
    "model, features = utils.load_homepage2vec(homepage2vec_path)\n",
    "print(f\"✅ Loaded homepage2vec model ({(time.time() - start):.2f}s).\")"
   ]
  },
  {
   "cell_type": "code",
   "execution_count": 5,
   "metadata": {},
   "outputs": [
    {
     "name": "stderr",
     "output_type": "stream",
     "text": [
      "[INFO] (ml_project_2_mlp.utils._download_if_not_present) - /Users/jonas-mika/epfl/coursework/projects/ml-project-2-mlp/data/crowdsourced doesn't exist. Downloading from Google Drive...\n",
      "Downloading...\n",
      "From: https://drive.google.com/u/0/uc?id=1JUU2YyY9uX4kH7-yYzmB6r9gzVtBBrfz&export=download\n",
      "To: /Users/jonas-mika/epfl/coursework/projects/ml-project-2-mlp/data/crowdsourced.zip\n",
      "100%|██████████| 269k/269k [00:00<00:00, 5.69MB/s]"
     ]
    },
    {
     "name": "stdout",
     "output_type": "stream",
     "text": [
      "\n",
      "✅ (Down)loaded crowdsourced data (1.55s).\n",
      "✅ Loaded crowdsourced data (0.02s).\n"
     ]
    },
    {
     "name": "stderr",
     "output_type": "stream",
     "text": [
      "\n"
     ]
    }
   ],
   "source": [
    "# Demo: Crowdsourced data\n",
    "crowdsourced_data = os.path.join(conf.DATA_PATH, \"crowdsourced\")\n",
    "os.system(f\"rm {crowdsourced_data}/*\")\n",
    "\n",
    "start = time.time()\n",
    "labeled, categories = utils.load_crowdsourced_data(crowdsourced_data)\n",
    "\n",
    "print(f\"\\n✅ (Down)loaded crowdsourced data ({(time.time() - start):.2f}s).\")\n",
    "\n",
    "start = time.time()\n",
    "labeled, categories = utils.load_crowdsourced_data(crowdsourced_data)\n",
    "\n",
    "print(f\"✅ Loaded crowdsourced data ({(time.time() - start):.2f}s).\")"
   ]
  },
  {
   "cell_type": "code",
   "execution_count": 7,
   "metadata": {},
   "outputs": [
    {
     "name": "stdout",
     "output_type": "stream",
     "text": [
      "✅ Loaded Curlie data (4.05s).\n"
     ]
    }
   ],
   "source": [
    "# Demo: Curlie data (excludes raw HTML content)\n",
    "curlie_path = os.path.join(conf.DATA_PATH, \"curlie\")\n",
    "# os.remove(homepage2vec_path, recursive=True) # Don't remove yet\n",
    "\n",
    "# start = time.time()\n",
    "# curlie_data = utils.load_curlie_data(curlie_path)\n",
    "\n",
    "# print(f\"\\n✅ (Down)loaded Curlie data ({(time.time() - start):.2f}s).\")\n",
    "\n",
    "start = time.time()\n",
    "curlie_data = utils.load_curlie_data(curlie_path)\n",
    "\n",
    "print(f\"✅ Loaded Curlie data ({(time.time() - start):.2f}s).\")"
   ]
  }
 ],
 "metadata": {
  "kernelspec": {
   "display_name": "ml-project-2-mlp-a6NSXBdT-py3.10",
   "language": "python",
   "name": "python3"
  },
  "language_info": {
   "codemirror_mode": {
    "name": "ipython",
    "version": 3
   },
   "file_extension": ".py",
   "mimetype": "text/x-python",
   "name": "python",
   "nbconvert_exporter": "python",
   "pygments_lexer": "ipython3",
   "version": "3.10.13"
  }
 },
 "nbformat": 4,
 "nbformat_minor": 2
}
