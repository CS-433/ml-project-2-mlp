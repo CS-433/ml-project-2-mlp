{
 "cells": [
  {
   "cell_type": "markdown",
   "metadata": {},
   "source": [
    "# Data Loading\n",
    "\n",
    "This notebook shows how to download/ load the data and models which are used in\n",
    "this project.\n"
   ]
  },
  {
   "cell_type": "code",
   "execution_count": 1,
   "metadata": {},
   "outputs": [
    {
     "name": "stderr",
     "output_type": "stream",
     "text": [
      "/Users/ludekcizinsky/Library/Caches/pypoetry/virtualenvs/ml-project-2-mlp-rx2AOdW0-py3.10/lib/python3.10/site-packages/tqdm/auto.py:21: TqdmWarning: IProgress not found. Please update jupyter and ipywidgets. See https://ipywidgets.readthedocs.io/en/stable/user_install.html\n",
      "  from .autonotebook import tqdm as notebook_tqdm\n"
     ]
    }
   ],
   "source": [
    "# ruff: noqa\n",
    "%reload_ext autoreload\n",
    "%autoreload 2\n",
    "\n",
    "# External imports\n",
    "import os\n",
    "import time\n",
    "\n",
    "# Internal imports\n",
    "import ml_project_2_mlp.utils as utils"
   ]
  },
  {
   "cell_type": "code",
   "execution_count": null,
   "metadata": {},
   "outputs": [],
   "source": [
    "# Demo: Homepage2Vec model\n",
    "homepage2vec_path = os.path.join(os.path.join(\"..\", \"models\"), \"homepage2vec\")\n",
    "expected_files = [\"features.txt\", \"model.pt\"]\n",
    "os.system(f\"rm {homepage2vec_path}/*\")\n",
    "\n",
    "start = time.time()\n",
    "utils.download_if_not_present(\n",
    "    dir_path=homepage2vec_path,\n",
    "    gdrive_url=\"https://drive.google.com/u/2/uc?id=1bE8ttkcgH9nMCobXIjPx05ezipklvsJ3&export=download\",\n",
    "    expected_files=expected_files\n",
    ")\n",
    "\n",
    "print(f\"\\n✅ (Down)loaded homepage2vec model ({(time.time() - start):.2f}s).\")\n",
    "\n",
    "start = time.time()\n",
    "model, features = utils.load(\n",
    "    dir_path=homepage2vec_path,\n",
    "    expected_files=[\"model.pt\", \"features.txt\"],\n",
    ")\n",
    "print(f\"✅ Loaded homepage2vec model ({(time.time() - start):.2f}s).\")"
   ]
  },
  {
   "cell_type": "code",
   "execution_count": 5,
   "metadata": {},
   "outputs": [
    {
     "name": "stderr",
     "output_type": "stream",
     "text": [
      "rm: ../data/crowdsourced/raw/*: No such file or directory\n",
      "\n",
      " \tOnly the owner is allowed to download infected files. \n",
      "\n",
      "You may still be able to access the file from the browser:\n",
      "\n",
      "\t https://drive.google.com/u/0/uc?id=1FQNM-4saQBypqEfRceWs1os-DpA_Fdah&export=download&confirm=t&uuid=688225b5-3f2d-47b0-bf46-6bb1bc73fa01&at=AB6BwCAqKqAUwiNGz6BBCLo61883:1702587796810 \n",
      "\n",
      "Could not extract zip file: [Errno 2] No such file or directory: '../data/crowdsourced/raw.zip'\n"
     ]
    },
    {
     "name": "stdout",
     "output_type": "stream",
     "text": [
      "Access denied with the following error:\n"
     ]
    },
    {
     "ename": "FileNotFoundError",
     "evalue": "[Errno 2] No such file or directory: '../data/crowdsourced/raw.zip'",
     "output_type": "error",
     "traceback": [
      "\u001b[0;31m---------------------------------------------------------------------------\u001b[0m",
      "\u001b[0;31mFileNotFoundError\u001b[0m                         Traceback (most recent call last)",
      "Cell \u001b[0;32mIn[5], line 7\u001b[0m\n\u001b[1;32m      4\u001b[0m os\u001b[38;5;241m.\u001b[39msystem(\u001b[38;5;124mf\u001b[39m\u001b[38;5;124m\"\u001b[39m\u001b[38;5;124mrm \u001b[39m\u001b[38;5;132;01m{\u001b[39;00mraw_crowdsourced_data_path\u001b[38;5;132;01m}\u001b[39;00m\u001b[38;5;124m/*\u001b[39m\u001b[38;5;124m\"\u001b[39m)\n\u001b[1;32m      6\u001b[0m start \u001b[38;5;241m=\u001b[39m time\u001b[38;5;241m.\u001b[39mtime()\n\u001b[0;32m----> 7\u001b[0m \u001b[43mutils\u001b[49m\u001b[38;5;241;43m.\u001b[39;49m\u001b[43mdownload_if_not_present\u001b[49m\u001b[43m(\u001b[49m\n\u001b[1;32m      8\u001b[0m \u001b[43m    \u001b[49m\u001b[43mdir_path\u001b[49m\u001b[38;5;241;43m=\u001b[39;49m\u001b[43mraw_crowdsourced_data_path\u001b[49m\u001b[43m,\u001b[49m\n\u001b[1;32m      9\u001b[0m \u001b[43m    \u001b[49m\u001b[43mgdrive_url\u001b[49m\u001b[38;5;241;43m=\u001b[39;49m\u001b[38;5;124;43m\"\u001b[39;49m\u001b[38;5;124;43mhttps://drive.google.com/u/0/uc?id=1FQNM-4saQBypqEfRceWs1os-DpA_Fdah&export=download&confirm=t&uuid=688225b5-3f2d-47b0-bf46-6bb1bc73fa01&at=AB6BwCAqKqAUwiNGz6BBCLo61883:1702587796810\u001b[39;49m\u001b[38;5;124;43m\"\u001b[39;49m\u001b[43m,\u001b[49m\n\u001b[1;32m     10\u001b[0m \u001b[43m    \u001b[49m\u001b[43mexpected_files\u001b[49m\u001b[38;5;241;43m=\u001b[39;49m\u001b[43mexpected_files\u001b[49m\u001b[43m,\u001b[49m\n\u001b[1;32m     11\u001b[0m \u001b[43m)\u001b[49m\n\u001b[1;32m     12\u001b[0m \u001b[38;5;28mprint\u001b[39m(\n\u001b[1;32m     13\u001b[0m     \u001b[38;5;124mf\u001b[39m\u001b[38;5;124m\"\u001b[39m\u001b[38;5;130;01m\\n\u001b[39;00m\u001b[38;5;124m✅ (Down)loaded raw crowdsourced data (\u001b[39m\u001b[38;5;132;01m{\u001b[39;00m(time\u001b[38;5;241m.\u001b[39mtime()\u001b[38;5;250m \u001b[39m\u001b[38;5;241m-\u001b[39m\u001b[38;5;250m \u001b[39mstart)\u001b[38;5;132;01m:\u001b[39;00m\u001b[38;5;124m.2f\u001b[39m\u001b[38;5;132;01m}\u001b[39;00m\u001b[38;5;124ms).\u001b[39m\u001b[38;5;124m\"\u001b[39m)\n\u001b[1;32m     15\u001b[0m start \u001b[38;5;241m=\u001b[39m time\u001b[38;5;241m.\u001b[39mtime()\n",
      "File \u001b[0;32m~/Dev/personal/ml-project-2-mlp/ml_project_2_mlp/utils.py:321\u001b[0m, in \u001b[0;36mdownload_if_not_present\u001b[0;34m(dir_path, expected_files, gdrive_url)\u001b[0m\n\u001b[1;32m    319\u001b[0m \u001b[38;5;28;01mif\u001b[39;00m \u001b[38;5;129;01mnot\u001b[39;00m all_files_exist:\n\u001b[1;32m    320\u001b[0m     log\u001b[38;5;241m.\u001b[39minfo(\u001b[38;5;124mf\u001b[39m\u001b[38;5;124m\"\u001b[39m\u001b[38;5;132;01m{\u001b[39;00mdir_path\u001b[38;5;132;01m}\u001b[39;00m\u001b[38;5;124m doesn\u001b[39m\u001b[38;5;124m'\u001b[39m\u001b[38;5;124mt exist. Downloading from Google Drive...\u001b[39m\u001b[38;5;124m\"\u001b[39m)\n\u001b[0;32m--> 321\u001b[0m     \u001b[43m_download_from_gdrive\u001b[49m\u001b[43m(\u001b[49m\u001b[43mgdrive_url\u001b[49m\u001b[38;5;241;43m=\u001b[39;49m\u001b[43mgdrive_url\u001b[49m\u001b[43m,\u001b[49m\u001b[43m \u001b[49m\u001b[43mpath_dir\u001b[49m\u001b[38;5;241;43m=\u001b[39;49m\u001b[43mdir_path\u001b[49m\u001b[43m)\u001b[49m\n\u001b[1;32m    322\u001b[0m \u001b[38;5;28;01melse\u001b[39;00m:\n\u001b[1;32m    323\u001b[0m     log\u001b[38;5;241m.\u001b[39mdebug(\u001b[38;5;124mf\u001b[39m\u001b[38;5;124m\"\u001b[39m\u001b[38;5;124mData found at \u001b[39m\u001b[38;5;132;01m{\u001b[39;00mdir_path\u001b[38;5;132;01m}\u001b[39;00m\u001b[38;5;124m.\u001b[39m\u001b[38;5;124m\"\u001b[39m)\n",
      "File \u001b[0;32m~/Dev/personal/ml-project-2-mlp/ml_project_2_mlp/utils.py:352\u001b[0m, in \u001b[0;36m_download_from_gdrive\u001b[0;34m(gdrive_url, path_dir)\u001b[0m\n\u001b[1;32m    349\u001b[0m     log\u001b[38;5;241m.\u001b[39merror(\u001b[38;5;124mf\u001b[39m\u001b[38;5;124m\"\u001b[39m\u001b[38;5;124mCould not extract zip file: \u001b[39m\u001b[38;5;132;01m{\u001b[39;00me\u001b[38;5;132;01m}\u001b[39;00m\u001b[38;5;124m\"\u001b[39m)\n\u001b[1;32m    351\u001b[0m \u001b[38;5;66;03m# Remove temporary zip file\u001b[39;00m\n\u001b[0;32m--> 352\u001b[0m \u001b[43mos\u001b[49m\u001b[38;5;241;43m.\u001b[39;49m\u001b[43mremove\u001b[49m\u001b[43m(\u001b[49m\u001b[43mfile_path\u001b[49m\u001b[43m)\u001b[49m\n",
      "\u001b[0;31mFileNotFoundError\u001b[0m: [Errno 2] No such file or directory: '../data/crowdsourced/raw.zip'"
     ]
    }
   ],
   "source": [
    "# Demo: Raw Crowdsourced data\n",
    "raw_crowdsourced_data_path = os.path.join(\"..\", \"data\", \"crowdsourced\", \"raw\")\n",
    "expected_files = [\"labeled.csv\", \"categories.json\", \"content.pkl\"]\n",
    "os.system(f\"rm {raw_crowdsourced_data_path}/*\")\n",
    "\n",
    "start = time.time()\n",
    "utils.download_if_not_present(\n",
    "    dir_path=raw_crowdsourced_data_path,\n",
    "    gdrive_url=..., # TODO: resolve the download issue due to the possible infected file\n",
    "    expected_files=expected_files,\n",
    ")\n",
    "print(\n",
    "    f\"\\n✅ (Down)loaded raw crowdsourced data ({(time.time() - start):.2f}s).\")\n",
    "\n",
    "start = time.time()\n",
    "labeled, categories, content = utils.load(\n",
    "    dir_path=raw_crowdsourced_data_path,\n",
    "    expected_files=expected_files,\n",
    ")\n",
    "print(f\"✅ Loaded raw crowdsourced data ({(time.time() - start):.2f}s).\")\n",
    "\n",
    "labeled.head()"
   ]
  },
  {
   "cell_type": "code",
   "execution_count": null,
   "metadata": {},
   "outputs": [],
   "source": [
    "# Demo: Processed Crowdsourced data\n",
    "processed_crowdsourced_data_path = os.path.join(\n",
    "    \"..\", \"data\", \"crowdsourced\", \"processed\"\n",
    ")\n",
    "expected_files = [\"websites.csv\"]\n",
    "os.system(f\"rm {processed_crowdsourced_data_path}/*\")\n",
    "\n",
    "start = time.time()\n",
    "utils.download_if_not_present(\n",
    "    dir_path=processed_crowdsourced_data_path,\n",
    "    gdrive_url=\"https://drive.google.com/u/0/uc?id=1Hyg6ASSVIdUHXagx2TUWwjXVIGUTIew_&export=download\",\n",
    "    expected_files=expected_files,\n",
    ")\n",
    "print(\n",
    "    f\"\\n✅ (Down)loaded processed crowdsourced data ({(time.time() - start):.2f}s).\")\n",
    "\n",
    "start = time.time()\n",
    "websites = utils.load(\n",
    "    dir_path=processed_crowdsourced_data_path,\n",
    "    expected_files=expected_files,\n",
    ")\n",
    "print(f\"✅ Loaded crowdsourced data ({(time.time() - start):.2f}s).\")\n",
    "\n",
    "websites[0].head()"
   ]
  },
  {
   "cell_type": "code",
   "execution_count": null,
   "metadata": {},
   "outputs": [],
   "source": [
    "# Demo: Embedded Crowdsourced data\n",
    "embedded_crowdsourced_data_path = os.path.join(\"..\", \"data\", \"crowdsourced\", \"embedded\")\n",
    "expected_files = [\"embeddings.pt\", \"labels.pt\"]\n",
    "os.system(f\"rm {embedded_crowdsourced_data_path}/*\")\n",
    "\n",
    "start = time.time()\n",
    "utils.download_if_not_present(\n",
    "    dir_path=embedded_crowdsourced_data_path,\n",
    "    gdrive_url=\"https://drive.google.com/u/0/uc?id=1bYLc6DvZZT7JGVrSZjt54Ciw7qH6MMWn&export=download\",\n",
    "    expected_files=expected_files,\n",
    ")\n",
    "print(f\"\\n✅ (Down)loaded embedded crowdsourced data ({(time.time() - start):.2f}s).\")\n",
    "\n",
    "start = time.time()\n",
    "embeddings, labels = utils.load(\n",
    "    dir_path=embedded_crowdsourced_data_path,\n",
    "    expected_files=expected_files,\n",
    ")\n",
    "print(f\"✅ Loaded crowdsourced data ({(time.time() - start):.2f}s).\")\n",
    "\n",
    "embeddings.shape, labels.shape"
   ]
  },
  {
   "cell_type": "code",
   "execution_count": null,
   "metadata": {},
   "outputs": [],
   "source": [
    "# Demo: Curlie data (excludes raw HTML content)\n",
    "curlie_path = os.path.join(conf.DATA_PATH, \"curlie\")\n",
    "os.system(f\"rm {curlie_path}/*\")\n",
    "\n",
    "start = time.time()\n",
    "curlie_data = utils.load_curlie_data(curlie_path)\n",
    "\n",
    "print(f\"\\n✅ (Down)loaded Curlie data ({(time.time() - start):.2f}s).\")\n",
    "\n",
    "start = time.time()\n",
    "curlie_data = utils.load_curlie_data(curlie_path)\n",
    "\n",
    "print(f\"✅ Loaded Curlie data ({(time.time() - start):.2f}s).\")"
   ]
  }
 ],
 "metadata": {
  "kernelspec": {
   "display_name": "ml-project-2-mlp-a6NSXBdT-py3.10",
   "language": "python",
   "name": "python3"
  },
  "language_info": {
   "codemirror_mode": {
    "name": "ipython",
    "version": 3
   },
   "file_extension": ".py",
   "mimetype": "text/x-python",
   "name": "python",
   "nbconvert_exporter": "python",
   "pygments_lexer": "ipython3",
   "version": "3.10.13"
  }
 },
 "nbformat": 4,
 "nbformat_minor": 2
}
