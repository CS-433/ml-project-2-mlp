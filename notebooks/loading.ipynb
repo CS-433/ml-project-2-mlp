{
 "cells": [
  {
   "cell_type": "markdown",
   "metadata": {},
   "source": [
    "# Data Loading\n",
    "\n",
    "This notebook shows how to download/ load the data and models which are used in\n",
    "this project.\n"
   ]
  },
  {
   "cell_type": "code",
   "execution_count": null,
   "metadata": {},
   "outputs": [],
   "source": [
    "# ruff: noqa\n",
    "%reload_ext autoreload\n",
    "%autoreload 2\n",
    "\n",
    "# External imports\n",
    "import os\n",
    "import time\n",
    "import logging\n",
    "\n",
    "# Internal imports\n",
    "import ml_project_2_mlp.utils as utils\n",
    "import ml_project_2_mlp.conf as conf\n",
    "import ml_project_2_mlp.log as log"
   ]
  },
  {
   "cell_type": "code",
   "execution_count": null,
   "metadata": {},
   "outputs": [],
   "source": [
    "# Set logging level to INFO (detailed logs)\n",
    "log.setup_logging(logging.INFO)"
   ]
  },
  {
   "cell_type": "code",
   "execution_count": null,
   "metadata": {},
   "outputs": [],
   "source": [
    "paths = [conf.MODELS_PATH, conf.DATA_PATH]\n",
    "\n",
    "# Paths have to be created before loading the data\n",
    "for path in paths:\n",
    "    os.makedirs(path, exist_ok=True)"
   ]
  },
  {
   "cell_type": "code",
   "execution_count": null,
   "metadata": {},
   "outputs": [],
   "source": [
    "# Demo: Homepage2Vec model\n",
    "homepage2vec_path = os.path.join(conf.MODELS_PATH, \"homepage2vec\")\n",
    "os.system(f\"rm {homepage2vec_path}/*\")\n",
    "\n",
    "start = time.time()\n",
    "model, features = utils.load_homepage2vec(homepage2vec_path)\n",
    "\n",
    "print(f\"\\n✅ (Down)loaded homepage2vec model ({(time.time() - start):.2f}s).\")\n",
    "\n",
    "start = time.time()\n",
    "model, features = utils.load_homepage2vec(homepage2vec_path)\n",
    "print(f\"✅ Loaded homepage2vec model ({(time.time() - start):.2f}s).\")"
   ]
  },
  {
   "cell_type": "code",
   "execution_count": null,
   "metadata": {},
   "outputs": [],
   "source": [
    "# Demo: Crowdsourced data\n",
    "crowdsourced_data = os.path.join(conf.DATA_PATH, \"crowdsourced\")\n",
    "os.system(f\"rm {crowdsourced_data}/*\")\n",
    "\n",
    "start = time.time()\n",
    "labeled, categories = utils.load_crowdsourced_data(crowdsourced_data)\n",
    "\n",
    "print(f\"\\n✅ (Down)loaded crowdsourced data ({(time.time() - start):.2f}s).\")\n",
    "\n",
    "start = time.time()\n",
    "labeled, categories = utils.load_crowdsourced_data(crowdsourced_data)\n",
    "\n",
    "print(f\"✅ Loaded crowdsourced data ({(time.time() - start):.2f}s).\")"
   ]
  },
  {
   "cell_type": "code",
   "execution_count": null,
   "metadata": {},
   "outputs": [],
   "source": [
    "# Demo: Curlie data (excludes raw HTML content)\n",
    "curlie_path = os.path.join(conf.DATA_PATH, \"curlie\")\n",
    "os.system(f\"rm {curlie_path}/*\")\n",
    "\n",
    "start = time.time()\n",
    "curlie_data = utils.load_curlie_data(curlie_path)\n",
    "\n",
    "print(f\"\\n✅ (Down)loaded Curlie data ({(time.time() - start):.2f}s).\")\n",
    "\n",
    "start = time.time()\n",
    "curlie_data = utils.load_curlie_data(curlie_path)\n",
    "\n",
    "print(f\"✅ Loaded Curlie data ({(time.time() - start):.2f}s).\")"
   ]
  }
 ],
 "metadata": {
  "kernelspec": {
   "display_name": "ml-project-2-mlp-a6NSXBdT-py3.10",
   "language": "python",
   "name": "python3"
  },
  "language_info": {
   "codemirror_mode": {
    "name": "ipython",
    "version": 3
   },
   "file_extension": ".py",
   "mimetype": "text/x-python",
   "name": "python",
   "nbconvert_exporter": "python",
   "pygments_lexer": "ipython3",
   "version": "3.10.13"
  }
 },
 "nbformat": 4,
 "nbformat_minor": 2
}
