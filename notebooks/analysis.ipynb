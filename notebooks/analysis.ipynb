{
 "cells": [
  {
   "cell_type": "markdown",
   "metadata": {},
   "source": [
    "### Setup\n",
    "\n",
    "---"
   ]
  },
  {
   "cell_type": "code",
   "execution_count": 13,
   "metadata": {},
   "outputs": [
    {
     "name": "stdout",
     "output_type": "stream",
     "text": [
      "The autoreload extension is already loaded. To reload it, use:\n",
      "  %reload_ext autoreload\n"
     ]
    }
   ],
   "source": [
    "%load_ext autoreload\n",
    "%autoreload 2\n",
    "\n",
    "import pickle\n",
    "import os\n",
    "\n",
    "from ml_project_2_mlp import metrics, gpt\n",
    "\n",
    "import pandas as pd"
   ]
  },
  {
   "cell_type": "markdown",
   "metadata": {},
   "source": [
    "### Load the data\n",
    "\n",
    "---"
   ]
  },
  {
   "cell_type": "code",
   "execution_count": 15,
   "metadata": {},
   "outputs": [],
   "source": [
    "# Ground truth crowdsourced data\n",
    "labels_path = os.path.join(\"..\", \"data\", \"crowdsourced\", \"processed\", \"websites.csv\")\n",
    "labels = pd.read_csv(labels_path).rename(columns={\"Input.uid\": \"wid\"}).set_index(\"wid\")\n",
    "\n",
    "# GPT labeled data\n",
    "folder_path = os.path.join(\"..\", \"data\", \"tld_domain_meta\")\n",
    "with open(os.path.join(folder_path, \"labeled_data.pkl\"), \"rb\") as f:\n",
    "    c1_preds = pickle.load(f)\n",
    "\n",
    "folder_path = os.path.join(\"..\", \"data\", \"tld_domain_meta_title_desc_kws\")\n",
    "with open(os.path.join(folder_path, \"labeled_data.pkl\"), \"rb\") as f:\n",
    "    c2_preds = pickle.load(f)\n",
    "\n",
    "folder_path = os.path.join(\"..\", \"data\", \"tld_domain_meta_title_desc_kws\")\n",
    "with open(os.path.join(folder_path, \"labeled_data.pkl\"), \"rb\") as f:\n",
    "    c3_preds = pickle.load(f)\n",
    "\n",
    "# Categories that GPT had to predict\n",
    "categories = gpt.GPTLabeler.categories"
   ]
  },
  {
   "cell_type": "markdown",
   "metadata": {},
   "source": [
    "### Analyse the performance on the individual contexts\n",
    "\n",
    "---"
   ]
  },
  {
   "cell_type": "code",
   "execution_count": 43,
   "metadata": {},
   "outputs": [
    {
     "name": "stdout",
     "output_type": "stream",
     "text": [
      "c1: tld, domain, meata\n",
      "- accuracy: 0.825\n",
      "- precision: 0.540\n",
      "- recall: 0.142\n",
      "- f1: 0.225\n",
      "\n",
      "c2: c1 + title, desc, kws\n",
      "- accuracy: 0.824\n",
      "- precision: 0.509\n",
      "- recall: 0.390\n",
      "- f1: 0.441\n",
      "\n",
      "c3: c2 + links, text\n",
      "- accuracy: 0.824\n",
      "- precision: 0.509\n",
      "- recall: 0.390\n",
      "- f1: 0.441\n",
      "\n"
     ]
    }
   ],
   "source": [
    "predictions = [\n",
    "    (\"c1: tld, domain, meata\", c1_preds),\n",
    "    (\"c2: c1 + title, desc, kws\", c2_preds),\n",
    "    (\"c3: c2 + links, text\", c3_preds),\n",
    "]\n",
    "score_names = [\"accuracy\", \"precision\", \"recall\", \"f1\"]\n",
    "\n",
    "\n",
    "for context, preds in predictions:\n",
    "    # Compute metrics\n",
    "    performance = metrics.compute_metrics(labels, preds, categories)\n",
    "\n",
    "    # Print metrics\n",
    "    print(context)\n",
    "    for score_name in score_names:\n",
    "        print(f\"- {score_name}: {performance[score_name]:.3f}\")\n",
    "    print()"
   ]
  },
  {
   "cell_type": "code",
   "execution_count": null,
   "metadata": {},
   "outputs": [],
   "source": []
  }
 ],
 "metadata": {
  "kernelspec": {
   "display_name": "ml-project-2-mlp-rx2AOdW0-py3.10",
   "language": "python",
   "name": "python3"
  },
  "language_info": {
   "codemirror_mode": {
    "name": "ipython",
    "version": 3
   },
   "file_extension": ".py",
   "mimetype": "text/x-python",
   "name": "python",
   "nbconvert_exporter": "python",
   "pygments_lexer": "ipython3",
   "version": "3.10.13"
  }
 },
 "nbformat": 4,
 "nbformat_minor": 2
}
