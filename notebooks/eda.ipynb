{
 "cells": [
  {
   "cell_type": "markdown",
   "metadata": {},
   "source": [
    "### Setup"
   ]
  },
  {
   "cell_type": "code",
   "execution_count": 35,
   "metadata": {},
   "outputs": [],
   "source": [
    "import pandas as pd\n",
    "import json\n",
    "\n",
    "import numpy as np"
   ]
  },
  {
   "cell_type": "markdown",
   "metadata": {},
   "source": [
    "### Load Data\n",
    "\n",
    "---"
   ]
  },
  {
   "cell_type": "code",
   "execution_count": 7,
   "metadata": {},
   "outputs": [],
   "source": [
    "# Load categories.json from data/crowdsourced\n",
    "with open('../data/crowdsourced/categories.json') as f:\n",
    "    categories = json.load(f)\n",
    "\n",
    "# Load labeled.csv from data/crowdsourced\n",
    "labeled = pd.read_csv('../data/crowdsourced/labeled.csv')"
   ]
  },
  {
   "cell_type": "markdown",
   "metadata": {},
   "source": [
    "### Clean Data\n",
    "\n",
    "---"
   ]
  },
  {
   "cell_type": "markdown",
   "metadata": {},
   "source": [
    "Let's start with some basic EDA:"
   ]
  },
  {
   "cell_type": "code",
   "execution_count": 99,
   "metadata": {},
   "outputs": [
    {
     "name": "stdout",
     "output_type": "stream",
     "text": [
      "Task title: Select all categories that are relevant for the website (English websites)\n",
      "Task description: Given a screenshot, title, and description of a website, select all the relevant categories.\n",
      "Task reward: $0.10\n",
      "--------------------------------------------------\n",
      "✅ All records have AssignmentStatus Approved\n",
      "✅ This checks with the max assignments allowed.\n",
      "🔎 There are 840 websites each annotated by 3 labelers\n",
      "🔎 There are 3 unique responses: {'NO', 'UNSURE', 'YES'}\n",
      "🔎 On average each labeler annotated 60.0 pages\n",
      "❗️ Input.title has 2.86% missing values\n",
      "❗️ Input.description has 46.19% missing values\n",
      "✅ All records has taskAnswers list length = 1\n"
     ]
    }
   ],
   "source": [
    "# Show what was the title and description of the task\n",
    "print(f\"Task title: {labeled['Title'][0]}\")\n",
    "print(f\"Task description: {labeled['Description'][0]}\")\n",
    "print(f\"Task reward: {labeled['Reward'][0]}\")\n",
    "print(\"-\"*50)\n",
    "\n",
    "# Make sure that for all records, AssignmentStatus is Approved\n",
    "assert len(labeled['AssignmentStatus'].unique()) == 1 and labeled['AssignmentStatus'].unique()[0] == 'Approved', 'AssignmentStatus is not Approved'\n",
    "print('✅ All records have AssignmentStatus Approved')\n",
    "\n",
    "# Confirm that all pages are assigned with at most 3 assignments\n",
    "max_assignments, count = np.unique(labeled['MaxAssignments'], return_counts=True)\n",
    "assert len(max_assignments) == 1 and max_assignments[0] == 3, 'MaxAssignments is not 3'\n",
    "print(\"✅ This checks with the max assignments allowed.\")\n",
    "\n",
    "# Number of records per unique page\n",
    "number_of_labels, count = np.unique(labeled['Input.uid'].value_counts(), return_counts=True)\n",
    "for numlabels, c in zip(number_of_labels, count):\n",
    "    print(f'🔎 There are {c} websites each annotated by {numlabels} labelers')\n",
    "\n",
    "# Show the unique responses for each question\n",
    "answers = set()\n",
    "for answer in labeled['Answer.taskAnswers']:\n",
    "    parsed_answer = json.loads(answer)\n",
    "    answers.update([v for v in parsed_answer[0].values() if type(v) == str])\n",
    "print(f'🔎 There are {len(answers)} unique responses: {answers}')\n",
    "\n",
    "# Average number of labels per user\n",
    "avg_user_labels = labeled['WorkerId'].value_counts().mean()\n",
    "print(f'🔎 On average each labeler annotated {avg_user_labels} pages')\n",
    "\n",
    "# Check missing values for Input.url, Input.screenshot, Input.title, Input.description, report in percentage\n",
    "for col in ['Input.url', 'Input.screenshot', 'Input.title', 'Input.description']:\n",
    "    miss_vals = labeled[col].isna().sum() / len(labeled) * 100\n",
    "    if miss_vals > 0:\n",
    "        print(f'❗️ {col} has {miss_vals:.2f}% missing values')\n",
    "\n",
    "# Get unique answers\n",
    "answers = set()\n",
    "total = 0\n",
    "for answer in labeled['Answer.taskAnswers']:\n",
    "    parsed_answer = json.loads(answer)\n",
    "    if len(parsed_answer) > 1:\n",
    "        total += 1\n",
    "if total > 0:\n",
    "    print(f'❗️ There are {total} records with taskAnswers list length > 1')\n",
    "else:\n",
    "    print('✅ All records has taskAnswers list length = 1')"
   ]
  },
  {
   "cell_type": "markdown",
   "metadata": {},
   "source": [
    "Next, let's one hot encode the column `Answer.taskAnswers` based on the dictionary that each row includes:"
   ]
  },
  {
   "cell_type": "code",
   "execution_count": null,
   "metadata": {},
   "outputs": [],
   "source": [
    "# Create idx2cat and cat2idx mappings\n",
    "idx2cat = {idx : categories[idx]['name'] for idx in categories}\n",
    "cat2idx = {categories[idx]['name'] : idx for idx in categories}\n",
    "\n",
    "# Create a new column for the category name\n",
    "eval_answer = lambda x: True if x == 'Yes' else False\n",
    "labeled['categories'] = labeled['Answer.taskAnswers'].apply(lambda x: idx2cat[x])"
   ]
  }
 ],
 "metadata": {
  "kernelspec": {
   "display_name": "cs502",
   "language": "python",
   "name": "python3"
  },
  "language_info": {
   "codemirror_mode": {
    "name": "ipython",
    "version": 3
   },
   "file_extension": ".py",
   "mimetype": "text/x-python",
   "name": "python",
   "nbconvert_exporter": "python",
   "pygments_lexer": "ipython3",
   "version": "3.9.18"
  }
 },
 "nbformat": 4,
 "nbformat_minor": 2
}
