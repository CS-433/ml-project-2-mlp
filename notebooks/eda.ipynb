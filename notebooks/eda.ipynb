{
 "cells": [
  {
   "cell_type": "markdown",
   "metadata": {},
   "source": [
    "### Setup\n"
   ]
  },
  {
   "cell_type": "code",
   "execution_count": 32,
   "metadata": {},
   "outputs": [],
   "source": [
    "import warnings\n",
    "from sklearn.metrics import cohen_kappa_score\n",
    "from statsmodels.stats.inter_rater import fleiss_kappa, aggregate_raters\n",
    "import krippendorff\n",
    "import pandas as pd\n",
    "import json\n",
    "import numpy as np\n",
    "\n",
    "import matplotlib.pyplot as plt\n",
    "import seaborn as sns\n",
    "\n",
    "sns.set_style(\"whitegrid\")\n",
    "\n",
    "\n",
    "seed = 42\n",
    "\n",
    "# Turn of warnings\n",
    "\n",
    "warnings.filterwarnings(\"ignore\")"
   ]
  },
  {
   "cell_type": "markdown",
   "metadata": {},
   "source": [
    "### Load Data\n",
    "\n",
    "---\n"
   ]
  },
  {
   "cell_type": "code",
   "execution_count": 33,
   "metadata": {},
   "outputs": [],
   "source": [
    "# Load categories.json from data/crowdsourced\n",
    "with open(\"../data/crowdsourced/categories.json\") as f:\n",
    "    categories = json.load(f)\n",
    "\n",
    "# Load labeled.csv from data/crowdsourced\n",
    "labeled = pd.read_csv(\"../data/crowdsourced/labeled.csv\")"
   ]
  },
  {
   "cell_type": "markdown",
   "metadata": {},
   "source": [
    "### Clean and Inspect Data\n",
    "\n",
    "---\n"
   ]
  },
  {
   "cell_type": "markdown",
   "metadata": {},
   "source": [
    "Let's start with some basic EDA:\n"
   ]
  },
  {
   "cell_type": "code",
   "execution_count": 34,
   "metadata": {},
   "outputs": [
    {
     "name": "stdout",
     "output_type": "stream",
     "text": [
      "Task title: Select all categories that are relevant for the website (English websites)\n",
      "Task description: Given a screenshot, title, and description of a website, select all the relevant categories.\n",
      "Task reward: $0.10\n"
     ]
    }
   ],
   "source": [
    "print(f\"Task title: {labeled['Title'][0]}\")\n",
    "print(f\"Task description: {labeled['Description'][0]}\")\n",
    "print(f\"Task reward: {labeled['Reward'][0]}\")"
   ]
  },
  {
   "cell_type": "code",
   "execution_count": 35,
   "metadata": {},
   "outputs": [
    {
     "name": "stdout",
     "output_type": "stream",
     "text": [
      "There are 840 websites each annotated by 3 labelers\n",
      "There are 3 unique responses: {'NO', 'YES', 'UNSURE'}\n",
      "On average each labeler annotated 60.0 pages\n"
     ]
    }
   ],
   "source": [
    "# Number of records per unique page\n",
    "number_of_labels, count = np.unique(\n",
    "    labeled[\"Input.uid\"].value_counts(), return_counts=True\n",
    ")\n",
    "for numlabels, c in zip(number_of_labels, count):\n",
    "    print(f\"There are {c} websites each annotated by {numlabels} labelers\")\n",
    "\n",
    "# Show the unique responses for each question\n",
    "answers = set()\n",
    "for answer in labeled[\"Answer.taskAnswers\"]:\n",
    "    parsed_answer = json.loads(answer)\n",
    "    answers.update([v for v in parsed_answer[0].values() if type(v) == str])\n",
    "print(f\"There are {len(answers)} unique responses: {answers}\")\n",
    "\n",
    "# Average number of labels per user\n",
    "avg_user_labels = labeled[\"WorkerId\"].value_counts().mean()\n",
    "print(f\"On average each labeler annotated {avg_user_labels} pages\")"
   ]
  },
  {
   "cell_type": "code",
   "execution_count": 36,
   "metadata": {},
   "outputs": [
    {
     "name": "stdout",
     "output_type": "stream",
     "text": [
      "✅ All records have AssignmentStatus Approved\n",
      "✅ This checks with the max assignments allowed.\n",
      "✅ All records has taskAnswers list length = 1\n",
      "❗️ Input.title has 2.86% missing values\n",
      "❗️ Input.description has 46.19% missing values\n"
     ]
    }
   ],
   "source": [
    "# Make sure that for all records, AssignmentStatus is Approved\n",
    "assert (\n",
    "    len(labeled[\"AssignmentStatus\"].unique()) == 1\n",
    "    and labeled[\"AssignmentStatus\"].unique()[0] == \"Approved\"\n",
    "), \"AssignmentStatus is not Approved\"\n",
    "print(\"✅ All records have AssignmentStatus Approved\")\n",
    "\n",
    "# Confirm that all pages are assigned with at most 3 assignments\n",
    "max_assignments, count = np.unique(\n",
    "    labeled[\"MaxAssignments\"], return_counts=True)\n",
    "assert len(\n",
    "    max_assignments) == 1 and max_assignments[0] == 3, \"MaxAssignments is not 3\"\n",
    "print(\"✅ This checks with the max assignments allowed.\")\n",
    "\n",
    "\n",
    "# Get Double Check that the list in TaskAnswers is of length 1 always\n",
    "answers = set()\n",
    "total = 0\n",
    "for answer in labeled[\"Answer.taskAnswers\"]:\n",
    "    parsed_answer = json.loads(answer)\n",
    "    if len(parsed_answer) > 1:\n",
    "        total += 1\n",
    "if total > 0:\n",
    "    print(f\"❗️ There are {total} records with taskAnswers list length > 1\")\n",
    "else:\n",
    "    print(\"✅ All records has taskAnswers list length = 1\")\n",
    "\n",
    "# Check missing values for Input.url, Input.screenshot, Input.title, Input.description, report in percentage\n",
    "for col in [\"Input.url\", \"Input.screenshot\", \"Input.title\", \"Input.description\"]:\n",
    "    miss_vals = labeled[col].isna().sum() / len(labeled) * 100\n",
    "    if miss_vals > 0:\n",
    "        print(f\"❗️ {col} has {miss_vals:.2f}% missing values\")"
   ]
  },
  {
   "cell_type": "markdown",
   "metadata": {},
   "source": [
    "Next, let's one hot encode the column `Answer.taskAnswers` based on the\n",
    "dictionary that each row includes:\n"
   ]
  },
  {
   "cell_type": "code",
   "execution_count": 37,
   "metadata": {},
   "outputs": [
    {
     "data": {
      "text/html": [
       "<div>\n",
       "<style scoped>\n",
       "    .dataframe tbody tr th:only-of-type {\n",
       "        vertical-align: middle;\n",
       "    }\n",
       "\n",
       "    .dataframe tbody tr th {\n",
       "        vertical-align: top;\n",
       "    }\n",
       "\n",
       "    .dataframe thead th {\n",
       "        text-align: right;\n",
       "    }\n",
       "</style>\n",
       "<table border=\"1\" class=\"dataframe\">\n",
       "  <thead>\n",
       "    <tr style=\"text-align: right;\">\n",
       "      <th></th>\n",
       "      <th>Input.uid</th>\n",
       "      <th>Input.url</th>\n",
       "      <th>Arts</th>\n",
       "      <th>Business</th>\n",
       "      <th>Computers</th>\n",
       "      <th>Games</th>\n",
       "      <th>Health</th>\n",
       "      <th>Home</th>\n",
       "      <th>Kids_and_Teens</th>\n",
       "      <th>News</th>\n",
       "      <th>Recreation</th>\n",
       "      <th>Reference</th>\n",
       "      <th>Science</th>\n",
       "      <th>Shopping</th>\n",
       "      <th>Society</th>\n",
       "      <th>Sports</th>\n",
       "    </tr>\n",
       "  </thead>\n",
       "  <tbody>\n",
       "    <tr>\n",
       "      <th>0</th>\n",
       "      <td>1161124</td>\n",
       "      <td>www.pointlesssites.com</td>\n",
       "      <td>0</td>\n",
       "      <td>0</td>\n",
       "      <td>1</td>\n",
       "      <td>1</td>\n",
       "      <td>0</td>\n",
       "      <td>1</td>\n",
       "      <td>1</td>\n",
       "      <td>0</td>\n",
       "      <td>1</td>\n",
       "      <td>0</td>\n",
       "      <td>0</td>\n",
       "      <td>0</td>\n",
       "      <td>0</td>\n",
       "      <td>0</td>\n",
       "    </tr>\n",
       "    <tr>\n",
       "      <th>1</th>\n",
       "      <td>1161124</td>\n",
       "      <td>www.pointlesssites.com</td>\n",
       "      <td>0</td>\n",
       "      <td>0</td>\n",
       "      <td>0</td>\n",
       "      <td>1</td>\n",
       "      <td>0</td>\n",
       "      <td>1</td>\n",
       "      <td>1</td>\n",
       "      <td>0</td>\n",
       "      <td>1</td>\n",
       "      <td>0</td>\n",
       "      <td>0</td>\n",
       "      <td>0</td>\n",
       "      <td>1</td>\n",
       "      <td>0</td>\n",
       "    </tr>\n",
       "    <tr>\n",
       "      <th>2</th>\n",
       "      <td>1161124</td>\n",
       "      <td>www.pointlesssites.com</td>\n",
       "      <td>1</td>\n",
       "      <td>0</td>\n",
       "      <td>1</td>\n",
       "      <td>0</td>\n",
       "      <td>0</td>\n",
       "      <td>0</td>\n",
       "      <td>0</td>\n",
       "      <td>0</td>\n",
       "      <td>1</td>\n",
       "      <td>0</td>\n",
       "      <td>0</td>\n",
       "      <td>0</td>\n",
       "      <td>0</td>\n",
       "      <td>0</td>\n",
       "    </tr>\n",
       "    <tr>\n",
       "      <th>3</th>\n",
       "      <td>1081241</td>\n",
       "      <td>www.connecticutplastics.com</td>\n",
       "      <td>0</td>\n",
       "      <td>1</td>\n",
       "      <td>1</td>\n",
       "      <td>0</td>\n",
       "      <td>1</td>\n",
       "      <td>0</td>\n",
       "      <td>0</td>\n",
       "      <td>0</td>\n",
       "      <td>0</td>\n",
       "      <td>0</td>\n",
       "      <td>1</td>\n",
       "      <td>0</td>\n",
       "      <td>0</td>\n",
       "      <td>0</td>\n",
       "    </tr>\n",
       "    <tr>\n",
       "      <th>4</th>\n",
       "      <td>1081241</td>\n",
       "      <td>www.connecticutplastics.com</td>\n",
       "      <td>0</td>\n",
       "      <td>0</td>\n",
       "      <td>0</td>\n",
       "      <td>0</td>\n",
       "      <td>1</td>\n",
       "      <td>0</td>\n",
       "      <td>0</td>\n",
       "      <td>0</td>\n",
       "      <td>0</td>\n",
       "      <td>0</td>\n",
       "      <td>0</td>\n",
       "      <td>0</td>\n",
       "      <td>0</td>\n",
       "      <td>0</td>\n",
       "    </tr>\n",
       "  </tbody>\n",
       "</table>\n",
       "</div>"
      ],
      "text/plain": [
       "   Input.uid                    Input.url  Arts  Business  Computers  Games  \\\n",
       "0    1161124       www.pointlesssites.com     0         0          1      1   \n",
       "1    1161124       www.pointlesssites.com     0         0          0      1   \n",
       "2    1161124       www.pointlesssites.com     1         0          1      0   \n",
       "3    1081241  www.connecticutplastics.com     0         1          1      0   \n",
       "4    1081241  www.connecticutplastics.com     0         0          0      0   \n",
       "\n",
       "   Health  Home  Kids_and_Teens  News  Recreation  Reference  Science  \\\n",
       "0       0     1               1     0           1          0        0   \n",
       "1       0     1               1     0           1          0        0   \n",
       "2       0     0               0     0           1          0        0   \n",
       "3       1     0               0     0           0          0        1   \n",
       "4       1     0               0     0           0          0        0   \n",
       "\n",
       "   Shopping  Society  Sports  \n",
       "0         0        0       0  \n",
       "1         0        1       0  \n",
       "2         0        0       0  \n",
       "3         0        0       0  \n",
       "4         0        0       0  "
      ]
     },
     "execution_count": 37,
     "metadata": {},
     "output_type": "execute_result"
    }
   ],
   "source": [
    "# Create idx2cat and cat2idx mappings\n",
    "idx2cat = {idx: categories[idx][\"name\"] for idx in categories}\n",
    "cat2idx = {categories[idx][\"name\"]: idx for idx in categories}\n",
    "\n",
    "# Create a new column AnswersParsed\n",
    "labeled[\"AnswersParsed\"] = labeled[\"Answer.taskAnswers\"].apply(\n",
    "    lambda x: {\n",
    "        k.split(\"-\")[-1]: v for k, v in json.loads(x)[0].items() if type(v) == str\n",
    "    }\n",
    ")\n",
    "\n",
    "# Obtain the selected Idx and corresponding categories\n",
    "labeled[\"SelectedIdx\"] = labeled[\"AnswersParsed\"].apply(\n",
    "    lambda x: [k for k, v in x.items() if v == \"YES\"]\n",
    ")\n",
    "labeled[\"SelectedCategories\"] = labeled[\"SelectedIdx\"].apply(\n",
    "    lambda x: [idx2cat[idx] for idx in x]\n",
    ")\n",
    "\n",
    "# Now, let's one hot encode the selected categories\n",
    "for cat in cat2idx:\n",
    "    labeled[cat] = labeled[\"SelectedCategories\"].apply(\n",
    "        lambda x: 1 if cat in x else 0)\n",
    "\n",
    "relevant_columns = [\"Input.uid\", \"Input.url\"] + list(cat2idx)\n",
    "labeled = labeled[relevant_columns]\n",
    "labeled.head()"
   ]
  },
  {
   "cell_type": "markdown",
   "metadata": {},
   "source": [
    "Now, for each website and category, we want to look at the aggreement accross\n",
    "annotators.\n"
   ]
  },
  {
   "cell_type": "code",
   "execution_count": 38,
   "metadata": {},
   "outputs": [
    {
     "data": {
      "text/plain": [
       "0.035253327789045885"
      ]
     },
     "execution_count": 38,
     "metadata": {},
     "output_type": "execute_result"
    }
   ],
   "source": [
    "# rel = labeled.groupby(\"Input.uid\").sum().iloc[:, 2:].to_numpy().shape\n",
    "krippendorff.alpha(\n",
    "    reliability_data=labeled.groupby(\"Input.uid\").sum().iloc[:, 2:].to_numpy(),\n",
    "    level_of_measurement=\"nominal\",\n",
    ")"
   ]
  },
  {
   "cell_type": "code",
   "execution_count": 40,
   "metadata": {},
   "outputs": [
    {
     "data": {
      "image/png": "[encoded data removed]",
      "text/plain": [
       "<Figure size 640x480 with 1 Axes>"
      ]
     },
     "metadata": {},
     "output_type": "display_data"
    }
   ],
   "source": [
    "website_ids = labeled[\"Input.uid\"].unique()\n",
    "aggrements = []\n",
    "for wid in website_ids:\n",
    "    # Get all the annotations for this website\n",
    "    annotations = labeled[labeled[\"Input.uid\"] == wid].iloc[:, 2:].to_numpy()\n",
    "\n",
    "    # Pair the annotations\n",
    "    kappas = []\n",
    "    for i in range(len(annotations)):\n",
    "        for j in range(i + 1, len(annotations)):\n",
    "            kappas.append(cohen_kappa_score(annotations[i], annotations[j]))\n",
    "\n",
    "    # Take the average of all the kappas\n",
    "    avg_kappa = np.mean(kappas)\n",
    "\n",
    "    # If nan, then set to 0\n",
    "    if np.isnan(avg_kappa):\n",
    "        avg_kappa = 0\n",
    "\n",
    "    # Save the average kappa for this website\n",
    "    aggrements.append([wid, avg_kappa])\n",
    "\n",
    "# Turn into pandas dataframe\n",
    "aggrements = pd.DataFrame(aggrements, columns=[\"Input.uid\", \"Aggrement\"])\n",
    "\n",
    "# Plot the distribution of aggrements\n",
    "sns.histplot(aggrements[\"Aggrement\"])\n",
    "plt.title(\n",
    "    \"Distribution of Aggrements with mean = {:.2f}\".format(\n",
    "        aggrements[\"Aggrement\"].mean()\n",
    "    )\n",
    ")"
   ]
  },
  {
   "cell_type": "markdown",
   "metadata": {},
   "source": [
    "Next, let's use different aggregation strategies to obtain final labels for each\n",
    "webpage:\n"
   ]
  },
  {
   "cell_type": "code",
   "execution_count": 140,
   "metadata": {},
   "outputs": [
    {
     "name": "stdout",
     "output_type": "stream",
     "text": [
      "For threshold = 1, the mean number of categories per website is 6.19\n",
      "For threshold = 2, the mean number of categories per website is 1.67\n",
      "For threshold = 3, the mean number of categories per website is 0.28\n"
     ]
    },
    {
     "data": {
      "image/png": "[encoded data removed]",
      "text/plain": [
       "<Figure size 1500x500 with 3 Axes>"
      ]
     },
     "metadata": {},
     "output_type": "display_data"
    }
   ],
   "source": [
    "# Compute for each website the number of times the website was assigned given label\n",
    "page_labc = labeled.groupby(\"Input.uid\").sum()\n",
    "\n",
    "# For each website, decided whether it belongs to the category or not based on the threshold = min. number of annotations\n",
    "thresholds = [1, 2, 3]\n",
    "thresholded = []\n",
    "for t in thresholds:\n",
    "    thresholded.append((page_labc.iloc[:, 3:] >= t).astype(int))\n",
    "\n",
    "# Show the distribution of the number of categories per website\n",
    "numlab_dist = [thresholded[t - 1].sum(axis=1) for t in thresholds]\n",
    "print(\n",
    "    f\"For threshold = 1, the mean number of categories per website is {numlab_dist[0].mean():.2f}\"\n",
    ")\n",
    "print(\n",
    "    f\"For threshold = 2, the mean number of categories per website is {numlab_dist[1].mean():.2f}\"\n",
    ")\n",
    "print(\n",
    "    f\"For threshold = 3, the mean number of categories per website is {numlab_dist[2].mean():.2f}\"\n",
    ")\n",
    "\n",
    "# Print the distribution of the number of categories per website\n",
    "fig, axs = plt.subplots(1, 3, figsize=(15, 5))\n",
    "for i, ax in enumerate(axs):\n",
    "    sns.barplot(\n",
    "        x=numlab_dist[i].value_counts().index,\n",
    "        y=numlab_dist[i].value_counts().values / numlab_dist[i].shape[0],\n",
    "        ax=ax,\n",
    "        color=\"#31748f\",\n",
    "    )"
   ]
  },
  {
   "cell_type": "markdown",
   "metadata": {},
   "source": [
    "### Process data\n"
   ]
  },
  {
   "cell_type": "code",
   "execution_count": null,
   "metadata": {},
   "outputs": [],
   "source": [
    "# Embed\n",
    "if not os.path.exists(os.path.join(self.hparams.data_dir, \"embeddings.pt\")):\n",
    "    # Load the model\n",
    "    model = WebsiteClassifier()\n",
    "\n",
    "    # Fetch the website and then embed them\n",
    "    all_embeddings, all_labels = [], []\n",
    "    for _, website in tqdm(websites.iterrows(), desc=\"Embedding\"):\n",
    "        url, labels = website[\"Input.url\"], website.iloc[-14:].values\n",
    "        # Fetch the website\n",
    "        try:\n",
    "            website = model.fetch_website(url)\n",
    "\n",
    "            # Obtain the features\n",
    "            website.features = model.get_features(\n",
    "                website.url, website.html, website.screenshot_path\n",
    "            )\n",
    "\n",
    "            # Aggregate the embedding\n",
    "            embedding = model.concatenate_features(website)\n",
    "\n",
    "            # Add to the list of embeddings\n",
    "            all_embeddings.append(list(embedding))\n",
    "            all_labels.append(list(labels))\n",
    "\n",
    "        except Exception as _:\n",
    "            pass\n",
    "\n",
    "    # Put the embeddings and labels in torch tensor\n",
    "    embeddings = torch.FloatTensor(all_embeddings)\n",
    "    labels = torch.FloatTensor(all_labels)\n",
    "\n",
    "    # Get the labels and save them\n",
    "    torch.save(embeddings, os.path.join(self.hparams.data_dir, \"embeddings.pt\"))\n",
    "    torch.save(labels, os.path.join(self.hparams.data_dir, \"labels.pt\"))"
   ]
  }
 ],
 "metadata": {
  "kernelspec": {
   "display_name": "cs502",
   "language": "python",
   "name": "python3"
  },
  "language_info": {
   "codemirror_mode": {
    "name": "ipython",
    "version": 3
   },
   "file_extension": ".py",
   "mimetype": "text/x-python",
   "name": "python",
   "nbconvert_exporter": "python",
   "pygments_lexer": "ipython3",
   "version": "3.10.13"
  }
 },
 "nbformat": 4,
 "nbformat_minor": 2
}
