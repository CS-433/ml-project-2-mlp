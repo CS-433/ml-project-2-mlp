{
 "cells": [
  {
   "cell_type": "markdown",
   "metadata": {},
   "source": [
    "### Setup\n",
    "\n",
    "---\n"
   ]
  },
  {
   "cell_type": "code",
   "execution_count": 1,
   "metadata": {},
   "outputs": [],
   "source": [
    "%load_ext autoreload\n",
    "%autoreload 2"
   ]
  },
  {
   "cell_type": "code",
   "execution_count": 1,
   "metadata": {},
   "outputs": [],
   "source": [
    "import pandas as pd\n",
    "import numpy as np\n",
    "from sklearn.metrics import cohen_kappa_score\n",
    "\n",
    "import pickle\n",
    "from tqdm import tqdm\n",
    "import json\n",
    "\n",
    "import matplotlib.pyplot as plt\n",
    "import seaborn as sns\n",
    "\n",
    "sns.set_style(\"whitegrid\")\n",
    "import bleach\n",
    "\n",
    "import warnings\n",
    "\n",
    "warnings.filterwarnings(\"ignore\")\n",
    "\n",
    "from ml_project_2_mlp import utils"
   ]
  },
  {
   "cell_type": "markdown",
   "metadata": {},
   "source": [
    "### Load Data\n",
    "\n",
    "---\n"
   ]
  },
  {
   "cell_type": "code",
   "execution_count": 2,
   "metadata": {},
   "outputs": [],
   "source": [
    "# Load categories.json from data/crowdsourced\n",
    "with open(\"../data/crowdsourced/raw/categories.json\") as f:\n",
    "    categories = json.load(f)\n",
    "\n",
    "# Load labeled.csv from data/crowdsourced\n",
    "labeled = pd.read_csv(\"../data/crowdsourced/raw/labeled.csv\")\n",
    "\n",
    "# Load the website content from data/crowdsourced from pickle\n",
    "with open(\"../data/crowdsourced/raw/content.pkl\", \"rb\") as f:\n",
    "    content = pickle.load(f)"
   ]
  },
  {
   "cell_type": "code",
   "execution_count": 6,
   "metadata": {},
   "outputs": [
    {
     "data": {
      "text/html": [
       "<div>\n",
       "<style scoped>\n",
       "    .dataframe tbody tr th:only-of-type {\n",
       "        vertical-align: middle;\n",
       "    }\n",
       "\n",
       "    .dataframe tbody tr th {\n",
       "        vertical-align: top;\n",
       "    }\n",
       "\n",
       "    .dataframe thead th {\n",
       "        text-align: right;\n",
       "    }\n",
       "</style>\n",
       "<table border=\"1\" class=\"dataframe\">\n",
       "  <thead>\n",
       "    <tr style=\"text-align: right;\">\n",
       "      <th></th>\n",
       "      <th>HITId</th>\n",
       "      <th>HITTypeId</th>\n",
       "      <th>Title</th>\n",
       "      <th>Description</th>\n",
       "      <th>Keywords</th>\n",
       "      <th>Reward</th>\n",
       "      <th>CreationTime</th>\n",
       "      <th>MaxAssignments</th>\n",
       "      <th>RequesterAnnotation</th>\n",
       "      <th>AssignmentDurationInSeconds</th>\n",
       "      <th>...</th>\n",
       "      <th>Input.uid</th>\n",
       "      <th>Input.url</th>\n",
       "      <th>Input.screenshot</th>\n",
       "      <th>Input.title</th>\n",
       "      <th>Input.description</th>\n",
       "      <th>Input.class</th>\n",
       "      <th>Input.bin</th>\n",
       "      <th>Answer.taskAnswers</th>\n",
       "      <th>Approve</th>\n",
       "      <th>Reject</th>\n",
       "    </tr>\n",
       "  </thead>\n",
       "  <tbody>\n",
       "    <tr>\n",
       "      <th>0</th>\n",
       "      <td>3U74KRR67M668DZKK1B6TSTOB6QTNJ</td>\n",
       "      <td>3WIABKGAUQLG11JEPH5ADA0NHT8E66</td>\n",
       "      <td>Select all categories that are relevant for th...</td>\n",
       "      <td>Given a screenshot, title, and description of ...</td>\n",
       "      <td>categorize, websites, topic</td>\n",
       "      <td>$0.10</td>\n",
       "      <td>Thu Jun 03 06:06:21 PDT 2021</td>\n",
       "      <td>3</td>\n",
       "      <td>BatchId:4464614;OriginalHitTemplateId:928390873;</td>\n",
       "      <td>3600</td>\n",
       "      <td>...</td>\n",
       "      <td>1161124</td>\n",
       "      <td>www.pointlesssites.com</td>\n",
       "      <td>1161124.jpeg</td>\n",
       "      <td>PointlessSites.com  Fun Things To Do When You'...</td>\n",
       "      <td>Are you bored? Want something fun to do? Check...</td>\n",
       "      <td>2</td>\n",
       "      <td>3</td>\n",
       "      <td>[{\"category-0\":\"NO\",\"category-1\":\"NO\",\"categor...</td>\n",
       "      <td>NaN</td>\n",
       "      <td>NaN</td>\n",
       "    </tr>\n",
       "    <tr>\n",
       "      <th>1</th>\n",
       "      <td>3U74KRR67M668DZKK1B6TSTOB6QTNJ</td>\n",
       "      <td>3WIABKGAUQLG11JEPH5ADA0NHT8E66</td>\n",
       "      <td>Select all categories that are relevant for th...</td>\n",
       "      <td>Given a screenshot, title, and description of ...</td>\n",
       "      <td>categorize, websites, topic</td>\n",
       "      <td>$0.10</td>\n",
       "      <td>Thu Jun 03 06:06:21 PDT 2021</td>\n",
       "      <td>3</td>\n",
       "      <td>BatchId:4464614;OriginalHitTemplateId:928390873;</td>\n",
       "      <td>3600</td>\n",
       "      <td>...</td>\n",
       "      <td>1161124</td>\n",
       "      <td>www.pointlesssites.com</td>\n",
       "      <td>1161124.jpeg</td>\n",
       "      <td>PointlessSites.com  Fun Things To Do When You'...</td>\n",
       "      <td>Are you bored? Want something fun to do? Check...</td>\n",
       "      <td>2</td>\n",
       "      <td>3</td>\n",
       "      <td>[{\"category-0\":\"NO\",\"category-1\":\"NO\",\"categor...</td>\n",
       "      <td>NaN</td>\n",
       "      <td>NaN</td>\n",
       "    </tr>\n",
       "    <tr>\n",
       "      <th>2</th>\n",
       "      <td>3U74KRR67M668DZKK1B6TSTOB6QTNJ</td>\n",
       "      <td>3WIABKGAUQLG11JEPH5ADA0NHT8E66</td>\n",
       "      <td>Select all categories that are relevant for th...</td>\n",
       "      <td>Given a screenshot, title, and description of ...</td>\n",
       "      <td>categorize, websites, topic</td>\n",
       "      <td>$0.10</td>\n",
       "      <td>Thu Jun 03 06:06:21 PDT 2021</td>\n",
       "      <td>3</td>\n",
       "      <td>BatchId:4464614;OriginalHitTemplateId:928390873;</td>\n",
       "      <td>3600</td>\n",
       "      <td>...</td>\n",
       "      <td>1161124</td>\n",
       "      <td>www.pointlesssites.com</td>\n",
       "      <td>1161124.jpeg</td>\n",
       "      <td>PointlessSites.com  Fun Things To Do When You'...</td>\n",
       "      <td>Are you bored? Want something fun to do? Check...</td>\n",
       "      <td>2</td>\n",
       "      <td>3</td>\n",
       "      <td>[{\"category-0\":\"YES\",\"category-1\":\"NO\",\"catego...</td>\n",
       "      <td>NaN</td>\n",
       "      <td>NaN</td>\n",
       "    </tr>\n",
       "    <tr>\n",
       "      <th>3</th>\n",
       "      <td>3ZURAPD2888TB1AUKU8JFH1KHWE1FC</td>\n",
       "      <td>3WIABKGAUQLG11JEPH5ADA0NHT8E66</td>\n",
       "      <td>Select all categories that are relevant for th...</td>\n",
       "      <td>Given a screenshot, title, and description of ...</td>\n",
       "      <td>categorize, websites, topic</td>\n",
       "      <td>$0.10</td>\n",
       "      <td>Thu Jun 03 06:06:31 PDT 2021</td>\n",
       "      <td>3</td>\n",
       "      <td>BatchId:4464614;OriginalHitTemplateId:928390873;</td>\n",
       "      <td>3600</td>\n",
       "      <td>...</td>\n",
       "      <td>1081241</td>\n",
       "      <td>www.connecticutplastics.com</td>\n",
       "      <td>1081241.jpeg</td>\n",
       "      <td>Medical Manufacturing  Orthopaedic, Medical, S...</td>\n",
       "      <td>MW Life Sciences offers advanced medical manuf...</td>\n",
       "      <td>1</td>\n",
       "      <td>3</td>\n",
       "      <td>[{\"category-0\":\"NO\",\"category-1\":\"YES\",\"catego...</td>\n",
       "      <td>NaN</td>\n",
       "      <td>NaN</td>\n",
       "    </tr>\n",
       "    <tr>\n",
       "      <th>4</th>\n",
       "      <td>3ZURAPD2888TB1AUKU8JFH1KHWE1FC</td>\n",
       "      <td>3WIABKGAUQLG11JEPH5ADA0NHT8E66</td>\n",
       "      <td>Select all categories that are relevant for th...</td>\n",
       "      <td>Given a screenshot, title, and description of ...</td>\n",
       "      <td>categorize, websites, topic</td>\n",
       "      <td>$0.10</td>\n",
       "      <td>Thu Jun 03 06:06:31 PDT 2021</td>\n",
       "      <td>3</td>\n",
       "      <td>BatchId:4464614;OriginalHitTemplateId:928390873;</td>\n",
       "      <td>3600</td>\n",
       "      <td>...</td>\n",
       "      <td>1081241</td>\n",
       "      <td>www.connecticutplastics.com</td>\n",
       "      <td>1081241.jpeg</td>\n",
       "      <td>Medical Manufacturing  Orthopaedic, Medical, S...</td>\n",
       "      <td>MW Life Sciences offers advanced medical manuf...</td>\n",
       "      <td>1</td>\n",
       "      <td>3</td>\n",
       "      <td>[{\"category-0\":\"NO\",\"category-1\":\"NO\",\"categor...</td>\n",
       "      <td>NaN</td>\n",
       "      <td>NaN</td>\n",
       "    </tr>\n",
       "  </tbody>\n",
       "</table>\n",
       "<p>5 rows × 37 columns</p>\n",
       "</div>"
      ],
      "text/plain": [
       "                            HITId                       HITTypeId  \\\n",
       "0  3U74KRR67M668DZKK1B6TSTOB6QTNJ  3WIABKGAUQLG11JEPH5ADA0NHT8E66   \n",
       "1  3U74KRR67M668DZKK1B6TSTOB6QTNJ  3WIABKGAUQLG11JEPH5ADA0NHT8E66   \n",
       "2  3U74KRR67M668DZKK1B6TSTOB6QTNJ  3WIABKGAUQLG11JEPH5ADA0NHT8E66   \n",
       "3  3ZURAPD2888TB1AUKU8JFH1KHWE1FC  3WIABKGAUQLG11JEPH5ADA0NHT8E66   \n",
       "4  3ZURAPD2888TB1AUKU8JFH1KHWE1FC  3WIABKGAUQLG11JEPH5ADA0NHT8E66   \n",
       "\n",
       "                                               Title  \\\n",
       "0  Select all categories that are relevant for th...   \n",
       "1  Select all categories that are relevant for th...   \n",
       "2  Select all categories that are relevant for th...   \n",
       "3  Select all categories that are relevant for th...   \n",
       "4  Select all categories that are relevant for th...   \n",
       "\n",
       "                                         Description  \\\n",
       "0  Given a screenshot, title, and description of ...   \n",
       "1  Given a screenshot, title, and description of ...   \n",
       "2  Given a screenshot, title, and description of ...   \n",
       "3  Given a screenshot, title, and description of ...   \n",
       "4  Given a screenshot, title, and description of ...   \n",
       "\n",
       "                      Keywords Reward                  CreationTime  \\\n",
       "0  categorize, websites, topic  $0.10  Thu Jun 03 06:06:21 PDT 2021   \n",
       "1  categorize, websites, topic  $0.10  Thu Jun 03 06:06:21 PDT 2021   \n",
       "2  categorize, websites, topic  $0.10  Thu Jun 03 06:06:21 PDT 2021   \n",
       "3  categorize, websites, topic  $0.10  Thu Jun 03 06:06:31 PDT 2021   \n",
       "4  categorize, websites, topic  $0.10  Thu Jun 03 06:06:31 PDT 2021   \n",
       "\n",
       "   MaxAssignments                               RequesterAnnotation  \\\n",
       "0               3  BatchId:4464614;OriginalHitTemplateId:928390873;   \n",
       "1               3  BatchId:4464614;OriginalHitTemplateId:928390873;   \n",
       "2               3  BatchId:4464614;OriginalHitTemplateId:928390873;   \n",
       "3               3  BatchId:4464614;OriginalHitTemplateId:928390873;   \n",
       "4               3  BatchId:4464614;OriginalHitTemplateId:928390873;   \n",
       "\n",
       "   AssignmentDurationInSeconds  ...  Input.uid                    Input.url  \\\n",
       "0                         3600  ...    1161124       www.pointlesssites.com   \n",
       "1                         3600  ...    1161124       www.pointlesssites.com   \n",
       "2                         3600  ...    1161124       www.pointlesssites.com   \n",
       "3                         3600  ...    1081241  www.connecticutplastics.com   \n",
       "4                         3600  ...    1081241  www.connecticutplastics.com   \n",
       "\n",
       "   Input.screenshot                                        Input.title  \\\n",
       "0      1161124.jpeg  PointlessSites.com  Fun Things To Do When You'...   \n",
       "1      1161124.jpeg  PointlessSites.com  Fun Things To Do When You'...   \n",
       "2      1161124.jpeg  PointlessSites.com  Fun Things To Do When You'...   \n",
       "3      1081241.jpeg  Medical Manufacturing  Orthopaedic, Medical, S...   \n",
       "4      1081241.jpeg  Medical Manufacturing  Orthopaedic, Medical, S...   \n",
       "\n",
       "                                   Input.description Input.class Input.bin  \\\n",
       "0  Are you bored? Want something fun to do? Check...           2         3   \n",
       "1  Are you bored? Want something fun to do? Check...           2         3   \n",
       "2  Are you bored? Want something fun to do? Check...           2         3   \n",
       "3  MW Life Sciences offers advanced medical manuf...           1         3   \n",
       "4  MW Life Sciences offers advanced medical manuf...           1         3   \n",
       "\n",
       "                                  Answer.taskAnswers Approve Reject  \n",
       "0  [{\"category-0\":\"NO\",\"category-1\":\"NO\",\"categor...     NaN    NaN  \n",
       "1  [{\"category-0\":\"NO\",\"category-1\":\"NO\",\"categor...     NaN    NaN  \n",
       "2  [{\"category-0\":\"YES\",\"category-1\":\"NO\",\"catego...     NaN    NaN  \n",
       "3  [{\"category-0\":\"NO\",\"category-1\":\"YES\",\"catego...     NaN    NaN  \n",
       "4  [{\"category-0\":\"NO\",\"category-1\":\"NO\",\"categor...     NaN    NaN  \n",
       "\n",
       "[5 rows x 37 columns]"
      ]
     },
     "execution_count": 6,
     "metadata": {},
     "output_type": "execute_result"
    }
   ],
   "source": [
    "labeled.head()"
   ]
  },
  {
   "cell_type": "markdown",
   "metadata": {},
   "source": [
    "### Crowdsourced Data: Labeling Analysis\n",
    "\n",
    "---\n"
   ]
  },
  {
   "cell_type": "markdown",
   "metadata": {},
   "source": [
    "Let's start with some basic EDA:\n"
   ]
  },
  {
   "cell_type": "code",
   "execution_count": 4,
   "metadata": {},
   "outputs": [
    {
     "name": "stdout",
     "output_type": "stream",
     "text": [
      "Task title: Select all categories that are relevant for the website (English websites)\n",
      "Task description: Given a screenshot, title, and description of a website, select all the relevant categories.\n",
      "Task reward: $0.10\n"
     ]
    }
   ],
   "source": [
    "print(f\"Task title: {labeled['Title'][0]}\")\n",
    "print(f\"Task description: {labeled['Description'][0]}\")\n",
    "print(f\"Task reward: {labeled['Reward'][0]}\")"
   ]
  },
  {
   "cell_type": "code",
   "execution_count": 5,
   "metadata": {},
   "outputs": [
    {
     "name": "stdout",
     "output_type": "stream",
     "text": [
      "There are 840 websites each annotated by 3 labelers\n",
      "There are 3 unique responses: {'YES', 'UNSURE', 'NO'}\n",
      "On average each labeler annotated 60.0 pages\n"
     ]
    }
   ],
   "source": [
    "# Number of records per unique page\n",
    "number_of_labels, count = np.unique(\n",
    "    labeled[\"Input.uid\"].value_counts(), return_counts=True\n",
    ")\n",
    "for numlabels, c in zip(number_of_labels, count):\n",
    "    print(f\"There are {c} websites each annotated by {numlabels} labelers\")\n",
    "\n",
    "# Show the unique responses for each question\n",
    "answers = set()\n",
    "for answer in labeled[\"Answer.taskAnswers\"]:\n",
    "    parsed_answer = json.loads(answer)\n",
    "    answers.update([v for v in parsed_answer[0].values() if type(v) == str])\n",
    "print(f\"There are {len(answers)} unique responses: {answers}\")\n",
    "\n",
    "# Average number of labels per user\n",
    "avg_user_labels = labeled[\"WorkerId\"].value_counts().mean()\n",
    "print(f\"On average each labeler annotated {avg_user_labels} pages\")"
   ]
  },
  {
   "cell_type": "code",
   "execution_count": 6,
   "metadata": {},
   "outputs": [
    {
     "name": "stdout",
     "output_type": "stream",
     "text": [
      "✅ All records have AssignmentStatus Approved\n",
      "✅ This checks with the max assignments allowed.\n",
      "✅ All records has taskAnswers list length = 1\n",
      "❗️ Input.title has 2.86% missing values\n",
      "❗️ Input.description has 46.19% missing values\n"
     ]
    }
   ],
   "source": [
    "# Make sure that for all records, AssignmentStatus is Approved\n",
    "assert (\n",
    "    len(labeled[\"AssignmentStatus\"].unique()) == 1\n",
    "    and labeled[\"AssignmentStatus\"].unique()[0] == \"Approved\"\n",
    "), \"AssignmentStatus is not Approved\"\n",
    "print(\"✅ All records have AssignmentStatus Approved\")\n",
    "\n",
    "# Confirm that all pages are assigned with at most 3 assignments\n",
    "max_assignments, count = np.unique(labeled[\"MaxAssignments\"], return_counts=True)\n",
    "assert len(max_assignments) == 1 and max_assignments[0] == 3, \"MaxAssignments is not 3\"\n",
    "print(\"✅ This checks with the max assignments allowed.\")\n",
    "\n",
    "\n",
    "# Get Double Check that the list in TaskAnswers is of length 1 always\n",
    "answers = set()\n",
    "total = 0\n",
    "for answer in labeled[\"Answer.taskAnswers\"]:\n",
    "    parsed_answer = json.loads(answer)\n",
    "    if len(parsed_answer) > 1:\n",
    "        total += 1\n",
    "if total > 0:\n",
    "    print(f\"❗️ There are {total} records with taskAnswers list length > 1\")\n",
    "else:\n",
    "    print(\"✅ All records has taskAnswers list length = 1\")\n",
    "\n",
    "# Check missing values for Input.url, Input.screenshot, Input.title, Input.description, report in percentage\n",
    "for col in [\"Input.url\", \"Input.screenshot\", \"Input.title\", \"Input.description\"]:\n",
    "    miss_vals = labeled[col].isna().sum() / len(labeled) * 100\n",
    "    if miss_vals > 0:\n",
    "        print(f\"❗️ {col} has {miss_vals:.2f}% missing values\")"
   ]
  },
  {
   "cell_type": "markdown",
   "metadata": {},
   "source": [
    "Next, let's one hot encode the column `Answer.taskAnswers` based on the\n",
    "dictionary that each row includes:\n"
   ]
  },
  {
   "cell_type": "code",
   "execution_count": 7,
   "metadata": {},
   "outputs": [
    {
     "data": {
      "text/html": [
       "<div>\n",
       "<style scoped>\n",
       "    .dataframe tbody tr th:only-of-type {\n",
       "        vertical-align: middle;\n",
       "    }\n",
       "\n",
       "    .dataframe tbody tr th {\n",
       "        vertical-align: top;\n",
       "    }\n",
       "\n",
       "    .dataframe thead th {\n",
       "        text-align: right;\n",
       "    }\n",
       "</style>\n",
       "<table border=\"1\" class=\"dataframe\">\n",
       "  <thead>\n",
       "    <tr style=\"text-align: right;\">\n",
       "      <th></th>\n",
       "      <th>Input.uid</th>\n",
       "      <th>Input.url</th>\n",
       "      <th>Arts</th>\n",
       "      <th>Business</th>\n",
       "      <th>Computers</th>\n",
       "      <th>Games</th>\n",
       "      <th>Health</th>\n",
       "      <th>Home</th>\n",
       "      <th>Kids_and_Teens</th>\n",
       "      <th>News</th>\n",
       "      <th>Recreation</th>\n",
       "      <th>Reference</th>\n",
       "      <th>Science</th>\n",
       "      <th>Shopping</th>\n",
       "      <th>Society</th>\n",
       "      <th>Sports</th>\n",
       "    </tr>\n",
       "  </thead>\n",
       "  <tbody>\n",
       "    <tr>\n",
       "      <th>0</th>\n",
       "      <td>1161124</td>\n",
       "      <td>www.pointlesssites.com</td>\n",
       "      <td>0</td>\n",
       "      <td>0</td>\n",
       "      <td>1</td>\n",
       "      <td>1</td>\n",
       "      <td>0</td>\n",
       "      <td>1</td>\n",
       "      <td>1</td>\n",
       "      <td>0</td>\n",
       "      <td>1</td>\n",
       "      <td>0</td>\n",
       "      <td>0</td>\n",
       "      <td>0</td>\n",
       "      <td>0</td>\n",
       "      <td>0</td>\n",
       "    </tr>\n",
       "    <tr>\n",
       "      <th>1</th>\n",
       "      <td>1161124</td>\n",
       "      <td>www.pointlesssites.com</td>\n",
       "      <td>0</td>\n",
       "      <td>0</td>\n",
       "      <td>0</td>\n",
       "      <td>1</td>\n",
       "      <td>0</td>\n",
       "      <td>1</td>\n",
       "      <td>1</td>\n",
       "      <td>0</td>\n",
       "      <td>1</td>\n",
       "      <td>0</td>\n",
       "      <td>0</td>\n",
       "      <td>0</td>\n",
       "      <td>1</td>\n",
       "      <td>0</td>\n",
       "    </tr>\n",
       "    <tr>\n",
       "      <th>2</th>\n",
       "      <td>1161124</td>\n",
       "      <td>www.pointlesssites.com</td>\n",
       "      <td>1</td>\n",
       "      <td>0</td>\n",
       "      <td>1</td>\n",
       "      <td>0</td>\n",
       "      <td>0</td>\n",
       "      <td>0</td>\n",
       "      <td>0</td>\n",
       "      <td>0</td>\n",
       "      <td>1</td>\n",
       "      <td>0</td>\n",
       "      <td>0</td>\n",
       "      <td>0</td>\n",
       "      <td>0</td>\n",
       "      <td>0</td>\n",
       "    </tr>\n",
       "    <tr>\n",
       "      <th>3</th>\n",
       "      <td>1081241</td>\n",
       "      <td>www.connecticutplastics.com</td>\n",
       "      <td>0</td>\n",
       "      <td>1</td>\n",
       "      <td>1</td>\n",
       "      <td>0</td>\n",
       "      <td>1</td>\n",
       "      <td>0</td>\n",
       "      <td>0</td>\n",
       "      <td>0</td>\n",
       "      <td>0</td>\n",
       "      <td>0</td>\n",
       "      <td>1</td>\n",
       "      <td>0</td>\n",
       "      <td>0</td>\n",
       "      <td>0</td>\n",
       "    </tr>\n",
       "    <tr>\n",
       "      <th>4</th>\n",
       "      <td>1081241</td>\n",
       "      <td>www.connecticutplastics.com</td>\n",
       "      <td>0</td>\n",
       "      <td>0</td>\n",
       "      <td>0</td>\n",
       "      <td>0</td>\n",
       "      <td>1</td>\n",
       "      <td>0</td>\n",
       "      <td>0</td>\n",
       "      <td>0</td>\n",
       "      <td>0</td>\n",
       "      <td>0</td>\n",
       "      <td>0</td>\n",
       "      <td>0</td>\n",
       "      <td>0</td>\n",
       "      <td>0</td>\n",
       "    </tr>\n",
       "  </tbody>\n",
       "</table>\n",
       "</div>"
      ],
      "text/plain": [
       "   Input.uid                    Input.url  Arts  Business  Computers  Games  \\\n",
       "0    1161124       www.pointlesssites.com     0         0          1      1   \n",
       "1    1161124       www.pointlesssites.com     0         0          0      1   \n",
       "2    1161124       www.pointlesssites.com     1         0          1      0   \n",
       "3    1081241  www.connecticutplastics.com     0         1          1      0   \n",
       "4    1081241  www.connecticutplastics.com     0         0          0      0   \n",
       "\n",
       "   Health  Home  Kids_and_Teens  News  Recreation  Reference  Science  \\\n",
       "0       0     1               1     0           1          0        0   \n",
       "1       0     1               1     0           1          0        0   \n",
       "2       0     0               0     0           1          0        0   \n",
       "3       1     0               0     0           0          0        1   \n",
       "4       1     0               0     0           0          0        0   \n",
       "\n",
       "   Shopping  Society  Sports  \n",
       "0         0        0       0  \n",
       "1         0        1       0  \n",
       "2         0        0       0  \n",
       "3         0        0       0  \n",
       "4         0        0       0  "
      ]
     },
     "execution_count": 7,
     "metadata": {},
     "output_type": "execute_result"
    }
   ],
   "source": [
    "# Create idx2cat and cat2idx mappings\n",
    "idx2cat = {idx: categories[idx][\"name\"] for idx in categories}\n",
    "cat2idx = {categories[idx][\"name\"]: idx for idx in categories}\n",
    "\n",
    "# Create a new column AnswersParsed\n",
    "labeled[\"AnswersParsed\"] = labeled[\"Answer.taskAnswers\"].apply(\n",
    "    lambda x: {\n",
    "        k.split(\"-\")[-1]: v for k, v in json.loads(x)[0].items() if type(v) == str\n",
    "    }\n",
    ")\n",
    "\n",
    "# Obtain the selected Idx and corresponding categories\n",
    "labeled[\"SelectedIdx\"] = labeled[\"AnswersParsed\"].apply(\n",
    "    lambda x: [k for k, v in x.items() if v == \"YES\"]\n",
    ")\n",
    "labeled[\"SelectedCategories\"] = labeled[\"SelectedIdx\"].apply(\n",
    "    lambda x: [idx2cat[idx] for idx in x]\n",
    ")\n",
    "\n",
    "# Now, let's one hot encode the selected categories\n",
    "for cat in cat2idx:\n",
    "    labeled[cat] = labeled[\"SelectedCategories\"].apply(lambda x: 1 if cat in x else 0)\n",
    "\n",
    "relevant_columns = [\"Input.uid\", \"Input.url\"] + list(cat2idx)\n",
    "labeled = labeled[relevant_columns]\n",
    "labeled.head()"
   ]
  },
  {
   "cell_type": "markdown",
   "metadata": {},
   "source": [
    "Now, for each website and category, we want to look at the aggreement accross\n",
    "annotators.\n"
   ]
  },
  {
   "cell_type": "code",
   "execution_count": 8,
   "metadata": {},
   "outputs": [
    {
     "data": {
      "image/png": "[encoded data removed]",
      "text/plain": [
       "<Figure size 640x480 with 1 Axes>"
      ]
     },
     "metadata": {},
     "output_type": "display_data"
    }
   ],
   "source": [
    "website_ids = labeled[\"Input.uid\"].unique()\n",
    "aggrements = []\n",
    "for wid in website_ids:\n",
    "    # Get all the annotations for this website\n",
    "    annotations = labeled[labeled[\"Input.uid\"] == wid].iloc[:, 2:].to_numpy()\n",
    "\n",
    "    # Pair the annotations\n",
    "    kappas = []\n",
    "    for i in range(len(annotations)):\n",
    "        for j in range(i + 1, len(annotations)):\n",
    "            kappas.append(cohen_kappa_score(annotations[i], annotations[j]))\n",
    "\n",
    "    # Take the average of all the kappas\n",
    "    avg_kappa = np.mean(kappas)\n",
    "\n",
    "    # If nan, then set to 0\n",
    "    if np.isnan(avg_kappa):\n",
    "        avg_kappa = 0\n",
    "\n",
    "    # Save the average kappa for this website\n",
    "    aggrements.append([wid, avg_kappa])\n",
    "\n",
    "# Turn into pandas dataframe\n",
    "aggrements = pd.DataFrame(aggrements, columns=[\"Input.uid\", \"Aggrement\"])\n",
    "\n",
    "# Plot the distribution of aggrements\n",
    "sns.histplot(aggrements[\"Aggrement\"])\n",
    "plt.title(\n",
    "    \"Distribution of Aggrements with mean = {:.2f}\".format(\n",
    "        aggrements[\"Aggrement\"].mean()\n",
    "    )\n",
    ");"
   ]
  },
  {
   "cell_type": "markdown",
   "metadata": {},
   "source": [
    "Next, let's use different aggregation strategies to obtain final labels for each\n",
    "webpage:\n"
   ]
  },
  {
   "cell_type": "code",
   "execution_count": 9,
   "metadata": {},
   "outputs": [
    {
     "name": "stdout",
     "output_type": "stream",
     "text": [
      "For threshold = 1, the mean number of categories per website is 6.19\n",
      "For threshold = 2, the mean number of categories per website is 1.67\n",
      "For threshold = 3, the mean number of categories per website is 0.28\n"
     ]
    },
    {
     "data": {
      "image/png": "[encoded data removed]",
      "text/plain": [
       "<Figure size 1500x500 with 3 Axes>"
      ]
     },
     "metadata": {},
     "output_type": "display_data"
    }
   ],
   "source": [
    "# Compute for each website the number of times the website was assigned given label\n",
    "page_labc = labeled.groupby(\"Input.uid\").sum()\n",
    "\n",
    "# For each website, decided whether it belongs to the category or not based on the threshold = min. number of annotations\n",
    "thresholds = [1, 2, 3]\n",
    "thresholded = []\n",
    "for t in thresholds:\n",
    "    thresholded.append((page_labc.iloc[:, 3:] >= t).astype(int))\n",
    "\n",
    "# Show the distribution of the number of categories per website\n",
    "numlab_dist = [thresholded[t - 1].sum(axis=1) for t in thresholds]\n",
    "print(\n",
    "    f\"For threshold = 1, the mean number of categories per website is {numlab_dist[0].mean():.2f}\"\n",
    ")\n",
    "print(\n",
    "    f\"For threshold = 2, the mean number of categories per website is {numlab_dist[1].mean():.2f}\"\n",
    ")\n",
    "print(\n",
    "    f\"For threshold = 3, the mean number of categories per website is {numlab_dist[2].mean():.2f}\"\n",
    ")\n",
    "\n",
    "# Print the distribution of the number of categories per website\n",
    "fig, axs = plt.subplots(1, 3, figsize=(15, 5))\n",
    "for i, ax in enumerate(axs):\n",
    "    sns.barplot(\n",
    "        x=numlab_dist[i].value_counts().index,\n",
    "        y=numlab_dist[i].value_counts().values / numlab_dist[i].shape[0],\n",
    "        ax=ax,\n",
    "        color=\"#31748f\",\n",
    "    )"
   ]
  },
  {
   "cell_type": "markdown",
   "metadata": {},
   "source": [
    "### Crowdsourced Data: Content Analysis\n",
    "\n",
    "---"
   ]
  },
  {
   "cell_type": "markdown",
   "metadata": {},
   "source": [
    "In this section, we look closer into what the annotators actually had to label."
   ]
  },
  {
   "cell_type": "code",
   "execution_count": 10,
   "metadata": {},
   "outputs": [
    {
     "data": {
      "text/html": [
       "<div>\n",
       "<style scoped>\n",
       "    .dataframe tbody tr th:only-of-type {\n",
       "        vertical-align: middle;\n",
       "    }\n",
       "\n",
       "    .dataframe tbody tr th {\n",
       "        vertical-align: top;\n",
       "    }\n",
       "\n",
       "    .dataframe thead th {\n",
       "        text-align: right;\n",
       "    }\n",
       "</style>\n",
       "<table border=\"1\" class=\"dataframe\">\n",
       "  <thead>\n",
       "    <tr style=\"text-align: right;\">\n",
       "      <th></th>\n",
       "      <th>webid</th>\n",
       "      <th>http_code</th>\n",
       "      <th>is_valid</th>\n",
       "      <th>html</th>\n",
       "      <th>redirect_url</th>\n",
       "      <th>original_url</th>\n",
       "    </tr>\n",
       "  </thead>\n",
       "  <tbody>\n",
       "    <tr>\n",
       "      <th>0</th>\n",
       "      <td>1161124</td>\n",
       "      <td>200.0</td>\n",
       "      <td>True</td>\n",
       "      <td>\\r\\n&lt;!DOCTYPE HTML&gt;\\r\\n&lt;HTML xmlns:fb=\"http://...</td>\n",
       "      <td>None</td>\n",
       "      <td>http://www.pointlesssites.com</td>\n",
       "    </tr>\n",
       "    <tr>\n",
       "      <th>1</th>\n",
       "      <td>1081241</td>\n",
       "      <td>200.0</td>\n",
       "      <td>True</td>\n",
       "      <td>&lt;!DOCTYPE html&gt;\\n&lt;html lang=\"en\"&gt;\\n&lt;head&gt;\\n  \\...</td>\n",
       "      <td>None</td>\n",
       "      <td>http://www.connecticutplastics.com</td>\n",
       "    </tr>\n",
       "    <tr>\n",
       "      <th>2</th>\n",
       "      <td>1162420</td>\n",
       "      <td>200.0</td>\n",
       "      <td>True</td>\n",
       "      <td>&lt;!doctype html&gt;\\n&lt;html lang=\"en-US\"&gt;\\n  &lt;head&gt;...</td>\n",
       "      <td>None</td>\n",
       "      <td>http://99percentinvisible.org</td>\n",
       "    </tr>\n",
       "    <tr>\n",
       "      <th>3</th>\n",
       "      <td>1146040</td>\n",
       "      <td>200.0</td>\n",
       "      <td>True</td>\n",
       "      <td>&lt;!DOCTYPE html&gt;\\n&lt;html lang=\"en\" dir=\"ltr\"&gt;\\n ...</td>\n",
       "      <td>None</td>\n",
       "      <td>http://www.medicaid.gov</td>\n",
       "    </tr>\n",
       "    <tr>\n",
       "      <th>4</th>\n",
       "      <td>1117243</td>\n",
       "      <td>200.0</td>\n",
       "      <td>True</td>\n",
       "      <td>&lt;?xml version=\"1.0\" encoding=\"UTF-8\" standalon...</td>\n",
       "      <td>None</td>\n",
       "      <td>http://www.graalonline.com</td>\n",
       "    </tr>\n",
       "  </tbody>\n",
       "</table>\n",
       "</div>"
      ],
      "text/plain": [
       "     webid  http_code  is_valid  \\\n",
       "0  1161124      200.0      True   \n",
       "1  1081241      200.0      True   \n",
       "2  1162420      200.0      True   \n",
       "3  1146040      200.0      True   \n",
       "4  1117243      200.0      True   \n",
       "\n",
       "                                                html redirect_url  \\\n",
       "0  \\r\\n<!DOCTYPE HTML>\\r\\n<HTML xmlns:fb=\"http://...         None   \n",
       "1  <!DOCTYPE html>\\n<html lang=\"en\">\\n<head>\\n  \\...         None   \n",
       "2  <!doctype html>\\n<html lang=\"en-US\">\\n  <head>...         None   \n",
       "3  <!DOCTYPE html>\\n<html lang=\"en\" dir=\"ltr\">\\n ...         None   \n",
       "4  <?xml version=\"1.0\" encoding=\"UTF-8\" standalon...         None   \n",
       "\n",
       "                         original_url  \n",
       "0       http://www.pointlesssites.com  \n",
       "1  http://www.connecticutplastics.com  \n",
       "2       http://99percentinvisible.org  \n",
       "3             http://www.medicaid.gov  \n",
       "4          http://www.graalonline.com  "
      ]
     },
     "execution_count": 10,
     "metadata": {},
     "output_type": "execute_result"
    }
   ],
   "source": [
    "# Turn the list of dict into a dataframe\n",
    "content_df = pd.DataFrame(content)\n",
    "\n",
    "# Fill Nan in is_valid with False\n",
    "content_df[\"is_valid\"].fillna(False, inplace=True)\n",
    "\n",
    "content_df.head()"
   ]
  },
  {
   "cell_type": "markdown",
   "metadata": {},
   "source": [
    "Let's assess how well we were able to parse the data:"
   ]
  },
  {
   "cell_type": "code",
   "execution_count": 11,
   "metadata": {},
   "outputs": [
    {
     "name": "stdout",
     "output_type": "stream",
     "text": [
      "ℹ️ Number of websites in content_df: 840\n",
      "ℹ️ Number of websites with http status code 200: 769\n",
      "ℹ️ Number of websites with valid websites 769\n",
      "ℹ️ Number of websites with redirect: 250\n"
     ]
    }
   ],
   "source": [
    "print(f\"ℹ️ Number of websites in content_df: {content_df.shape[0]}\")\n",
    "print(\n",
    "    f\"ℹ️ Number of websites with http status code 200: {content_df[content_df['http_code'] == 200].shape[0]}\"\n",
    ")\n",
    "print(\n",
    "    f\"ℹ️ Number of websites with valid websites {content_df[content_df['is_valid']].shape[0]}\"\n",
    ")\n",
    "print(\n",
    "    f\"ℹ️ Number of websites with redirect: {content_df[content_df['redirect_url'].notna()].shape[0]}\"\n",
    ")"
   ]
  },
  {
   "cell_type": "markdown",
   "metadata": {},
   "source": [
    "Now, let's dig deeper, first, we start with the distribution of the http codes:"
   ]
  },
  {
   "cell_type": "code",
   "execution_count": 12,
   "metadata": {},
   "outputs": [
    {
     "data": {
      "image/png": "[encoded data removed]",
      "text/plain": [
       "<Figure size 1500x500 with 1 Axes>"
      ]
     },
     "metadata": {},
     "output_type": "display_data"
    }
   ],
   "source": [
    "# Setup the figure\n",
    "fig, ax = plt.subplots(figsize=(15, 5))\n",
    "\n",
    "# Without 200\n",
    "sns.barplot(\n",
    "    x=content_df[content_df[\"http_code\"] != 200][\"http_code\"].value_counts().index,\n",
    "    y=content_df[content_df[\"http_code\"] != 200][\"http_code\"].value_counts().values\n",
    "    / content_df.shape[0]\n",
    "    * 100,\n",
    "    ax=ax,\n",
    "    color=\"#31748f\",\n",
    ")\n",
    "\n",
    "# Setup the label\n",
    "ax.set_title(\"Distribution of HTTP Status Codes exluding 200\")\n",
    "ax.set_xlabel(\"HTTP Status Code\")\n",
    "ax.set_ylabel(\"Percentage of the total number of websites\");"
   ]
  },
  {
   "cell_type": "markdown",
   "metadata": {},
   "source": [
    "Next, look at the examples of redirects:"
   ]
  },
  {
   "cell_type": "code",
   "execution_count": 13,
   "metadata": {},
   "outputs": [
    {
     "name": "stdout",
     "output_type": "stream",
     "text": [
      "ℹ️ http://www.wups.com redirects to https://wups.com/\n",
      "ℹ️ http://www.nexusgamefair.com redirects to https://www.yahoo.com/\n",
      "ℹ️ http://www.hdcentre.org redirects to https://hdcentre.org/\n",
      "ℹ️ http://www.neosyntheticoil.com redirects to https://neosyntheticoil.com/\n",
      "ℹ️ http://www.croydonfoot.com redirects to https://croydonfoot.com/\n"
     ]
    }
   ],
   "source": [
    "# Get redirect webs\n",
    "redirect_webs = content_df[content_df[\"redirect_url\"].notna()]\n",
    "\n",
    "# Randomly sample 5 websites\n",
    "sampled_webs = redirect_webs.sample(5)\n",
    "\n",
    "for i, row in sampled_webs.iterrows():\n",
    "    print(f\"ℹ️ {row['original_url']} redirects to {row['redirect_url']}\")"
   ]
  },
  {
   "cell_type": "markdown",
   "metadata": {},
   "source": [
    "It appears that plus or minus the redirects are not an issue since most of the times the difference in the urls is just `/` the slash at the end of the url. Next, let's parse the html of the valid urls:"
   ]
  },
  {
   "cell_type": "code",
   "execution_count": 14,
   "metadata": {},
   "outputs": [
    {
     "name": "stderr",
     "output_type": "stream",
     "text": [
      "100%|██████████| 769/769 [00:29<00:00, 26.23it/s]\n"
     ]
    }
   ],
   "source": [
    "# Get valid webs\n",
    "valid_webs = content_df[content_df[\"is_valid\"]].copy()\n",
    "\n",
    "# Save the features\n",
    "web_features = []\n",
    "\n",
    "for i in tqdm(range(len(valid_webs))):\n",
    "    # Get html\n",
    "    html = valid_webs.iloc[i][\"html\"]\n",
    "\n",
    "    # Get redirected url if available else original url\n",
    "    url = (\n",
    "        valid_webs.iloc[i][\"redirect_url\"]\n",
    "        if valid_webs.iloc[i][\"redirect_url\"]\n",
    "        else valid_webs.iloc[i][\"original_url\"]\n",
    "    )\n",
    "\n",
    "    # Get id\n",
    "    wid = {\"wid\": valid_webs.iloc[i][\"webid\"]}\n",
    "\n",
    "    # Get features\n",
    "    html_features = utils.parse_html(html, max_sentences=None)\n",
    "    url_features = utils.parse_url(url)\n",
    "    features = {**html_features, **url_features, **wid}\n",
    "\n",
    "    # Save the features\n",
    "    web_features.append(features)"
   ]
  },
  {
   "cell_type": "markdown",
   "metadata": {},
   "source": [
    "Select random url and shows its extractred features:"
   ]
  },
  {
   "cell_type": "code",
   "execution_count": 15,
   "metadata": {},
   "outputs": [
    {
     "name": "stdout",
     "output_type": "stream",
     "text": [
      "ℹ️ title: Laidman Productions Home Page\n",
      "ℹ️ description: None\n",
      "ℹ️ keywords: golden retriever, cardigan welsh corgi , whimsical,ceramic,bronze,sculpture,drawings,graphics,animals,sports,dogs,cats,frogs,iguanas,hippos,raccoons,baseball,football,skateboard,skateboarding,snowboard,snowboarding,golf,fishing,martial arts,laidman\n",
      "ℹ️ links: ['playlist', 'list', 'plotfkkeivffkgvagzhpbhbf', 'pkescq', 'playlist', 'list', 'plotfkkeivffkgvagzhpbhbf', 'pkescq', 'htm', 'slab%building%illustrated', 'sbi%sales%page.htm', 'htm', 'slab%building%illustrated', 'sbi%sales%page.htm', 'htm', 'atenas', 'atenas', 'a.htm', 'htm', 'atenas', 'atenas', 'a.htm', 'htm', 'atenas', 'atenas', 'a.htm', 'htm', 'atenas', 'atenas', 'b.htm', 'htm', 'atenas', 'atenas', 'b.htm', 'htm', 'atenas', 'apartmentupstairs.htm', 'htm', 'atenas', 'apartmentupstairs.htm', 'htm', 'atenas', 'apartmentupstairs.htm', 'atenas', 'apartmentupstairs.htm', 'htm', 'atenas', 'apartmentupstairs.htm', 'htm', 'ceramic', 'ceramics.htm', 'htm', 'ceramic', 'ceramics.htm', 'htm', 'bronze', 'dogs.htm', 'htm', 'bronze', 'dogs.htm', 'htm', 'dog', 'drawings', 'bichons&', 'drawings', 'b.htm', 'htm', 'dog', 'drawings', 'bullterriers', 'drawings', 'bts.htm', 'dog', 'drawings', 'bullterriers', 'drawings', 'bts.htm', 'htm', 'dog', 'drawings', 'westies&', 'drawings', 'westies.htm', 'drawings', 'drawings', '.htm', 'drawings', 'drawings', '.htm']\n",
      "ℹ️ sentences: ['Laidman Productions Home Page', 'roberta.laidman \\r\\n            @ gmail.com', 'Art \\r\\n              Marketing Lecture', 'by Roberta Laidman', 'free \\r\\n              on youtube.com', 'Click \\r\\n              here', '(free)', 'Digital Publication', 'for download only:', 'E -BOOK -', '$10.98', 'revised in 2006', '30', 'more pages -', 'now 90, including', '24+ more images', 'additional text explanation', 'click \\r\\n              here for details', 'Any problems ordering?', 'Contact roberta.laidman@gmail.com', 'Enter your search \\r\\n                      terms', 'Submit \\r\\n                      search form', 'Atenas, \\r\\n              Costa Rica', 'vacation \\r\\n              rentals', 'Casa \\r\\n                de las Orquídeas (15A)', 'shared \\r\\n                rancho and pool', 'see photos below', '2 \\r\\n                bedrooms/2 bathrooms', 'less than', '1 \\r\\n                kilometer from downtown Atenas', 'CERAMICS \\r\\n                STUDIO', 'click \\r\\n                here for details', 'Casa \\r\\n                Brava (15B)', 'shared \\r\\n                rancho and pool', '2 \\r\\n                bedrooms/2 bathrooms', 'less than', '1 \\r\\n                kilometer from downtown Atenas', 'PAINTING \\r\\n                STUDIO', 'click \\r\\n                here for details', 'Fatima Apartment - Furnished', '1 \\r\\n                kilometer from downtown Atenas', 'inquire for rates', 'roberta.laidman \\r\\n                @ gmail.com', 'click here', 'for \\r\\n                details', 'Fatima \\r\\n                Apartment- Unfurnished', '1 \\r\\n                kilometer from downtown Atenas', 'inquire for rates', 'roberta.laidman @ gmail.com', 'Sculpture', 'Ceramics', 'Bronzes', 'Dog drawings and', 'paintings', 'Other \\r\\n                drawings']\n",
      "ℹ️ metatags: ['distribution', 'robots', 'description', 'revisit-after', 'resource-type', 'keywords', 'copyright']\n",
      "ℹ️ tld: com\n",
      "ℹ️ domain: laidmanproductions\n",
      "ℹ️ wid: 942270\n"
     ]
    }
   ],
   "source": [
    "# Get random sample of 1 website\n",
    "sampled_web_id = np.random.randint(len(web_features))\n",
    "\n",
    "# Get the features of the sampled website\n",
    "sampled_web_features = web_features[sampled_web_id]\n",
    "\n",
    "# Print the features\n",
    "for k, v in sampled_web_features.items():\n",
    "    print(f\"ℹ️ {k}: {v}\")"
   ]
  },
  {
   "cell_type": "markdown",
   "metadata": {},
   "source": [
    "Now, let's run compute some insights on the extracted features:"
   ]
  },
  {
   "cell_type": "code",
   "execution_count": 16,
   "metadata": {},
   "outputs": [
    {
     "name": "stdout",
     "output_type": "stream",
     "text": [
      "ℹ️ Number of sites with title: 98.70%\n",
      "ℹ️ Number of sites with description: 55.01%\n",
      "ℹ️ Number of sites with keywords: 19.38%\n",
      "ℹ️ Number of sites with links: 89.99%\n"
     ]
    }
   ],
   "source": [
    "# Total number of websites\n",
    "n = len(web_features)\n",
    "\n",
    "# Number of sites with title\n",
    "n_titles = len([web[\"title\"] for web in web_features if web[\"title\"] is not None])\n",
    "print(f\"ℹ️ Number of sites with title: {n_titles/n*100:.2f}%\")\n",
    "\n",
    "# Number of sites with description\n",
    "n_descriptions = len(\n",
    "    [web[\"description\"] for web in web_features if web[\"description\"] is not None]\n",
    ")\n",
    "print(f\"ℹ️ Number of sites with description: {n_descriptions/n*100:.2f}%\")\n",
    "\n",
    "# Number of sites with keywords\n",
    "n_keywords = len(\n",
    "    [web[\"keywords\"] for web in web_features if web[\"keywords\"] is not None]\n",
    ")\n",
    "print(f\"ℹ️ Number of sites with keywords: {n_keywords/n*100:.2f}%\")\n",
    "\n",
    "# Number of sites with links\n",
    "n_links = len([web[\"links\"] for web in web_features if web[\"links\"] is not None])\n",
    "print(f\"ℹ️ Number of sites with links: {n_links/n*100:.2f}%\")"
   ]
  },
  {
   "cell_type": "markdown",
   "metadata": {},
   "source": [
    "Now, let's look at the distribution of the number of meta tags and the number of links across the websites:"
   ]
  },
  {
   "cell_type": "code",
   "execution_count": 19,
   "metadata": {},
   "outputs": [
    {
     "data": {
      "image/png": "[encoded data removed]",
      "text/plain": [
       "<Figure size 1500x500 with 2 Axes>"
      ]
     },
     "metadata": {},
     "output_type": "display_data"
    }
   ],
   "source": [
    "# Get the number of meta tags and links for each website\n",
    "meta_tags = []\n",
    "links = []\n",
    "for web in web_features:\n",
    "    if web[\"metatags\"]:\n",
    "        meta_tags.append(len(web[\"metatags\"]))\n",
    "\n",
    "    if web[\"links\"]:\n",
    "        links.append(len(web[\"links\"]))\n",
    "\n",
    "# Setup the figure\n",
    "fig, axs = plt.subplots(1, 2, figsize=(15, 5))\n",
    "\n",
    "# Plot the distribution of meta tags\n",
    "sns.histplot(meta_tags, ax=axs[0], color=\"#31748f\")\n",
    "axs[0].set_title(\"Distribution of number of meta tags\")\n",
    "\n",
    "# Plot the distribution of links\n",
    "sns.histplot(links, ax=axs[1], color=\"#31748f\")\n",
    "axs[1].set_title(\"Distribution of number of links\");"
   ]
  },
  {
   "cell_type": "markdown",
   "metadata": {},
   "source": [
    "Further, let's compute the number of occurences of each meta tag and tld:"
   ]
  },
  {
   "cell_type": "code",
   "execution_count": 21,
   "metadata": {},
   "outputs": [
    {
     "name": "stdout",
     "output_type": "stream",
     "text": [
      "ℹ️ Top 10 metatags:\n",
      "- viewport: 73.86%\n",
      "- description: 59.17%\n",
      "- robots: 46.55%\n",
      "- generator: 45.64%\n",
      "- twitter:card: 35.89%\n",
      "- keywords: 25.88%\n",
      "- msapplication-tileimage: 23.28%\n",
      "- twitter:title: 17.17%\n",
      "- twitter:description: 14.95%\n",
      "- google-site-verification: 14.30%\n",
      "\n",
      "ℹ️ Top 10 tlds:\n",
      "- com: 60.47%\n",
      "- org: 16.12%\n",
      "- co.uk: 4.68%\n",
      "- net: 3.51%\n",
      "- edu: 2.60%\n",
      "- org.uk: 1.69%\n",
      "- com.au: 1.30%\n",
      "- de: 1.04%\n",
      "- blogspot.com: 0.91%\n",
      "- ca: 0.91%\n"
     ]
    }
   ],
   "source": [
    "# Compute the number of occurrences of each metatag\n",
    "metatags = {}\n",
    "tlds = {}\n",
    "for web in web_features:\n",
    "    if web[\"metatags\"]:\n",
    "        for metatag in web[\"metatags\"]:\n",
    "            if metatag in metatags:\n",
    "                metatags[metatag] += 1\n",
    "            else:\n",
    "                metatags[metatag] = 1\n",
    "\n",
    "    if web[\"tld\"]:\n",
    "        if web[\"tld\"] in tlds:\n",
    "            tlds[web[\"tld\"]] += 1\n",
    "        else:\n",
    "            tlds[web[\"tld\"]] = 1\n",
    "\n",
    "\n",
    "# Sort the metatags by number of occurrences\n",
    "metatags = {\n",
    "    k: v for k, v in sorted(metatags.items(), key=lambda item: item[1], reverse=True)\n",
    "}\n",
    "\n",
    "# Sort the tlds by number of occurrences\n",
    "tlds = {k: v for k, v in sorted(tlds.items(), key=lambda item: item[1], reverse=True)}\n",
    "\n",
    "# Print the top 10 metatags\n",
    "print(\"ℹ️ Top 10 metatags:\")\n",
    "for i, (k, v) in enumerate(metatags.items()):\n",
    "    if i == 10:\n",
    "        break\n",
    "    print(f\"- {k}: {v/len(web_features)*100:.2f}%\")\n",
    "\n",
    "print()\n",
    "# Print the top 10 tlds\n",
    "print(\"ℹ️ Top 10 tlds:\")\n",
    "for i, (k, v) in enumerate(tlds.items()):\n",
    "    if i == 10:\n",
    "        break\n",
    "    print(f\"- {k}: {v/len(web_features)*100:.2f}%\")"
   ]
  },
  {
   "cell_type": "markdown",
   "metadata": {},
   "source": [
    "Finally, let's look into the average number of characters in the sentences:"
   ]
  },
  {
   "cell_type": "code",
   "execution_count": 22,
   "metadata": {},
   "outputs": [
    {
     "data": {
      "image/png": "[encoded data removed]",
      "text/plain": [
       "<Figure size 1500x500 with 1 Axes>"
      ]
     },
     "metadata": {},
     "output_type": "display_data"
    }
   ],
   "source": [
    "# Compute the number of characters in each sentence\n",
    "sentence_lengths = []\n",
    "for web in web_features:\n",
    "    if web[\"sentences\"]:\n",
    "        for sentence in web[\"sentences\"]:\n",
    "            sentence_lengths.append(len(sentence))\n",
    "\n",
    "# Setup the figure\n",
    "fig, ax = plt.subplots(figsize=(15, 5))\n",
    "\n",
    "# Plot the distribution of sentence lengths\n",
    "sns.histplot(sentence_lengths, ax=ax, color=\"#31748f\", log_scale=True)\n",
    "\n",
    "# Add labels\n",
    "ax.set_title(\"Distribution of sentence lengths\")\n",
    "ax.set_xlabel(\"Log Scale of Sentence length\")\n",
    "ax.set_ylabel(\"Number of sentences with the given length\");"
   ]
  },
  {
   "cell_type": "code",
   "execution_count": 23,
   "metadata": {},
   "outputs": [],
   "source": [
    "with open(\"../data/crowdsourced/processed/web_features.pkl\", \"wb\") as f:\n",
    "    pickle.dump(web_features, f)"
   ]
  },
  {
   "cell_type": "markdown",
   "metadata": {},
   "source": [
    "---"
   ]
  }
 ],
 "metadata": {
  "kernelspec": {
   "display_name": "cs502",
   "language": "python",
   "name": "python3"
  },
  "language_info": {
   "codemirror_mode": {
    "name": "ipython",
    "version": 3
   },
   "file_extension": ".py",
   "mimetype": "text/x-python",
   "name": "python",
   "nbconvert_exporter": "python",
   "pygments_lexer": "ipython3",
   "version": "3.10.13"
  }
 },
 "nbformat": 4,
 "nbformat_minor": 2
}
