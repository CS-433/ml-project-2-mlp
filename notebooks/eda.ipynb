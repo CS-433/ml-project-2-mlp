{
 "cells": [
  {
   "cell_type": "markdown",
   "metadata": {},
   "source": [
    "# EDA"
   ]
  },
  {
   "cell_type": "code",
   "execution_count": 1,
   "metadata": {},
   "outputs": [
    {
     "name": "stderr",
     "output_type": "stream",
     "text": [
      "/Users/jonas-mika/Library/Caches/pypoetry/virtualenvs/ml-project-2-mlp-a6NSXBdT-py3.10/lib/python3.10/site-packages/tqdm/auto.py:21: TqdmWarning: IProgress not found. Please update jupyter and ipywidgets. See https://ipywidgets.readthedocs.io/en/stable/user_install.html\n",
      "  from .autonotebook import tqdm as notebook_tqdm\n"
     ]
    }
   ],
   "source": [
    "# ruff: noqa\n",
    "%reload_ext autoreload\n",
    "%autoreload 2\n",
    "\n",
    "# Standard library\n",
    "import os\n",
    "import json\n",
    "\n",
    "# External libraries\n",
    "from sklearn.metrics import classification_report\n",
    "from matplotlib import pyplot as plt\n",
    "import numpy as np\n",
    "import pandas as pd\n",
    "import seaborn as sns\n",
    "import rootutils\n",
    "import hydra\n",
    "\n",
    "# Local imports\n",
    "import ml_project_2_mlp.utils as utils"
   ]
  },
  {
   "cell_type": "code",
   "execution_count": 2,
   "metadata": {},
   "outputs": [],
   "source": [
    "# Reinitialize hydra on every run\n",
    "hydra.core.global_hydra.GlobalHydra.instance().clear()\n",
    "h = hydra.initialize(config_path=\"../conf\", job_name=\"eda\", version_base=None)\n",
    "\n",
    "# Setup root environment\n",
    "root_path = rootutils.setup_root(\".\")\n",
    "rootutils.set_root(\n",
    "    path=root_path,\n",
    "    project_root_env_var=True,\n",
    ")"
   ]
  },
  {
   "cell_type": "code",
   "execution_count": 3,
   "metadata": {},
   "outputs": [],
   "source": [
    "# Costs per token based on https://openai.com/pricing\n",
    "GPT4_COST_PER_INP_TOKEN = 0.00001\n",
    "GPT4_COST_PER_OUT_TOKEN = 0.00003\n",
    "GPT3_5_COST_PER_INP_TOKEN = 0.000001\n",
    "GPT3_5_COST_PER_OUT_TOKEN = 0.000002"
   ]
  },
  {
   "cell_type": "code",
   "execution_count": 4,
   "metadata": {},
   "outputs": [],
   "source": [
    "sns.set_style(\"dark\")\n",
    "sns.set_palette(\"gist_stern\")"
   ]
  },
  {
   "cell_type": "markdown",
   "metadata": {},
   "source": [
    "## Websites\n",
    "\n",
    "---\n",
    "\n",
    "There are three copora of websites in this dataset:\n",
    "\n",
    "* `original`: 770 websites from the crowdsourced dataset from the [Homepage2Vec paper](https://arxiv.org/abs/1905.09786)\n",
    "* `gpt`: 250 common websites obtained by prompting GPT-4 (see [Prompts](https://chat.openai.com/share/a76c8b9b-a659-4b15-9ab0-d94af4733d58))\n",
    "* `curlie`: A filtered version of the [curlie](https://curlie.org) dataset, containing ~1M websites\n",
    "\n",
    "For each website, the repository contains a CSV file at the path `data/raw/<corpus>.csv` with the two columns - `wid` and `url`. The `wid` is a unique identifier for the website, and the `url` is the URL of the website."
   ]
  },
  {
   "cell_type": "code",
   "execution_count": 5,
   "metadata": {},
   "outputs": [],
   "source": [
    "# Initialise Config\n",
    "original_cfg = hydra.compose(config_name=\"eda\", overrides=[\"data=original\"])\n",
    "gpt_cfg = hydra.compose(config_name=\"eda\", overrides=[\"data=gpt\"])\n",
    "curlie_cfg = hydra.compose(config_name=\"eda\", overrides=[\"data=curlie\"])"
   ]
  },
  {
   "cell_type": "code",
   "execution_count": 6,
   "metadata": {},
   "outputs": [
    {
     "name": "stdout",
     "output_type": "stream",
     "text": [
      "Classifying in 14 categories: Arts, Business, Computers, Games, Health, Home, Kids_and_Teens, News, Recreation, Reference, Science, Shopping, Society, Sports\n"
     ]
    }
   ],
   "source": [
    "# Load categories\n",
    "path = os.path.join(root_path, \"data\", \"meta\", \"categories.json\")\n",
    "with open(path) as f:\n",
    "    categories = json.load(f)\n",
    "\n",
    "print(f\"Classifying in {len(categories)} categories: {', '.join(categories)}\")"
   ]
  },
  {
   "cell_type": "markdown",
   "metadata": {},
   "source": [
    "### Original Data\n",
    "\n",
    "This is the data that was used to test the model in the original paper. "
   ]
  },
  {
   "cell_type": "code",
   "execution_count": 7,
   "metadata": {},
   "outputs": [
    {
     "name": "stdout",
     "output_type": "stream",
     "text": [
      "Total number of samples: 769\n"
     ]
    },
    {
     "data": {
      "text/html": [
       "<div>\n",
       "<style scoped>\n",
       "    .dataframe tbody tr th:only-of-type {\n",
       "        vertical-align: middle;\n",
       "    }\n",
       "\n",
       "    .dataframe tbody tr th {\n",
       "        vertical-align: top;\n",
       "    }\n",
       "\n",
       "    .dataframe thead th {\n",
       "        text-align: right;\n",
       "    }\n",
       "</style>\n",
       "<table border=\"1\" class=\"dataframe\">\n",
       "  <thead>\n",
       "    <tr style=\"text-align: right;\">\n",
       "      <th></th>\n",
       "      <th>wid</th>\n",
       "      <th>url</th>\n",
       "    </tr>\n",
       "  </thead>\n",
       "  <tbody>\n",
       "    <tr>\n",
       "      <th>0</th>\n",
       "      <td>1161124</td>\n",
       "      <td>http://www.pointlesssites.com</td>\n",
       "    </tr>\n",
       "    <tr>\n",
       "      <th>1</th>\n",
       "      <td>1081241</td>\n",
       "      <td>http://www.connecticutplastics.com</td>\n",
       "    </tr>\n",
       "    <tr>\n",
       "      <th>2</th>\n",
       "      <td>1162420</td>\n",
       "      <td>http://99percentinvisible.org</td>\n",
       "    </tr>\n",
       "    <tr>\n",
       "      <th>3</th>\n",
       "      <td>1146040</td>\n",
       "      <td>http://www.medicaid.gov</td>\n",
       "    </tr>\n",
       "    <tr>\n",
       "      <th>4</th>\n",
       "      <td>1117243</td>\n",
       "      <td>http://www.graalonline.com</td>\n",
       "    </tr>\n",
       "  </tbody>\n",
       "</table>\n",
       "</div>"
      ],
      "text/plain": [
       "       wid                                 url\n",
       "0  1161124       http://www.pointlesssites.com\n",
       "1  1081241  http://www.connecticutplastics.com\n",
       "2  1162420       http://99percentinvisible.org\n",
       "3  1146040             http://www.medicaid.gov\n",
       "4  1117243          http://www.graalonline.com"
      ]
     },
     "execution_count": 7,
     "metadata": {},
     "output_type": "execute_result"
    }
   ],
   "source": [
    "# Raw data\n",
    "original_data = hydra.utils.instantiate(original_cfg.data)\n",
    "\n",
    "raw_data = original_data.get_raw_data()\n",
    "processed_data = original_data.get_processed_data()\n",
    "embedded_data = original_data.get_embeddings()\n",
    "\n",
    "print(f\"Total number of samples: {len(raw_data)}\")\n",
    "raw_data.head(5)"
   ]
  },
  {
   "cell_type": "code",
   "execution_count": 8,
   "metadata": {},
   "outputs": [
    {
     "name": "stdout",
     "output_type": "stream",
     "text": [
      "Collected data on ['title', 'description', 'keywords', 'links', 'sentences', 'metatags', 'tld', 'domain']\n",
      "\n",
      "Title: PointlessSites.com  Fun Things To Do When You're Bored\n",
      "Description: Are you bored? Want something fun to do? Check out these funny websites, pointless facts and stupid pictures brought to you by Pointless Sites!\n",
      "Keywords: ['Pointless', 'Sites', 'portal,', 'useless', 'pointlessness']\n",
      "Tags: ['description', 'viewport', 'author', 'keywords', 'robots', 'copyright']\n",
      "Domain: pointlesssites\n",
      "TLD: com\n"
     ]
    }
   ],
   "source": [
    "# Example of processed website\n",
    "wid = list(processed_data.keys())[0]\n",
    "data = processed_data[wid]\n",
    "\n",
    "print(f\"Collected data on {list(data.keys())}\")\n",
    "\n",
    "# Show some examples\n",
    "print(f\"\\nTitle: {data['title']}\")\n",
    "print(f\"Description: {data['description']}\")\n",
    "print(f\"Keywords: {data['keywords']}\")\n",
    "print(f\"Tags: {data['metatags']}\")\n",
    "print(f\"Domain: {data['domain']}\")\n",
    "print(f\"TLD: {data['tld']}\")"
   ]
  },
  {
   "cell_type": "code",
   "execution_count": 9,
   "metadata": {},
   "outputs": [
    {
     "name": "stdout",
     "output_type": "stream",
     "text": [
      "ℹ️ Number of sites with TLD: 100.00%\n",
      "ℹ️ Number of sites with domain: 100.00%\n",
      "ℹ️ Number of sites with tags: 93.69%\n",
      "ℹ️ Number of sites with title: 98.42%\n",
      "ℹ️ Number of sites with description: 54.93%\n",
      "ℹ️ Number of sites with keywords: 19.58%\n",
      "ℹ️ Number of sites with links: 89.88%\n"
     ]
    }
   ],
   "source": [
    "def get_num_featues(feat):\n",
    "    return len([w[feat] for w in processed_data.values() if w[feat] is not None and w[feat] != []])\n",
    "\n",
    "n = len(processed_data)\n",
    "n_tld = get_num_featues(\"tld\")\n",
    "n_domain = get_num_featues(\"domain\")\n",
    "n_tags = get_num_featues(\"metatags\")\n",
    "n_titles = get_num_featues(\"title\")\n",
    "n_descriptions = get_num_featues(\"description\")\n",
    "n_keywords = get_num_featues(\"keywords\")\n",
    "n_links = get_num_featues(\"links\")\n",
    "\n",
    "# Print results\n",
    "print(f\"ℹ️ Number of sites with TLD: {n_tld/n*100:.2f}%\")\n",
    "print(f\"ℹ️ Number of sites with domain: {n_domain/n*100:.2f}%\")\n",
    "print(f\"ℹ️ Number of sites with tags: {n_tags/n*100:.2f}%\")\n",
    "print(f\"ℹ️ Number of sites with title: {n_titles/n*100:.2f}%\")\n",
    "print(f\"ℹ️ Number of sites with description: {n_descriptions/n*100:.2f}%\")\n",
    "print(f\"ℹ️ Number of sites with keywords: {n_keywords/n*100:.2f}%\")\n",
    "print(f\"ℹ️ Number of sites with links: {n_links/n*100:.2f}%\")"
   ]
  },
  {
   "cell_type": "markdown",
   "metadata": {},
   "source": [
    "### GPT"
   ]
  },
  {
   "cell_type": "code",
   "execution_count": 10,
   "metadata": {},
   "outputs": [
    {
     "name": "stdout",
     "output_type": "stream",
     "text": [
      "Total number of samples: 250\n"
     ]
    },
    {
     "data": {
      "text/html": [
       "<div>\n",
       "<style scoped>\n",
       "    .dataframe tbody tr th:only-of-type {\n",
       "        vertical-align: middle;\n",
       "    }\n",
       "\n",
       "    .dataframe tbody tr th {\n",
       "        vertical-align: top;\n",
       "    }\n",
       "\n",
       "    .dataframe thead th {\n",
       "        text-align: right;\n",
       "    }\n",
       "</style>\n",
       "<table border=\"1\" class=\"dataframe\">\n",
       "  <thead>\n",
       "    <tr style=\"text-align: right;\">\n",
       "      <th></th>\n",
       "      <th>wid</th>\n",
       "      <th>url</th>\n",
       "    </tr>\n",
       "  </thead>\n",
       "  <tbody>\n",
       "    <tr>\n",
       "      <th>0</th>\n",
       "      <td>0</td>\n",
       "      <td>google.com</td>\n",
       "    </tr>\n",
       "    <tr>\n",
       "      <th>1</th>\n",
       "      <td>1</td>\n",
       "      <td>facebook.com</td>\n",
       "    </tr>\n",
       "    <tr>\n",
       "      <th>2</th>\n",
       "      <td>2</td>\n",
       "      <td>youtube.com</td>\n",
       "    </tr>\n",
       "    <tr>\n",
       "      <th>3</th>\n",
       "      <td>3</td>\n",
       "      <td>amazon.com</td>\n",
       "    </tr>\n",
       "    <tr>\n",
       "      <th>4</th>\n",
       "      <td>4</td>\n",
       "      <td>wikipedia.org</td>\n",
       "    </tr>\n",
       "  </tbody>\n",
       "</table>\n",
       "</div>"
      ],
      "text/plain": [
       "   wid            url\n",
       "0    0     google.com\n",
       "1    1   facebook.com\n",
       "2    2    youtube.com\n",
       "3    3     amazon.com\n",
       "4    4  wikipedia.org"
      ]
     },
     "execution_count": 10,
     "metadata": {},
     "output_type": "execute_result"
    }
   ],
   "source": [
    "# Raw data\n",
    "gpt_data = hydra.utils.instantiate(gpt_cfg.data)\n",
    "\n",
    "raw_data = gpt_data.get_raw_data()\n",
    "processed_data = gpt_data.get_processed_data()\n",
    "embedded_jdata = gpt_data.get_embeddings()\n",
    "\n",
    "print(f\"Total number of samples: {len(raw_data)}\")\n",
    "raw_data.head(5)"
   ]
  },
  {
   "cell_type": "code",
   "execution_count": 11,
   "metadata": {},
   "outputs": [
    {
     "name": "stdout",
     "output_type": "stream",
     "text": [
      "Collected data on ['title', 'description', 'keywords', 'links', 'sentences', 'metatags', 'tld', 'domain']\n",
      "\n",
      "Title: Google\n",
      "Description: None\n",
      "Keywords: []\n",
      "Tags: ['referrer']\n",
      "Domain: google\n",
      "TLD: com\n"
     ]
    }
   ],
   "source": [
    "# Example of processed website\n",
    "wid = list(processed_data.keys())[0]\n",
    "data = processed_data[wid]\n",
    "\n",
    "print(f\"Collected data on {list(data.keys())}\")\n",
    "\n",
    "# Show some examples\n",
    "print(f\"\\nTitle: {data['title']}\")\n",
    "print(f\"Description: {data['description']}\")\n",
    "print(f\"Keywords: {data['keywords']}\")\n",
    "print(f\"Tags: {data['metatags']}\")\n",
    "print(f\"Domain: {data['domain']}\")\n",
    "print(f\"TLD: {data['tld']}\")"
   ]
  },
  {
   "cell_type": "code",
   "execution_count": 12,
   "metadata": {},
   "outputs": [
    {
     "name": "stdout",
     "output_type": "stream",
     "text": [
      "ℹ️ Number of sites with TLD: 100.00%\n",
      "ℹ️ Number of sites with domain: 100.00%\n",
      "ℹ️ Number of sites with tags: 98.17%\n",
      "ℹ️ Number of sites with title: 96.35%\n",
      "ℹ️ Number of sites with description: 86.30%\n",
      "ℹ️ Number of sites with keywords: 22.37%\n",
      "ℹ️ Number of sites with links: 85.84%\n"
     ]
    }
   ],
   "source": [
    "def get_num_featues(feat):\n",
    "    return len([w[feat] for w in processed_data.values() if w[feat] is not None and w[feat] != []])\n",
    "\n",
    "n = len(processed_data)\n",
    "n_tld = get_num_featues(\"tld\")\n",
    "n_domain = get_num_featues(\"domain\")\n",
    "n_tags = get_num_featues(\"metatags\")\n",
    "n_titles = get_num_featues(\"title\")\n",
    "n_descriptions = get_num_featues(\"description\")\n",
    "n_keywords = get_num_featues(\"keywords\")\n",
    "n_links = get_num_featues(\"links\")\n",
    "\n",
    "# Print results\n",
    "print(f\"ℹ️ Number of sites with TLD: {n_tld/n*100:.2f}%\")\n",
    "print(f\"ℹ️ Number of sites with domain: {n_domain/n*100:.2f}%\")\n",
    "print(f\"ℹ️ Number of sites with tags: {n_tags/n*100:.2f}%\")\n",
    "print(f\"ℹ️ Number of sites with title: {n_titles/n*100:.2f}%\")\n",
    "print(f\"ℹ️ Number of sites with description: {n_descriptions/n*100:.2f}%\")\n",
    "print(f\"ℹ️ Number of sites with keywords: {n_keywords/n*100:.2f}%\")\n",
    "print(f\"ℹ️ Number of sites with links: {n_links/n*100:.2f}%\")"
   ]
  },
  {
   "cell_type": "markdown",
   "metadata": {},
   "source": [
    "### Curlie"
   ]
  },
  {
   "cell_type": "code",
   "execution_count": 13,
   "metadata": {},
   "outputs": [
    {
     "name": "stdout",
     "output_type": "stream",
     "text": [
      "Total number of samples: 10000\n"
     ]
    },
    {
     "data": {
      "text/html": [
       "<div>\n",
       "<style scoped>\n",
       "    .dataframe tbody tr th:only-of-type {\n",
       "        vertical-align: middle;\n",
       "    }\n",
       "\n",
       "    .dataframe tbody tr th {\n",
       "        vertical-align: top;\n",
       "    }\n",
       "\n",
       "    .dataframe thead th {\n",
       "        text-align: right;\n",
       "    }\n",
       "</style>\n",
       "<table border=\"1\" class=\"dataframe\">\n",
       "  <thead>\n",
       "    <tr style=\"text-align: right;\">\n",
       "      <th></th>\n",
       "      <th>wid</th>\n",
       "      <th>url</th>\n",
       "    </tr>\n",
       "  </thead>\n",
       "  <tbody>\n",
       "    <tr>\n",
       "      <th>0</th>\n",
       "      <td>917678</td>\n",
       "      <td>www.winandsoft.fr</td>\n",
       "    </tr>\n",
       "    <tr>\n",
       "      <th>1</th>\n",
       "      <td>443072</td>\n",
       "      <td>gaude-ag.de</td>\n",
       "    </tr>\n",
       "    <tr>\n",
       "      <th>2</th>\n",
       "      <td>728091</td>\n",
       "      <td>www.housing.ucsb.edu</td>\n",
       "    </tr>\n",
       "    <tr>\n",
       "      <th>3</th>\n",
       "      <td>132596</td>\n",
       "      <td>www.daccad.nl</td>\n",
       "    </tr>\n",
       "    <tr>\n",
       "      <th>4</th>\n",
       "      <td>464355</td>\n",
       "      <td>www.rockhall.com</td>\n",
       "    </tr>\n",
       "  </tbody>\n",
       "</table>\n",
       "</div>"
      ],
      "text/plain": [
       "      wid                   url\n",
       "0  917678     www.winandsoft.fr\n",
       "1  443072           gaude-ag.de\n",
       "2  728091  www.housing.ucsb.edu\n",
       "3  132596         www.daccad.nl\n",
       "4  464355      www.rockhall.com"
      ]
     },
     "execution_count": 13,
     "metadata": {},
     "output_type": "execute_result"
    }
   ],
   "source": [
    "# Raw data\n",
    "curlie_data = hydra.utils.instantiate(curlie_cfg.data)\n",
    "\n",
    "raw_data = curlie_data.get_raw_data()\n",
    "processed_data = curlie_data.get_processed_data()\n",
    "embedded_jdata = curlie_data.get_embeddings()\n",
    "\n",
    "print(f\"Total number of samples: {len(raw_data)}\")\n",
    "raw_data.head(5)"
   ]
  },
  {
   "cell_type": "code",
   "execution_count": 14,
   "metadata": {},
   "outputs": [
    {
     "name": "stdout",
     "output_type": "stream",
     "text": [
      "Collected data on ['title', 'description', 'keywords', 'links', 'sentences', 'metatags', 'tld', 'domain']\n",
      "\n",
      "Title: Logiciel bibliothèque, médiathèque, vidéothèque.\n",
      "Description: Logiciel bibliothèque  logiciel permettant le catalogage de tous types de documents ou supports pour les besoins d'une bibliothèque. Le logiciel bibliothèque vous garantit la gestion documentaire la plus efficace (livres, cartes, manuscrits, incunables, etc.).\n",
      "Keywords: ['logiciel', 'bibliotheque,logiciel', 'mediatheque,logiciel', 'gestion', 'bibliotheque,logiciel', 'gestion', 'mediatheque,logiciel,bibliotheque,mediatheque']\n",
      "Tags: ['description', 'copyright', 'robots', 'keywords', 'author']\n",
      "Domain: winandsoft\n",
      "TLD: fr\n"
     ]
    }
   ],
   "source": [
    "# Example of processed website\n",
    "wid = list(processed_data.keys())[0]\n",
    "data = processed_data[wid]\n",
    "\n",
    "print(f\"Collected data on {list(data.keys())}\")\n",
    "\n",
    "# Show some examples\n",
    "print(f\"\\nTitle: {data['title']}\")\n",
    "print(f\"Description: {data['description']}\")\n",
    "print(f\"Keywords: {data['keywords']}\")\n",
    "print(f\"Tags: {data['metatags']}\")\n",
    "print(f\"Domain: {data['domain']}\")\n",
    "print(f\"TLD: {data['tld']}\")"
   ]
  },
  {
   "cell_type": "code",
   "execution_count": 15,
   "metadata": {},
   "outputs": [
    {
     "name": "stdout",
     "output_type": "stream",
     "text": [
      "ℹ️ Number of sites with TLD: 100.00%\n",
      "ℹ️ Number of sites with domain: 100.00%\n",
      "ℹ️ Number of sites with tags: 95.47%\n",
      "ℹ️ Number of sites with title: 98.28%\n",
      "ℹ️ Number of sites with description: 62.95%\n",
      "ℹ️ Number of sites with keywords: 27.29%\n",
      "ℹ️ Number of sites with links: 91.62%\n"
     ]
    }
   ],
   "source": [
    "def get_num_featues(feat):\n",
    "    return len([w[feat] for w in processed_data.values() if w[feat] is not None and w[feat] != []])\n",
    "\n",
    "n = len(processed_data)\n",
    "n_tld = get_num_featues(\"tld\")\n",
    "n_domain = get_num_featues(\"domain\")\n",
    "n_tags = get_num_featues(\"metatags\")\n",
    "n_titles = get_num_featues(\"title\")\n",
    "n_descriptions = get_num_featues(\"description\")\n",
    "n_keywords = get_num_featues(\"keywords\")\n",
    "n_links = get_num_featues(\"links\")\n",
    "\n",
    "# Print results\n",
    "print(f\"ℹ️ Number of sites with TLD: {n_tld/n*100:.2f}%\")\n",
    "print(f\"ℹ️ Number of sites with domain: {n_domain/n*100:.2f}%\")\n",
    "print(f\"ℹ️ Number of sites with tags: {n_tags/n*100:.2f}%\")\n",
    "print(f\"ℹ️ Number of sites with title: {n_titles/n*100:.2f}%\")\n",
    "print(f\"ℹ️ Number of sites with description: {n_descriptions/n*100:.2f}%\")\n",
    "print(f\"ℹ️ Number of sites with keywords: {n_keywords/n*100:.2f}%\")\n",
    "print(f\"ℹ️ Number of sites with links: {n_links/n*100:.2f}%\")"
   ]
  },
  {
   "cell_type": "markdown",
   "metadata": {},
   "source": [
    "## Labelers\n",
    "\n",
    "---\n",
    "\n",
    "There are multiple GPT labeler instances that can be used to label the data. The labelers are defined in the labelers module and are identified by a `context`, `model` and `fewshow` parameter. The `context` parameter defines the context that is used to prompt the model. The `model` parameter defines the model that is used to generate the labels. The `fewshot` parameter defines whether the model is trained in a few-shot manner or not.\n",
    "\n",
    "| Parameter | Variants | Description |\n",
    "| --- | --- | ---  |\n",
    "| `context` | `context1` | Uses the `tld`, `domain` and `metatags` as context |\n",
    "| | `context2` | Uses the `tld`, `domain`, `metatags`, `links` and `text` as context |\n",
    "| | `context3` | Uses the `tld`, `domain`, `metatags`, `links`, `text` and `images` as context |\n",
    "| `model` | `gpt3.5` | Uses GPT-3.5 (`gpt-3.5-turbo-1106`) |\n",
    "| | `gpt4` | Uses GPT-4 (`gpt-4-1106-preview`) |\n",
    "| `fewshot` | `fewshot` | Injects an example website and label into the system prompt |\n",
    "| | `zeroshot` | Does not inject any example website or label into the system prompt |\n",
    "\n",
    "We are considering all contexts and few-shot settings for the GPT-3.5 model, but only the `context2` for the GPT-4 model. Additionally, we have the `human` labeler which simply loads the annotatations for the `original` dataset from the [Homepage2Vec paper](https://arxiv.org/abs/1905.09786)."
   ]
  },
  {
   "cell_type": "code",
   "execution_count": 17,
   "metadata": {},
   "outputs": [],
   "source": [
    "# Initialise configuration for all labelers\n",
    "gpt_labeler_names = [\"gpt3.5-zeroshot-context1\", \"gpt3.5-oneshot-context1\", \"gpt3.5-zeroshot-context2\", \"gpt3.5-oneshot-context2\", \"gpt3.5-zeroshot-context3\", \"gpt3.5-oneshot-context3\"] \n",
    "\n",
    "gpt_labelers_cfg = {labeler: hydra.compose(config_name=\"eda\", overrides=[f\"labeler={labeler}\"]) for labeler in gpt_labeler_names}"
   ]
  },
  {
   "cell_type": "code",
   "execution_count": 18,
   "metadata": {},
   "outputs": [],
   "source": [
    "# Instantiate data\n",
    "original_data_cfg = hydra.compose(config_name=\"eda\", overrides=[\"data=original\"])\n",
    "original_data = hydra.utils.instantiate(original_data_cfg.data)"
   ]
  },
  {
   "cell_type": "code",
   "execution_count": 19,
   "metadata": {},
   "outputs": [],
   "source": [
    "# Instantiate labelers\n",
    "gpt_labelers = {labeler: hydra.utils.instantiate(cfg.labeler, data=original_data) for labeler, cfg in gpt_labelers_cfg.items()}"
   ]
  },
  {
   "cell_type": "code",
   "execution_count": 20,
   "metadata": {},
   "outputs": [
    {
     "data": {
      "text/html": [
       "<div>\n",
       "<style scoped>\n",
       "    .dataframe tbody tr th:only-of-type {\n",
       "        vertical-align: middle;\n",
       "    }\n",
       "\n",
       "    .dataframe tbody tr th {\n",
       "        vertical-align: top;\n",
       "    }\n",
       "\n",
       "    .dataframe thead th {\n",
       "        text-align: right;\n",
       "    }\n",
       "</style>\n",
       "<table border=\"1\" class=\"dataframe\">\n",
       "  <thead>\n",
       "    <tr style=\"text-align: right;\">\n",
       "      <th></th>\n",
       "      <th>model</th>\n",
       "      <th>context</th>\n",
       "      <th>shot</th>\n",
       "    </tr>\n",
       "  </thead>\n",
       "  <tbody>\n",
       "    <tr>\n",
       "      <th>gpt3.5-zeroshot-context1</th>\n",
       "      <td>gpt-3.5-turbo-1106</td>\n",
       "      <td>context1</td>\n",
       "      <td>False</td>\n",
       "    </tr>\n",
       "    <tr>\n",
       "      <th>gpt3.5-oneshot-context1</th>\n",
       "      <td>gpt-3.5-turbo-1106</td>\n",
       "      <td>context1</td>\n",
       "      <td>True</td>\n",
       "    </tr>\n",
       "    <tr>\n",
       "      <th>gpt3.5-zeroshot-context2</th>\n",
       "      <td>gpt-3.5-turbo-1106</td>\n",
       "      <td>context2</td>\n",
       "      <td>False</td>\n",
       "    </tr>\n",
       "    <tr>\n",
       "      <th>gpt3.5-oneshot-context2</th>\n",
       "      <td>gpt-3.5-turbo-1106</td>\n",
       "      <td>context2</td>\n",
       "      <td>True</td>\n",
       "    </tr>\n",
       "    <tr>\n",
       "      <th>gpt3.5-zeroshot-context3</th>\n",
       "      <td>gpt-3.5-turbo-1106</td>\n",
       "      <td>context3</td>\n",
       "      <td>False</td>\n",
       "    </tr>\n",
       "    <tr>\n",
       "      <th>gpt3.5-oneshot-context3</th>\n",
       "      <td>gpt-3.5-turbo-1106</td>\n",
       "      <td>context3</td>\n",
       "      <td>True</td>\n",
       "    </tr>\n",
       "  </tbody>\n",
       "</table>\n",
       "</div>"
      ],
      "text/plain": [
       "                                       model   context   shot\n",
       "gpt3.5-zeroshot-context1  gpt-3.5-turbo-1106  context1  False\n",
       "gpt3.5-oneshot-context1   gpt-3.5-turbo-1106  context1   True\n",
       "gpt3.5-zeroshot-context2  gpt-3.5-turbo-1106  context2  False\n",
       "gpt3.5-oneshot-context2   gpt-3.5-turbo-1106  context2   True\n",
       "gpt3.5-zeroshot-context3  gpt-3.5-turbo-1106  context3  False\n",
       "gpt3.5-oneshot-context3   gpt-3.5-turbo-1106  context3   True"
      ]
     },
     "execution_count": 20,
     "metadata": {},
     "output_type": "execute_result"
    }
   ],
   "source": [
    "# Instatntiate labelers dataframe\n",
    "def get_info(labeler):\n",
    "    return {\n",
    "        \"model\": labeler.model,\n",
    "        \"context\": labeler.name.split(\"-\")[-1],\n",
    "        \"shot\": labeler.fewshot,\n",
    "    }\n",
    "\n",
    "labeler_info = pd.DataFrame([get_info(labeler) for labeler in gpt_labelers.values()], index=gpt_labelers.keys())\n",
    "labeler_info"
   ]
  },
  {
   "cell_type": "markdown",
   "metadata": {},
   "source": [
    "Let's verify that the labelers are working as expected by checking the number of labeled webpages."
   ]
  },
  {
   "cell_type": "code",
   "execution_count": 21,
   "metadata": {},
   "outputs": [
    {
     "name": "stdout",
     "output_type": "stream",
     "text": [
      "ℹ️ Number of processed websites: 761\n",
      "ℹ️ Number of gpt3.5-zeroshot-context1 labels: 761\n",
      "ℹ️ Number of gpt3.5-oneshot-context1 labels: 761\n",
      "ℹ️ Number of gpt3.5-zeroshot-context2 labels: 761\n",
      "ℹ️ Number of gpt3.5-oneshot-context2 labels: 761\n",
      "ℹ️ Number of gpt3.5-zeroshot-context3 labels: 761\n",
      "ℹ️ Number of gpt3.5-oneshot-context3 labels: 761\n"
     ]
    }
   ],
   "source": [
    "num_processed_websites = len(original_data.get_processed_data())\n",
    "\n",
    "print(f\"ℹ️ Number of processed websites: {num_processed_websites}\")\n",
    "for name, labeler in gpt_labelers.items():\n",
    "    num_labels = len(labeler.get_labels())\n",
    "    print(f\"ℹ️ Number of {name} labels: {num_labels}\")"
   ]
  },
  {
   "cell_type": "markdown",
   "metadata": {},
   "source": [
    "### Labeling statistics\n",
    "\n",
    "Let's investigate some statistics about the labelers. We will compute:\n",
    "\n",
    "* The average number of labels per website\n",
    "* The number of valid labels\n",
    "* The number of invalid labels\n",
    "* The average time taken to label a website\n",
    "* The average number of prompt and completion tokens used to label a website\n",
    "* The estimated cost of labeling the entire dataset"
   ]
  },
  {
   "cell_type": "code",
   "execution_count": 22,
   "metadata": {},
   "outputs": [],
   "source": [
    "def get_statistics(labeler):\n",
    "    statistics = {\"valid\": 0, \"invalid\": 0, \"lpp\": [], \"durations\": [], \"prompt_tokens\": [], \"completion_tokens\": []}\n",
    "    for website in labeler.get_labels().values():\n",
    "        if not website[\"is_valid\"]:\n",
    "            statistics[\"invalid\"] += 1\n",
    "            continue\n",
    "\n",
    "        statistics[\"valid\"] += 1\n",
    "        statistics[\"lpp\"].append(sum(website[\"labels\"]))\n",
    "        statistics[\"durations\"].append(website[\"duration\"])\n",
    "        statistics[\"prompt_tokens\"].append(website[\"prompt_tokens\"])\n",
    "        statistics[\"completion_tokens\"].append(website[\"completion_tokens\"])\n",
    "\n",
    "    lpps = np.array(statistics[\"lpp\"])\n",
    "    durations = np.array(statistics[\"durations\"])\n",
    "    prompt_tokens = np.array(statistics[\"prompt_tokens\"])\n",
    "    completion_tokens = np.array(statistics[\"completion_tokens\"])\n",
    "\n",
    "    statistics[\"lpp\"] = f\"{lpps.mean():.2f} ± {lpps.std():.2f}\"\n",
    "    statistics[\"durations\"] = f\"{durations.mean():.2f} ± {durations.std():.2f}\"\n",
    "    statistics[\"prompt_tokens\"] = f\"{prompt_tokens.mean():.2f} ± {prompt_tokens.std():.2f}\"\n",
    "    statistics[\"completion_tokens\"] = f\"{completion_tokens.mean():.2f} ± {completion_tokens.std():.2f}\"\n",
    "    \n",
    "    # Compute estimated cost\n",
    "    model = labeler.model\n",
    "    COST_PER_INP_TOKEN = GPT4_COST_PER_INP_TOKEN if \"gpt4\" in model else GPT3_5_COST_PER_INP_TOKEN\n",
    "    COST_PER_OUT_TOKEN = GPT4_COST_PER_OUT_TOKEN if \"gpt4\" in model else GPT3_5_COST_PER_OUT_TOKEN\n",
    "\n",
    "    statistics[\"estimated_cost\"] = f\"{(prompt_tokens.sum() * COST_PER_INP_TOKEN + completion_tokens.sum() * COST_PER_OUT_TOKEN):.2f}\"\n",
    "\n",
    "    return statistics"
   ]
  },
  {
   "cell_type": "code",
   "execution_count": 23,
   "metadata": {},
   "outputs": [
    {
     "data": {
      "text/html": [
       "<div>\n",
       "<style scoped>\n",
       "    .dataframe tbody tr th:only-of-type {\n",
       "        vertical-align: middle;\n",
       "    }\n",
       "\n",
       "    .dataframe tbody tr th {\n",
       "        vertical-align: top;\n",
       "    }\n",
       "\n",
       "    .dataframe thead th {\n",
       "        text-align: right;\n",
       "    }\n",
       "</style>\n",
       "<table border=\"1\" class=\"dataframe\">\n",
       "  <thead>\n",
       "    <tr style=\"text-align: right;\">\n",
       "      <th></th>\n",
       "      <th>valid</th>\n",
       "      <th>invalid</th>\n",
       "      <th>lpp</th>\n",
       "      <th>durations</th>\n",
       "      <th>prompt_tokens</th>\n",
       "      <th>completion_tokens</th>\n",
       "      <th>estimated_cost</th>\n",
       "    </tr>\n",
       "  </thead>\n",
       "  <tbody>\n",
       "    <tr>\n",
       "      <th>gpt3.5-zeroshot-context1</th>\n",
       "      <td>761</td>\n",
       "      <td>0</td>\n",
       "      <td>0.39 ± 0.61</td>\n",
       "      <td>3.51 ± 5.87</td>\n",
       "      <td>148.80 ± 18.14</td>\n",
       "      <td>107.54 ± 2.75</td>\n",
       "      <td>0.28</td>\n",
       "    </tr>\n",
       "    <tr>\n",
       "      <th>gpt3.5-oneshot-context1</th>\n",
       "      <td>761</td>\n",
       "      <td>0</td>\n",
       "      <td>0.91 ± 0.95</td>\n",
       "      <td>2.99 ± 4.61</td>\n",
       "      <td>292.80 ± 18.14</td>\n",
       "      <td>92.71 ± 3.31</td>\n",
       "      <td>0.36</td>\n",
       "    </tr>\n",
       "    <tr>\n",
       "      <th>gpt3.5-zeroshot-context2</th>\n",
       "      <td>761</td>\n",
       "      <td>0</td>\n",
       "      <td>1.39 ± 0.98</td>\n",
       "      <td>3.63 ± 6.79</td>\n",
       "      <td>206.30 ± 60.33</td>\n",
       "      <td>107.90 ± 1.48</td>\n",
       "      <td>0.32</td>\n",
       "    </tr>\n",
       "    <tr>\n",
       "      <th>gpt3.5-oneshot-context2</th>\n",
       "      <td>761</td>\n",
       "      <td>0</td>\n",
       "      <td>1.68 ± 1.15</td>\n",
       "      <td>2.85 ± 0.42</td>\n",
       "      <td>448.30 ± 60.33</td>\n",
       "      <td>93.11 ± 4.06</td>\n",
       "      <td>0.48</td>\n",
       "    </tr>\n",
       "    <tr>\n",
       "      <th>gpt3.5-zeroshot-context3</th>\n",
       "      <td>761</td>\n",
       "      <td>0</td>\n",
       "      <td>1.57 ± 1.08</td>\n",
       "      <td>3.27 ± 0.69</td>\n",
       "      <td>350.13 ± 124.30</td>\n",
       "      <td>108.00 ± 0.06</td>\n",
       "      <td>0.43</td>\n",
       "    </tr>\n",
       "    <tr>\n",
       "      <th>gpt3.5-oneshot-context3</th>\n",
       "      <td>761</td>\n",
       "      <td>0</td>\n",
       "      <td>1.85 ± 1.24</td>\n",
       "      <td>3.07 ± 4.31</td>\n",
       "      <td>615.13 ± 124.30</td>\n",
       "      <td>94.92 ± 6.18</td>\n",
       "      <td>0.61</td>\n",
       "    </tr>\n",
       "  </tbody>\n",
       "</table>\n",
       "</div>"
      ],
      "text/plain": [
       "                          valid  invalid          lpp    durations  \\\n",
       "gpt3.5-zeroshot-context1    761        0  0.39 ± 0.61  3.51 ± 5.87   \n",
       "gpt3.5-oneshot-context1     761        0  0.91 ± 0.95  2.99 ± 4.61   \n",
       "gpt3.5-zeroshot-context2    761        0  1.39 ± 0.98  3.63 ± 6.79   \n",
       "gpt3.5-oneshot-context2     761        0  1.68 ± 1.15  2.85 ± 0.42   \n",
       "gpt3.5-zeroshot-context3    761        0  1.57 ± 1.08  3.27 ± 0.69   \n",
       "gpt3.5-oneshot-context3     761        0  1.85 ± 1.24  3.07 ± 4.31   \n",
       "\n",
       "                            prompt_tokens completion_tokens estimated_cost  \n",
       "gpt3.5-zeroshot-context1   148.80 ± 18.14     107.54 ± 2.75           0.28  \n",
       "gpt3.5-oneshot-context1    292.80 ± 18.14      92.71 ± 3.31           0.36  \n",
       "gpt3.5-zeroshot-context2   206.30 ± 60.33     107.90 ± 1.48           0.32  \n",
       "gpt3.5-oneshot-context2    448.30 ± 60.33      93.11 ± 4.06           0.48  \n",
       "gpt3.5-zeroshot-context3  350.13 ± 124.30     108.00 ± 0.06           0.43  \n",
       "gpt3.5-oneshot-context3   615.13 ± 124.30      94.92 ± 6.18           0.61  "
      ]
     },
     "execution_count": 23,
     "metadata": {},
     "output_type": "execute_result"
    }
   ],
   "source": [
    "labeler_statistics = pd.DataFrame([get_statistics(labeler) for labeler in gpt_labelers.values()], index=gpt_labelers.keys())\n",
    "labeler_statistics"
   ]
  },
  {
   "cell_type": "markdown",
   "metadata": {},
   "source": [
    "### Class Distribution"
   ]
  },
  {
   "cell_type": "code",
   "execution_count": 24,
   "metadata": {},
   "outputs": [],
   "source": [
    "def get_dist(labeler):\n",
    "    labels = np.array([website[\"labels\"] for website in labeler.get_labels().values()])\n",
    "    return {category: count for category, count in zip(categories, labels.sum(0))}\n",
    "\n",
    "dists = {name: get_dist(labeler) for name, labeler in gpt_labelers.items()}"
   ]
  },
  {
   "cell_type": "code",
   "execution_count": 25,
   "metadata": {},
   "outputs": [
    {
     "name": "stdout",
     "output_type": "stream",
     "text": [
      "✅ Plotted labelled category distribution\n"
     ]
    },
    {
     "data": {
      "image/png": "[encoded data removed]",
      "text/plain": [
       "<Figure size 2000x600 with 1 Axes>"
      ]
     },
     "metadata": {},
     "output_type": "display_data"
    }
   ],
   "source": [
    "rows = []\n",
    "for labeler, class_dist in dists.items():\n",
    "    for category, count in class_dist.items():\n",
    "        rows.append({\"labeler\": labeler, \"category\": category, \"count\": count})\n",
    "\n",
    "labeling_dists = pd.DataFrame(rows)\n",
    "\n",
    "fig, ax = plt.subplots(figsize=(20, 6))\n",
    "sns.barplot(\n",
    "    labeling_dists,\n",
    "    x=\"category\",\n",
    "    y=\"count\",\n",
    "    hue=\"labeler\",\n",
    "    ax=ax\n",
    ")\n",
    "ax.get_legend().set_title(\"Labeler\")\n",
    "ax.set_xlabel(\"Category\", fontsize=14)\n",
    "ax.set_ylabel(\"Count\", fontsize=14)\n",
    "ax.set_title(\"Label Distribution per Category\", fontsize=16)\n",
    "\n",
    "print(f\"✅ Plotted labelled category distribution\")"
   ]
  },
  {
   "cell_type": "markdown",
   "metadata": {},
   "source": [
    "### Labeling Quality\n",
    "\n",
    "The goal of all GPT labelers is to replicate the ground truth labels provide by the human annotators as closely as possible. As we only have human annotations for the original dataset, we can only evaluate the labelers on this dataset."
   ]
  },
  {
   "cell_type": "code",
   "execution_count": 26,
   "metadata": {},
   "outputs": [],
   "source": [
    "# Instatiate human labeler\n",
    "original_cfg = hydra.compose(config_name=\"eda\", overrides=[\"data=original\"])\n",
    "human_labeler_cfg = hydra.compose(config_name=\"eda\", overrides=[\"labeler=human\", \"data=original\"])\n",
    "original_data = hydra.utils.instantiate(original_cfg.data)\n",
    "human_labeler = hydra.utils.instantiate(human_labeler_cfg.labeler, data=original_data)"
   ]
  },
  {
   "cell_type": "code",
   "execution_count": 27,
   "metadata": {},
   "outputs": [],
   "source": [
    "def match_labels(labeler1, labeler2, subset = None):\n",
    "    labels1 = labeler1.get_labels()\n",
    "    labels2 = labeler2.get_labels()\n",
    "    wid1 = set(labels1.keys())\n",
    "    wid2 = set(labels2.keys())\n",
    "    matched_wid = wid1 & wid2\n",
    "    if subset:\n",
    "        matched_wid = matched_wid & subset\n",
    "\n",
    "    labels1 = np.array([labels1[wid][\"labels\"] for wid in matched_wid])\n",
    "    labels2 = np.array([labels2[wid][\"labels\"] for wid in matched_wid])\n",
    "\n",
    "    return labels1, labels2"
   ]
  },
  {
   "cell_type": "code",
   "execution_count": 28,
   "metadata": {},
   "outputs": [
    {
     "data": {
      "text/html": [
       "<div>\n",
       "<style scoped>\n",
       "    .dataframe tbody tr th:only-of-type {\n",
       "        vertical-align: middle;\n",
       "    }\n",
       "\n",
       "    .dataframe tbody tr th {\n",
       "        vertical-align: top;\n",
       "    }\n",
       "\n",
       "    .dataframe thead th {\n",
       "        text-align: right;\n",
       "    }\n",
       "</style>\n",
       "<table border=\"1\" class=\"dataframe\">\n",
       "  <thead>\n",
       "    <tr style=\"text-align: right;\">\n",
       "      <th></th>\n",
       "      <th>acc</th>\n",
       "      <th>subset_acc</th>\n",
       "      <th>macro_f1</th>\n",
       "      <th>micro_f1</th>\n",
       "      <th>weighted_f1</th>\n",
       "      <th>macro_precision</th>\n",
       "      <th>micro_precision</th>\n",
       "      <th>macro_recall</th>\n",
       "      <th>micro_recall</th>\n",
       "    </tr>\n",
       "  </thead>\n",
       "  <tbody>\n",
       "    <tr>\n",
       "      <th>gpt3.5-zeroshot-context1</th>\n",
       "      <td>0.827013</td>\n",
       "      <td>0.085414</td>\n",
       "      <td>0.159570</td>\n",
       "      <td>0.162653</td>\n",
       "      <td>0.155489</td>\n",
       "      <td>0.635233</td>\n",
       "      <td>0.606780</td>\n",
       "      <td>0.097283</td>\n",
       "      <td>0.093914</td>\n",
       "    </tr>\n",
       "    <tr>\n",
       "      <th>gpt3.5-oneshot-context1</th>\n",
       "      <td>0.826826</td>\n",
       "      <td>0.091984</td>\n",
       "      <td>0.232630</td>\n",
       "      <td>0.289017</td>\n",
       "      <td>0.277751</td>\n",
       "      <td>0.565566</td>\n",
       "      <td>0.544267</td>\n",
       "      <td>0.161507</td>\n",
       "      <td>0.196747</td>\n",
       "    </tr>\n",
       "    <tr>\n",
       "      <th>gpt3.5-zeroshot-context2</th>\n",
       "      <td>0.836306</td>\n",
       "      <td>0.139290</td>\n",
       "      <td>0.375855</td>\n",
       "      <td>0.412003</td>\n",
       "      <td>0.411554</td>\n",
       "      <td>0.562262</td>\n",
       "      <td>0.576415</td>\n",
       "      <td>0.297584</td>\n",
       "      <td>0.320567</td>\n",
       "    </tr>\n",
       "    <tr>\n",
       "      <th>gpt3.5-oneshot-context2</th>\n",
       "      <td>0.832551</td>\n",
       "      <td>0.127464</td>\n",
       "      <td>0.386863</td>\n",
       "      <td>0.440402</td>\n",
       "      <td>0.440510</td>\n",
       "      <td>0.526652</td>\n",
       "      <td>0.547582</td>\n",
       "      <td>0.320552</td>\n",
       "      <td>0.368311</td>\n",
       "    </tr>\n",
       "    <tr>\n",
       "      <th>gpt3.5-zeroshot-context3</th>\n",
       "      <td>0.828046</td>\n",
       "      <td>0.128778</td>\n",
       "      <td>0.372394</td>\n",
       "      <td>0.409794</td>\n",
       "      <td>0.410367</td>\n",
       "      <td>0.499444</td>\n",
       "      <td>0.530885</td>\n",
       "      <td>0.314836</td>\n",
       "      <td>0.333683</td>\n",
       "    </tr>\n",
       "    <tr>\n",
       "      <th>gpt3.5-oneshot-context3</th>\n",
       "      <td>0.821476</td>\n",
       "      <td>0.115637</td>\n",
       "      <td>0.377024</td>\n",
       "      <td>0.426071</td>\n",
       "      <td>0.428640</td>\n",
       "      <td>0.464730</td>\n",
       "      <td>0.501420</td>\n",
       "      <td>0.328673</td>\n",
       "      <td>0.370409</td>\n",
       "    </tr>\n",
       "  </tbody>\n",
       "</table>\n",
       "</div>"
      ],
      "text/plain": [
       "                               acc  subset_acc  macro_f1  micro_f1  \\\n",
       "gpt3.5-zeroshot-context1  0.827013    0.085414  0.159570  0.162653   \n",
       "gpt3.5-oneshot-context1   0.826826    0.091984  0.232630  0.289017   \n",
       "gpt3.5-zeroshot-context2  0.836306    0.139290  0.375855  0.412003   \n",
       "gpt3.5-oneshot-context2   0.832551    0.127464  0.386863  0.440402   \n",
       "gpt3.5-zeroshot-context3  0.828046    0.128778  0.372394  0.409794   \n",
       "gpt3.5-oneshot-context3   0.821476    0.115637  0.377024  0.426071   \n",
       "\n",
       "                          weighted_f1  macro_precision  micro_precision  \\\n",
       "gpt3.5-zeroshot-context1     0.155489         0.635233         0.606780   \n",
       "gpt3.5-oneshot-context1      0.277751         0.565566         0.544267   \n",
       "gpt3.5-zeroshot-context2     0.411554         0.562262         0.576415   \n",
       "gpt3.5-oneshot-context2      0.440510         0.526652         0.547582   \n",
       "gpt3.5-zeroshot-context3     0.410367         0.499444         0.530885   \n",
       "gpt3.5-oneshot-context3      0.428640         0.464730         0.501420   \n",
       "\n",
       "                          macro_recall  micro_recall  \n",
       "gpt3.5-zeroshot-context1      0.097283      0.093914  \n",
       "gpt3.5-oneshot-context1       0.161507      0.196747  \n",
       "gpt3.5-zeroshot-context2      0.297584      0.320567  \n",
       "gpt3.5-oneshot-context2       0.320552      0.368311  \n",
       "gpt3.5-zeroshot-context3      0.314836      0.333683  \n",
       "gpt3.5-oneshot-context3       0.328673      0.370409  "
      ]
     },
     "execution_count": 28,
     "metadata": {},
     "output_type": "execute_result"
    }
   ],
   "source": [
    "from sklearn.metrics import accuracy_score, f1_score, precision_score, recall_score\n",
    "\n",
    "labeler_perf = []\n",
    "for name, labeler in gpt_labelers.items():\n",
    "    labels1, labels2 = match_labels(human_labeler, labeler)\n",
    "\n",
    "    acc = accuracy_score(labels1.flatten(), labels2.flatten())\n",
    "    subset_acc = accuracy_score(labels1, labels2)\n",
    "    macro_f1 = f1_score(labels1, labels2, average=\"macro\")\n",
    "    micro_f1 = f1_score(labels1, labels2, average=\"micro\")\n",
    "    weighted_f1 = f1_score(labels1, labels2, average=\"weighted\")\n",
    "    macro_precision = precision_score(labels1, labels2, average=\"macro\", zero_division=0)\n",
    "    micro_precision = precision_score(labels1, labels2, average=\"micro\", zero_division=0)\n",
    "    macro_recall = recall_score(labels1, labels2, average=\"macro\", zero_division=0)\n",
    "    micro_recall = recall_score(labels1, labels2, average=\"micro\", zero_division=0)\n",
    "\n",
    "    labeler_perf.append({\n",
    "        \"acc\": acc,\n",
    "        \"subset_acc\": subset_acc,\n",
    "        \"macro_f1\": macro_f1,\n",
    "        \"micro_f1\": micro_f1,\n",
    "        \"weighted_f1\": weighted_f1,\n",
    "        \"macro_precision\": macro_precision,\n",
    "        \"micro_precision\": micro_precision,\n",
    "        \"macro_recall\": macro_recall,\n",
    "        \"micro_recall\": micro_recall,\n",
    "    })\n",
    "\n",
    "labeler_perf = pd.DataFrame(labeler_perf, index=gpt_labelers.keys())\n",
    "labeler_perf"
   ]
  },
  {
   "cell_type": "markdown",
   "metadata": {},
   "source": [
    "### Analysis"
   ]
  },
  {
   "cell_type": "code",
   "execution_count": 29,
   "metadata": {},
   "outputs": [],
   "source": [
    "# Join with labeling statistics\n",
    "labelers_df = pd.concat([labeler_info, labeler_statistics, labeler_perf], axis=1)"
   ]
  },
  {
   "cell_type": "code",
   "execution_count": 30,
   "metadata": {},
   "outputs": [
    {
     "data": {
      "text/html": [
       "<div>\n",
       "<style scoped>\n",
       "    .dataframe tbody tr th:only-of-type {\n",
       "        vertical-align: middle;\n",
       "    }\n",
       "\n",
       "    .dataframe tbody tr th {\n",
       "        vertical-align: top;\n",
       "    }\n",
       "\n",
       "    .dataframe thead th {\n",
       "        text-align: right;\n",
       "    }\n",
       "</style>\n",
       "<table border=\"1\" class=\"dataframe\">\n",
       "  <thead>\n",
       "    <tr style=\"text-align: right;\">\n",
       "      <th></th>\n",
       "      <th>model</th>\n",
       "      <th>context</th>\n",
       "      <th>shot</th>\n",
       "      <th>valid</th>\n",
       "      <th>invalid</th>\n",
       "      <th>lpp</th>\n",
       "      <th>durations</th>\n",
       "      <th>prompt_tokens</th>\n",
       "      <th>completion_tokens</th>\n",
       "      <th>estimated_cost</th>\n",
       "      <th>acc</th>\n",
       "      <th>subset_acc</th>\n",
       "      <th>macro_f1</th>\n",
       "      <th>micro_f1</th>\n",
       "      <th>weighted_f1</th>\n",
       "      <th>macro_precision</th>\n",
       "      <th>micro_precision</th>\n",
       "      <th>macro_recall</th>\n",
       "      <th>micro_recall</th>\n",
       "    </tr>\n",
       "  </thead>\n",
       "  <tbody>\n",
       "    <tr>\n",
       "      <th>gpt3.5-oneshot-context2</th>\n",
       "      <td>gpt-3.5-turbo-1106</td>\n",
       "      <td>context2</td>\n",
       "      <td>True</td>\n",
       "      <td>761</td>\n",
       "      <td>0</td>\n",
       "      <td>1.68 ± 1.15</td>\n",
       "      <td>2.85 ± 0.42</td>\n",
       "      <td>448.30 ± 60.33</td>\n",
       "      <td>93.11 ± 4.06</td>\n",
       "      <td>0.48</td>\n",
       "      <td>0.832551</td>\n",
       "      <td>0.127464</td>\n",
       "      <td>0.386863</td>\n",
       "      <td>0.440402</td>\n",
       "      <td>0.440510</td>\n",
       "      <td>0.526652</td>\n",
       "      <td>0.547582</td>\n",
       "      <td>0.320552</td>\n",
       "      <td>0.368311</td>\n",
       "    </tr>\n",
       "    <tr>\n",
       "      <th>gpt3.5-oneshot-context3</th>\n",
       "      <td>gpt-3.5-turbo-1106</td>\n",
       "      <td>context3</td>\n",
       "      <td>True</td>\n",
       "      <td>761</td>\n",
       "      <td>0</td>\n",
       "      <td>1.85 ± 1.24</td>\n",
       "      <td>3.07 ± 4.31</td>\n",
       "      <td>615.13 ± 124.30</td>\n",
       "      <td>94.92 ± 6.18</td>\n",
       "      <td>0.61</td>\n",
       "      <td>0.821476</td>\n",
       "      <td>0.115637</td>\n",
       "      <td>0.377024</td>\n",
       "      <td>0.426071</td>\n",
       "      <td>0.428640</td>\n",
       "      <td>0.464730</td>\n",
       "      <td>0.501420</td>\n",
       "      <td>0.328673</td>\n",
       "      <td>0.370409</td>\n",
       "    </tr>\n",
       "    <tr>\n",
       "      <th>gpt3.5-zeroshot-context2</th>\n",
       "      <td>gpt-3.5-turbo-1106</td>\n",
       "      <td>context2</td>\n",
       "      <td>False</td>\n",
       "      <td>761</td>\n",
       "      <td>0</td>\n",
       "      <td>1.39 ± 0.98</td>\n",
       "      <td>3.63 ± 6.79</td>\n",
       "      <td>206.30 ± 60.33</td>\n",
       "      <td>107.90 ± 1.48</td>\n",
       "      <td>0.32</td>\n",
       "      <td>0.836306</td>\n",
       "      <td>0.139290</td>\n",
       "      <td>0.375855</td>\n",
       "      <td>0.412003</td>\n",
       "      <td>0.411554</td>\n",
       "      <td>0.562262</td>\n",
       "      <td>0.576415</td>\n",
       "      <td>0.297584</td>\n",
       "      <td>0.320567</td>\n",
       "    </tr>\n",
       "    <tr>\n",
       "      <th>gpt3.5-zeroshot-context3</th>\n",
       "      <td>gpt-3.5-turbo-1106</td>\n",
       "      <td>context3</td>\n",
       "      <td>False</td>\n",
       "      <td>761</td>\n",
       "      <td>0</td>\n",
       "      <td>1.57 ± 1.08</td>\n",
       "      <td>3.27 ± 0.69</td>\n",
       "      <td>350.13 ± 124.30</td>\n",
       "      <td>108.00 ± 0.06</td>\n",
       "      <td>0.43</td>\n",
       "      <td>0.828046</td>\n",
       "      <td>0.128778</td>\n",
       "      <td>0.372394</td>\n",
       "      <td>0.409794</td>\n",
       "      <td>0.410367</td>\n",
       "      <td>0.499444</td>\n",
       "      <td>0.530885</td>\n",
       "      <td>0.314836</td>\n",
       "      <td>0.333683</td>\n",
       "    </tr>\n",
       "    <tr>\n",
       "      <th>gpt3.5-oneshot-context1</th>\n",
       "      <td>gpt-3.5-turbo-1106</td>\n",
       "      <td>context1</td>\n",
       "      <td>True</td>\n",
       "      <td>761</td>\n",
       "      <td>0</td>\n",
       "      <td>0.91 ± 0.95</td>\n",
       "      <td>2.99 ± 4.61</td>\n",
       "      <td>292.80 ± 18.14</td>\n",
       "      <td>92.71 ± 3.31</td>\n",
       "      <td>0.36</td>\n",
       "      <td>0.826826</td>\n",
       "      <td>0.091984</td>\n",
       "      <td>0.232630</td>\n",
       "      <td>0.289017</td>\n",
       "      <td>0.277751</td>\n",
       "      <td>0.565566</td>\n",
       "      <td>0.544267</td>\n",
       "      <td>0.161507</td>\n",
       "      <td>0.196747</td>\n",
       "    </tr>\n",
       "  </tbody>\n",
       "</table>\n",
       "</div>"
      ],
      "text/plain": [
       "                                       model   context   shot  valid  invalid  \\\n",
       "gpt3.5-oneshot-context2   gpt-3.5-turbo-1106  context2   True    761        0   \n",
       "gpt3.5-oneshot-context3   gpt-3.5-turbo-1106  context3   True    761        0   \n",
       "gpt3.5-zeroshot-context2  gpt-3.5-turbo-1106  context2  False    761        0   \n",
       "gpt3.5-zeroshot-context3  gpt-3.5-turbo-1106  context3  False    761        0   \n",
       "gpt3.5-oneshot-context1   gpt-3.5-turbo-1106  context1   True    761        0   \n",
       "\n",
       "                                  lpp    durations    prompt_tokens  \\\n",
       "gpt3.5-oneshot-context2   1.68 ± 1.15  2.85 ± 0.42   448.30 ± 60.33   \n",
       "gpt3.5-oneshot-context3   1.85 ± 1.24  3.07 ± 4.31  615.13 ± 124.30   \n",
       "gpt3.5-zeroshot-context2  1.39 ± 0.98  3.63 ± 6.79   206.30 ± 60.33   \n",
       "gpt3.5-zeroshot-context3  1.57 ± 1.08  3.27 ± 0.69  350.13 ± 124.30   \n",
       "gpt3.5-oneshot-context1   0.91 ± 0.95  2.99 ± 4.61   292.80 ± 18.14   \n",
       "\n",
       "                         completion_tokens estimated_cost       acc  \\\n",
       "gpt3.5-oneshot-context2       93.11 ± 4.06           0.48  0.832551   \n",
       "gpt3.5-oneshot-context3       94.92 ± 6.18           0.61  0.821476   \n",
       "gpt3.5-zeroshot-context2     107.90 ± 1.48           0.32  0.836306   \n",
       "gpt3.5-zeroshot-context3     108.00 ± 0.06           0.43  0.828046   \n",
       "gpt3.5-oneshot-context1       92.71 ± 3.31           0.36  0.826826   \n",
       "\n",
       "                          subset_acc  macro_f1  micro_f1  weighted_f1  \\\n",
       "gpt3.5-oneshot-context2     0.127464  0.386863  0.440402     0.440510   \n",
       "gpt3.5-oneshot-context3     0.115637  0.377024  0.426071     0.428640   \n",
       "gpt3.5-zeroshot-context2    0.139290  0.375855  0.412003     0.411554   \n",
       "gpt3.5-zeroshot-context3    0.128778  0.372394  0.409794     0.410367   \n",
       "gpt3.5-oneshot-context1     0.091984  0.232630  0.289017     0.277751   \n",
       "\n",
       "                          macro_precision  micro_precision  macro_recall  \\\n",
       "gpt3.5-oneshot-context2          0.526652         0.547582      0.320552   \n",
       "gpt3.5-oneshot-context3          0.464730         0.501420      0.328673   \n",
       "gpt3.5-zeroshot-context2         0.562262         0.576415      0.297584   \n",
       "gpt3.5-zeroshot-context3         0.499444         0.530885      0.314836   \n",
       "gpt3.5-oneshot-context1          0.565566         0.544267      0.161507   \n",
       "\n",
       "                          micro_recall  \n",
       "gpt3.5-oneshot-context2       0.368311  \n",
       "gpt3.5-oneshot-context3       0.370409  \n",
       "gpt3.5-zeroshot-context2      0.320567  \n",
       "gpt3.5-zeroshot-context3      0.333683  \n",
       "gpt3.5-oneshot-context1       0.196747  "
      ]
     },
     "execution_count": 30,
     "metadata": {},
     "output_type": "execute_result"
    }
   ],
   "source": [
    "# Top-k performing labeler\n",
    "top_k = 5\n",
    "labelers_df.sort_values(\"macro_f1\", ascending=False).head(top_k)"
   ]
  },
  {
   "cell_type": "code",
   "execution_count": 31,
   "metadata": {},
   "outputs": [
    {
     "name": "stdout",
     "output_type": "stream",
     "text": [
      "✅ Plotted labeler as function of model, context and shot\n"
     ]
    },
    {
     "data": {
      "image/png": "[encoded data removed]",
      "text/plain": [
       "<Figure size 2000x500 with 3 Axes>"
      ]
     },
     "metadata": {},
     "output_type": "display_data"
    }
   ],
   "source": [
    "# Univariate performance\n",
    "fig, axs = plt.subplots(ncols=3, figsize=(20, 5))\n",
    "xs = [\"model\", \"context\", \"shot\"]\n",
    "\n",
    "for ax, x in zip(axs, xs):\n",
    "    sns.barplot(\n",
    "        data=labelers_df,\n",
    "        x=x,\n",
    "        y=\"macro_f1\",\n",
    "        ax=ax\n",
    "    )\n",
    "    ax.set_xlabel(x.capitalize(), fontsize=14)\n",
    "    ax.set_ylabel(\"\")\n",
    "\n",
    "axs[0].set_ylabel(\"Macro F1\", fontsize=14)\n",
    "\n",
    "print(f\"✅ Plotted labeler as function of model, context and shot\")"
   ]
  },
  {
   "cell_type": "code",
   "execution_count": 32,
   "metadata": {},
   "outputs": [
    {
     "name": "stdout",
     "output_type": "stream",
     "text": [
      "✅ Plotted figure.\n"
     ]
    },
    {
     "data": {
      "image/png": "[encoded data removed]",
      "text/plain": [
       "<Figure size 1000x1000 with 5 Axes>"
      ]
     },
     "metadata": {},
     "output_type": "display_data"
    }
   ],
   "source": [
    "# Labeler parameters\n",
    "params = [\"model\", \"context\", \"shot\"]\n",
    "\n",
    "rename_dict = {\n",
    "    \"gpt-3.5-turbo-1106\": \"GPT-3.5\",\n",
    "    \"gpt-4-1106-preview\": \"GPT-4\",\n",
    "    \"context1\": \"C1\",\n",
    "    \"context2\": \"C2\",\n",
    "    \"context3\": \"C3\",\n",
    "    \"shot\": \"Shot\",\n",
    "    \"model\": \"Model\",\n",
    "    \"context\": \"Context\",\n",
    "}\n",
    "\n",
    "fig = utils.grid(labelers_df, params, metric=\"mean\", cmap=\"YlGn\", figsize=(10, 10), rename_dict=rename_dict) \n",
    "print(f\"✅ Plotted figure.\")"
   ]
  }
 ],
 "metadata": {
  "kernelspec": {
   "display_name": "ml-project-2-mlp-a6NSXBdT-py3.10",
   "language": "python",
   "name": "python3"
  },
  "language_info": {
   "codemirror_mode": {
    "name": "ipython",
    "version": 3
   },
   "file_extension": ".py",
   "mimetype": "text/x-python",
   "name": "python",
   "nbconvert_exporter": "python",
   "pygments_lexer": "ipython3",
   "version": "3.10.13"
  }
 },
 "nbformat": 4,
 "nbformat_minor": 2
}
