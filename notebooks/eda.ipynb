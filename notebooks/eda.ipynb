{
 "cells": [
  {
   "cell_type": "markdown",
   "metadata": {},
   "source": [
    "### Setup\n",
    "\n",
    "---\n"
   ]
  },
  {
   "cell_type": "code",
   "execution_count": 1,
   "metadata": {},
   "outputs": [],
   "source": [
    "%load_ext autoreload\n",
    "%autoreload 2"
   ]
  },
  {
   "cell_type": "code",
   "execution_count": 2,
   "metadata": {},
   "outputs": [],
   "source": [
    "import pandas as pd\n",
    "import numpy as np\n",
    "from sklearn.metrics import cohen_kappa_score\n",
    "\n",
    "import pickle\n",
    "from tqdm import tqdm\n",
    "import json\n",
    "\n",
    "import matplotlib.pyplot as plt\n",
    "import seaborn as sns\n",
    "sns.set_style(\"whitegrid\")\n",
    "\n",
    "import warnings\n",
    "warnings.filterwarnings(\"ignore\")\n",
    "\n",
    "from ml_project_2_mlp import utils"
   ]
  },
  {
   "cell_type": "markdown",
   "metadata": {},
   "source": [
    "### Load Data\n",
    "\n",
    "---\n"
   ]
  },
  {
   "cell_type": "code",
   "execution_count": 3,
   "metadata": {},
   "outputs": [],
   "source": [
    "# Load categories.json from data/crowdsourced\n",
    "with open(\"../data/crowdsourced/raw/categories.json\") as f:\n",
    "    categories = json.load(f)\n",
    "\n",
    "# Load labeled.csv from data/crowdsourced\n",
    "labeled = pd.read_csv(\"../data/crowdsourced/raw/labeled.csv\")\n",
    "\n",
    "# Load the website content from data/crowdsourced from pickle\n",
    "with open(\"../data/crowdsourced/processed/content.pkl\", \"rb\") as f:\n",
    "    content = pickle.load(f)"
   ]
  },
  {
   "cell_type": "markdown",
   "metadata": {},
   "source": [
    "### Crowdsourced Data: Labeling Analysis\n",
    "\n",
    "---\n"
   ]
  },
  {
   "cell_type": "markdown",
   "metadata": {},
   "source": [
    "Let's start with some basic EDA:\n"
   ]
  },
  {
   "cell_type": "code",
   "execution_count": 4,
   "metadata": {},
   "outputs": [
    {
     "name": "stdout",
     "output_type": "stream",
     "text": [
      "Task title: Select all categories that are relevant for the website (English websites)\n",
      "Task description: Given a screenshot, title, and description of a website, select all the relevant categories.\n",
      "Task reward: $0.10\n"
     ]
    }
   ],
   "source": [
    "print(f\"Task title: {labeled['Title'][0]}\")\n",
    "print(f\"Task description: {labeled['Description'][0]}\")\n",
    "print(f\"Task reward: {labeled['Reward'][0]}\")"
   ]
  },
  {
   "cell_type": "code",
   "execution_count": 5,
   "metadata": {},
   "outputs": [
    {
     "name": "stdout",
     "output_type": "stream",
     "text": [
      "There are 840 websites each annotated by 3 labelers\n",
      "There are 3 unique responses: {'NO', 'YES', 'UNSURE'}\n",
      "On average each labeler annotated 60.0 pages\n"
     ]
    }
   ],
   "source": [
    "# Number of records per unique page\n",
    "number_of_labels, count = np.unique(\n",
    "    labeled[\"Input.uid\"].value_counts(), return_counts=True\n",
    ")\n",
    "for numlabels, c in zip(number_of_labels, count):\n",
    "    print(f\"There are {c} websites each annotated by {numlabels} labelers\")\n",
    "\n",
    "# Show the unique responses for each question\n",
    "answers = set()\n",
    "for answer in labeled[\"Answer.taskAnswers\"]:\n",
    "    parsed_answer = json.loads(answer)\n",
    "    answers.update([v for v in parsed_answer[0].values() if type(v) == str])\n",
    "print(f\"There are {len(answers)} unique responses: {answers}\")\n",
    "\n",
    "# Average number of labels per user\n",
    "avg_user_labels = labeled[\"WorkerId\"].value_counts().mean()\n",
    "print(f\"On average each labeler annotated {avg_user_labels} pages\")"
   ]
  },
  {
   "cell_type": "code",
   "execution_count": 6,
   "metadata": {},
   "outputs": [
    {
     "name": "stdout",
     "output_type": "stream",
     "text": [
      "✅ All records have AssignmentStatus Approved\n",
      "✅ This checks with the max assignments allowed.\n",
      "✅ All records has taskAnswers list length = 1\n",
      "❗️ Input.title has 2.86% missing values\n",
      "❗️ Input.description has 46.19% missing values\n"
     ]
    }
   ],
   "source": [
    "# Make sure that for all records, AssignmentStatus is Approved\n",
    "assert (\n",
    "    len(labeled[\"AssignmentStatus\"].unique()) == 1\n",
    "    and labeled[\"AssignmentStatus\"].unique()[0] == \"Approved\"\n",
    "), \"AssignmentStatus is not Approved\"\n",
    "print(\"✅ All records have AssignmentStatus Approved\")\n",
    "\n",
    "# Confirm that all pages are assigned with at most 3 assignments\n",
    "max_assignments, count = np.unique(\n",
    "    labeled[\"MaxAssignments\"], return_counts=True)\n",
    "assert len(\n",
    "    max_assignments) == 1 and max_assignments[0] == 3, \"MaxAssignments is not 3\"\n",
    "print(\"✅ This checks with the max assignments allowed.\")\n",
    "\n",
    "\n",
    "# Get Double Check that the list in TaskAnswers is of length 1 always\n",
    "answers = set()\n",
    "total = 0\n",
    "for answer in labeled[\"Answer.taskAnswers\"]:\n",
    "    parsed_answer = json.loads(answer)\n",
    "    if len(parsed_answer) > 1:\n",
    "        total += 1\n",
    "if total > 0:\n",
    "    print(f\"❗️ There are {total} records with taskAnswers list length > 1\")\n",
    "else:\n",
    "    print(\"✅ All records has taskAnswers list length = 1\")\n",
    "\n",
    "# Check missing values for Input.url, Input.screenshot, Input.title, Input.description, report in percentage\n",
    "for col in [\"Input.url\", \"Input.screenshot\", \"Input.title\", \"Input.description\"]:\n",
    "    miss_vals = labeled[col].isna().sum() / len(labeled) * 100\n",
    "    if miss_vals > 0:\n",
    "        print(f\"❗️ {col} has {miss_vals:.2f}% missing values\")"
   ]
  },
  {
   "cell_type": "markdown",
   "metadata": {},
   "source": [
    "Next, let's one hot encode the column `Answer.taskAnswers` based on the\n",
    "dictionary that each row includes:\n"
   ]
  },
  {
   "cell_type": "code",
   "execution_count": 7,
   "metadata": {},
   "outputs": [
    {
     "data": {
      "text/html": [
       "<div>\n",
       "<style scoped>\n",
       "    .dataframe tbody tr th:only-of-type {\n",
       "        vertical-align: middle;\n",
       "    }\n",
       "\n",
       "    .dataframe tbody tr th {\n",
       "        vertical-align: top;\n",
       "    }\n",
       "\n",
       "    .dataframe thead th {\n",
       "        text-align: right;\n",
       "    }\n",
       "</style>\n",
       "<table border=\"1\" class=\"dataframe\">\n",
       "  <thead>\n",
       "    <tr style=\"text-align: right;\">\n",
       "      <th></th>\n",
       "      <th>Input.uid</th>\n",
       "      <th>Input.url</th>\n",
       "      <th>Arts</th>\n",
       "      <th>Business</th>\n",
       "      <th>Computers</th>\n",
       "      <th>Games</th>\n",
       "      <th>Health</th>\n",
       "      <th>Home</th>\n",
       "      <th>Kids_and_Teens</th>\n",
       "      <th>News</th>\n",
       "      <th>Recreation</th>\n",
       "      <th>Reference</th>\n",
       "      <th>Science</th>\n",
       "      <th>Shopping</th>\n",
       "      <th>Society</th>\n",
       "      <th>Sports</th>\n",
       "    </tr>\n",
       "  </thead>\n",
       "  <tbody>\n",
       "    <tr>\n",
       "      <th>0</th>\n",
       "      <td>1161124</td>\n",
       "      <td>www.pointlesssites.com</td>\n",
       "      <td>0</td>\n",
       "      <td>0</td>\n",
       "      <td>1</td>\n",
       "      <td>1</td>\n",
       "      <td>0</td>\n",
       "      <td>1</td>\n",
       "      <td>1</td>\n",
       "      <td>0</td>\n",
       "      <td>1</td>\n",
       "      <td>0</td>\n",
       "      <td>0</td>\n",
       "      <td>0</td>\n",
       "      <td>0</td>\n",
       "      <td>0</td>\n",
       "    </tr>\n",
       "    <tr>\n",
       "      <th>1</th>\n",
       "      <td>1161124</td>\n",
       "      <td>www.pointlesssites.com</td>\n",
       "      <td>0</td>\n",
       "      <td>0</td>\n",
       "      <td>0</td>\n",
       "      <td>1</td>\n",
       "      <td>0</td>\n",
       "      <td>1</td>\n",
       "      <td>1</td>\n",
       "      <td>0</td>\n",
       "      <td>1</td>\n",
       "      <td>0</td>\n",
       "      <td>0</td>\n",
       "      <td>0</td>\n",
       "      <td>1</td>\n",
       "      <td>0</td>\n",
       "    </tr>\n",
       "    <tr>\n",
       "      <th>2</th>\n",
       "      <td>1161124</td>\n",
       "      <td>www.pointlesssites.com</td>\n",
       "      <td>1</td>\n",
       "      <td>0</td>\n",
       "      <td>1</td>\n",
       "      <td>0</td>\n",
       "      <td>0</td>\n",
       "      <td>0</td>\n",
       "      <td>0</td>\n",
       "      <td>0</td>\n",
       "      <td>1</td>\n",
       "      <td>0</td>\n",
       "      <td>0</td>\n",
       "      <td>0</td>\n",
       "      <td>0</td>\n",
       "      <td>0</td>\n",
       "    </tr>\n",
       "    <tr>\n",
       "      <th>3</th>\n",
       "      <td>1081241</td>\n",
       "      <td>www.connecticutplastics.com</td>\n",
       "      <td>0</td>\n",
       "      <td>1</td>\n",
       "      <td>1</td>\n",
       "      <td>0</td>\n",
       "      <td>1</td>\n",
       "      <td>0</td>\n",
       "      <td>0</td>\n",
       "      <td>0</td>\n",
       "      <td>0</td>\n",
       "      <td>0</td>\n",
       "      <td>1</td>\n",
       "      <td>0</td>\n",
       "      <td>0</td>\n",
       "      <td>0</td>\n",
       "    </tr>\n",
       "    <tr>\n",
       "      <th>4</th>\n",
       "      <td>1081241</td>\n",
       "      <td>www.connecticutplastics.com</td>\n",
       "      <td>0</td>\n",
       "      <td>0</td>\n",
       "      <td>0</td>\n",
       "      <td>0</td>\n",
       "      <td>1</td>\n",
       "      <td>0</td>\n",
       "      <td>0</td>\n",
       "      <td>0</td>\n",
       "      <td>0</td>\n",
       "      <td>0</td>\n",
       "      <td>0</td>\n",
       "      <td>0</td>\n",
       "      <td>0</td>\n",
       "      <td>0</td>\n",
       "    </tr>\n",
       "  </tbody>\n",
       "</table>\n",
       "</div>"
      ],
      "text/plain": [
       "   Input.uid                    Input.url  Arts  Business  Computers  Games  \\\n",
       "0    1161124       www.pointlesssites.com     0         0          1      1   \n",
       "1    1161124       www.pointlesssites.com     0         0          0      1   \n",
       "2    1161124       www.pointlesssites.com     1         0          1      0   \n",
       "3    1081241  www.connecticutplastics.com     0         1          1      0   \n",
       "4    1081241  www.connecticutplastics.com     0         0          0      0   \n",
       "\n",
       "   Health  Home  Kids_and_Teens  News  Recreation  Reference  Science  \\\n",
       "0       0     1               1     0           1          0        0   \n",
       "1       0     1               1     0           1          0        0   \n",
       "2       0     0               0     0           1          0        0   \n",
       "3       1     0               0     0           0          0        1   \n",
       "4       1     0               0     0           0          0        0   \n",
       "\n",
       "   Shopping  Society  Sports  \n",
       "0         0        0       0  \n",
       "1         0        1       0  \n",
       "2         0        0       0  \n",
       "3         0        0       0  \n",
       "4         0        0       0  "
      ]
     },
     "execution_count": 7,
     "metadata": {},
     "output_type": "execute_result"
    }
   ],
   "source": [
    "# Create idx2cat and cat2idx mappings\n",
    "idx2cat = {idx: categories[idx][\"name\"] for idx in categories}\n",
    "cat2idx = {categories[idx][\"name\"]: idx for idx in categories}\n",
    "\n",
    "# Create a new column AnswersParsed\n",
    "labeled[\"AnswersParsed\"] = labeled[\"Answer.taskAnswers\"].apply(\n",
    "    lambda x: {\n",
    "        k.split(\"-\")[-1]: v for k, v in json.loads(x)[0].items() if type(v) == str\n",
    "    }\n",
    ")\n",
    "\n",
    "# Obtain the selected Idx and corresponding categories\n",
    "labeled[\"SelectedIdx\"] = labeled[\"AnswersParsed\"].apply(\n",
    "    lambda x: [k for k, v in x.items() if v == \"YES\"]\n",
    ")\n",
    "labeled[\"SelectedCategories\"] = labeled[\"SelectedIdx\"].apply(\n",
    "    lambda x: [idx2cat[idx] for idx in x]\n",
    ")\n",
    "\n",
    "# Now, let's one hot encode the selected categories\n",
    "for cat in cat2idx:\n",
    "    labeled[cat] = labeled[\"SelectedCategories\"].apply(\n",
    "        lambda x: 1 if cat in x else 0)\n",
    "\n",
    "relevant_columns = [\"Input.uid\", \"Input.url\"] + list(cat2idx)\n",
    "labeled = labeled[relevant_columns]\n",
    "labeled.head()"
   ]
  },
  {
   "cell_type": "markdown",
   "metadata": {},
   "source": [
    "Now, for each website and category, we want to look at the aggreement accross\n",
    "annotators.\n"
   ]
  },
  {
   "cell_type": "code",
   "execution_count": 8,
   "metadata": {},
   "outputs": [
    {
     "data": {
      "image/png": "[encoded data removed]",
      "text/plain": [
       "<Figure size 640x480 with 1 Axes>"
      ]
     },
     "metadata": {},
     "output_type": "display_data"
    }
   ],
   "source": [
    "website_ids = labeled[\"Input.uid\"].unique()\n",
    "aggrements = []\n",
    "for wid in website_ids:\n",
    "    # Get all the annotations for this website\n",
    "    annotations = labeled[labeled[\"Input.uid\"] == wid].iloc[:, 2:].to_numpy()\n",
    "\n",
    "    # Pair the annotations\n",
    "    kappas = []\n",
    "    for i in range(len(annotations)):\n",
    "        for j in range(i + 1, len(annotations)):\n",
    "            kappas.append(cohen_kappa_score(annotations[i], annotations[j]))\n",
    "\n",
    "    # Take the average of all the kappas\n",
    "    avg_kappa = np.mean(kappas)\n",
    "\n",
    "    # If nan, then set to 0\n",
    "    if np.isnan(avg_kappa):\n",
    "        avg_kappa = 0\n",
    "\n",
    "    # Save the average kappa for this website\n",
    "    aggrements.append([wid, avg_kappa])\n",
    "\n",
    "# Turn into pandas dataframe\n",
    "aggrements = pd.DataFrame(aggrements, columns=[\"Input.uid\", \"Aggrement\"])\n",
    "\n",
    "# Plot the distribution of aggrements\n",
    "sns.histplot(aggrements[\"Aggrement\"])\n",
    "plt.title(\n",
    "    \"Distribution of Aggrements with mean = {:.2f}\".format(\n",
    "        aggrements[\"Aggrement\"].mean()\n",
    "    )\n",
    ");"
   ]
  },
  {
   "cell_type": "markdown",
   "metadata": {},
   "source": [
    "Next, let's use different aggregation strategies to obtain final labels for each\n",
    "webpage:\n"
   ]
  },
  {
   "cell_type": "code",
   "execution_count": 9,
   "metadata": {},
   "outputs": [
    {
     "name": "stdout",
     "output_type": "stream",
     "text": [
      "For threshold = 1, the mean number of categories per website is 6.19\n",
      "For threshold = 2, the mean number of categories per website is 1.67\n",
      "For threshold = 3, the mean number of categories per website is 0.28\n"
     ]
    },
    {
     "data": {
      "image/png": "[encoded data removed]",
      "text/plain": [
       "<Figure size 1500x500 with 3 Axes>"
      ]
     },
     "metadata": {},
     "output_type": "display_data"
    }
   ],
   "source": [
    "# Compute for each website the number of times the website was assigned given label\n",
    "page_labc = labeled.groupby(\"Input.uid\").sum()\n",
    "\n",
    "# For each website, decided whether it belongs to the category or not based on the threshold = min. number of annotations\n",
    "thresholds = [1, 2, 3]\n",
    "thresholded = []\n",
    "for t in thresholds:\n",
    "    thresholded.append((page_labc.iloc[:, 3:] >= t).astype(int))\n",
    "\n",
    "# Show the distribution of the number of categories per website\n",
    "numlab_dist = [thresholded[t - 1].sum(axis=1) for t in thresholds]\n",
    "print(\n",
    "    f\"For threshold = 1, the mean number of categories per website is {numlab_dist[0].mean():.2f}\"\n",
    ")\n",
    "print(\n",
    "    f\"For threshold = 2, the mean number of categories per website is {numlab_dist[1].mean():.2f}\"\n",
    ")\n",
    "print(\n",
    "    f\"For threshold = 3, the mean number of categories per website is {numlab_dist[2].mean():.2f}\"\n",
    ")\n",
    "\n",
    "# Print the distribution of the number of categories per website\n",
    "fig, axs = plt.subplots(1, 3, figsize=(15, 5))\n",
    "for i, ax in enumerate(axs):\n",
    "    sns.barplot(\n",
    "        x=numlab_dist[i].value_counts().index,\n",
    "        y=numlab_dist[i].value_counts().values / numlab_dist[i].shape[0],\n",
    "        ax=ax,\n",
    "        color=\"#31748f\",\n",
    "    )"
   ]
  },
  {
   "cell_type": "markdown",
   "metadata": {},
   "source": [
    "### Crowdsourced Data: Content Analysis\n",
    "\n",
    "---"
   ]
  },
  {
   "cell_type": "markdown",
   "metadata": {},
   "source": [
    "In this section, we look closer into what the annotators actually had to label."
   ]
  },
  {
   "cell_type": "code",
   "execution_count": 10,
   "metadata": {},
   "outputs": [
    {
     "data": {
      "text/html": [
       "<div>\n",
       "<style scoped>\n",
       "    .dataframe tbody tr th:only-of-type {\n",
       "        vertical-align: middle;\n",
       "    }\n",
       "\n",
       "    .dataframe tbody tr th {\n",
       "        vertical-align: top;\n",
       "    }\n",
       "\n",
       "    .dataframe thead th {\n",
       "        text-align: right;\n",
       "    }\n",
       "</style>\n",
       "<table border=\"1\" class=\"dataframe\">\n",
       "  <thead>\n",
       "    <tr style=\"text-align: right;\">\n",
       "      <th></th>\n",
       "      <th>webid</th>\n",
       "      <th>http_code</th>\n",
       "      <th>is_valid</th>\n",
       "      <th>html</th>\n",
       "      <th>redirect_url</th>\n",
       "      <th>original_url</th>\n",
       "    </tr>\n",
       "  </thead>\n",
       "  <tbody>\n",
       "    <tr>\n",
       "      <th>0</th>\n",
       "      <td>1161124</td>\n",
       "      <td>200.0</td>\n",
       "      <td>True</td>\n",
       "      <td>\\r\\n&lt;!DOCTYPE HTML&gt;\\r\\n&lt;HTML xmlns:fb=\"http://...</td>\n",
       "      <td>None</td>\n",
       "      <td>http://www.pointlesssites.com</td>\n",
       "    </tr>\n",
       "    <tr>\n",
       "      <th>1</th>\n",
       "      <td>1081241</td>\n",
       "      <td>200.0</td>\n",
       "      <td>True</td>\n",
       "      <td>&lt;!DOCTYPE html&gt;\\n&lt;html lang=\"en\"&gt;\\n&lt;head&gt;\\n  \\...</td>\n",
       "      <td>None</td>\n",
       "      <td>http://www.connecticutplastics.com</td>\n",
       "    </tr>\n",
       "    <tr>\n",
       "      <th>2</th>\n",
       "      <td>1162420</td>\n",
       "      <td>200.0</td>\n",
       "      <td>True</td>\n",
       "      <td>&lt;!doctype html&gt;\\n&lt;html lang=\"en-US\"&gt;\\n  &lt;head&gt;...</td>\n",
       "      <td>None</td>\n",
       "      <td>http://99percentinvisible.org</td>\n",
       "    </tr>\n",
       "    <tr>\n",
       "      <th>3</th>\n",
       "      <td>1146040</td>\n",
       "      <td>200.0</td>\n",
       "      <td>True</td>\n",
       "      <td>&lt;!DOCTYPE html&gt;\\n&lt;html lang=\"en\" dir=\"ltr\"&gt;\\n ...</td>\n",
       "      <td>None</td>\n",
       "      <td>http://www.medicaid.gov</td>\n",
       "    </tr>\n",
       "    <tr>\n",
       "      <th>4</th>\n",
       "      <td>1117243</td>\n",
       "      <td>200.0</td>\n",
       "      <td>True</td>\n",
       "      <td>&lt;?xml version=\"1.0\" encoding=\"UTF-8\" standalon...</td>\n",
       "      <td>None</td>\n",
       "      <td>http://www.graalonline.com</td>\n",
       "    </tr>\n",
       "  </tbody>\n",
       "</table>\n",
       "</div>"
      ],
      "text/plain": [
       "     webid  http_code  is_valid  \\\n",
       "0  1161124      200.0      True   \n",
       "1  1081241      200.0      True   \n",
       "2  1162420      200.0      True   \n",
       "3  1146040      200.0      True   \n",
       "4  1117243      200.0      True   \n",
       "\n",
       "                                                html redirect_url  \\\n",
       "0  \\r\\n<!DOCTYPE HTML>\\r\\n<HTML xmlns:fb=\"http://...         None   \n",
       "1  <!DOCTYPE html>\\n<html lang=\"en\">\\n<head>\\n  \\...         None   \n",
       "2  <!doctype html>\\n<html lang=\"en-US\">\\n  <head>...         None   \n",
       "3  <!DOCTYPE html>\\n<html lang=\"en\" dir=\"ltr\">\\n ...         None   \n",
       "4  <?xml version=\"1.0\" encoding=\"UTF-8\" standalon...         None   \n",
       "\n",
       "                         original_url  \n",
       "0       http://www.pointlesssites.com  \n",
       "1  http://www.connecticutplastics.com  \n",
       "2       http://99percentinvisible.org  \n",
       "3             http://www.medicaid.gov  \n",
       "4          http://www.graalonline.com  "
      ]
     },
     "execution_count": 10,
     "metadata": {},
     "output_type": "execute_result"
    }
   ],
   "source": [
    "# Turn the list of dict into a dataframe\n",
    "content_df = pd.DataFrame(content)\n",
    "\n",
    "# Fill Nan in is_valid with False\n",
    "content_df[\"is_valid\"].fillna(False, inplace=True)\n",
    "\n",
    "content_df.head()"
   ]
  },
  {
   "cell_type": "markdown",
   "metadata": {},
   "source": [
    "Let's assess how well we were able to parse the data:"
   ]
  },
  {
   "cell_type": "code",
   "execution_count": 11,
   "metadata": {},
   "outputs": [
    {
     "name": "stdout",
     "output_type": "stream",
     "text": [
      "ℹ️ Number of websites in content_df: 840\n",
      "ℹ️ Number of websites with http status code 200: 769\n",
      "ℹ️ Number of websites with valid websites 769\n",
      "ℹ️ Number of websites with redirect: 250\n"
     ]
    }
   ],
   "source": [
    "print(f\"ℹ️ Number of websites in content_df: {content_df.shape[0]}\")\n",
    "print(f\"ℹ️ Number of websites with http status code 200: {content_df[content_df['http_code'] == 200].shape[0]}\")\n",
    "print(f\"ℹ️ Number of websites with valid websites {content_df[content_df['is_valid']].shape[0]}\")\n",
    "print(f\"ℹ️ Number of websites with redirect: {content_df[content_df['redirect_url'].notna()].shape[0]}\")"
   ]
  },
  {
   "cell_type": "markdown",
   "metadata": {},
   "source": [
    "Now, let's dig deeper, first, we start with the distribution of the http codes:"
   ]
  },
  {
   "cell_type": "code",
   "execution_count": 12,
   "metadata": {},
   "outputs": [
    {
     "data": {
      "image/png": "[encoded data removed]",
      "text/plain": [
       "<Figure size 1500x500 with 1 Axes>"
      ]
     },
     "metadata": {},
     "output_type": "display_data"
    }
   ],
   "source": [
    "# Setup the figure\n",
    "fig, ax = plt.subplots(figsize=(15, 5))\n",
    "\n",
    "# Without 200\n",
    "sns.barplot(\n",
    "    x=content_df[content_df[\"http_code\"] != 200][\"http_code\"].value_counts().index,\n",
    "    y=content_df[content_df[\"http_code\"] != 200][\"http_code\"].value_counts().values / content_df.shape[0]*100,\n",
    "    ax=ax,\n",
    "    color=\"#31748f\",\n",
    ");\n",
    "\n",
    "# Setup the label\n",
    "ax.set_title(\"Distribution of HTTP Status Codes exluding 200\")\n",
    "ax.set_xlabel(\"HTTP Status Code\");\n",
    "ax.set_ylabel(\"Percentage of the total number of websites\");"
   ]
  },
  {
   "cell_type": "markdown",
   "metadata": {},
   "source": [
    "Next, look at the examples of redirects:"
   ]
  },
  {
   "cell_type": "code",
   "execution_count": 13,
   "metadata": {},
   "outputs": [
    {
     "name": "stdout",
     "output_type": "stream",
     "text": [
      "ℹ️ http://www.aydon-consultants.com redirects to https://dan.com/buy-domain/aydon-consultants.com?redirected=true\n",
      "ℹ️ http://www.artcomplex.org redirects to https://artcomplex.org/\n",
      "ℹ️ http://www.secretsanta.com redirects to https://secretsanta.com/\n",
      "ℹ️ http://www.precisiontooltech.com redirects to https://precisiontooltech.com/\n",
      "ℹ️ http://www.ipa.co.ve redirects to https://ipa.co.ve/beta/\n"
     ]
    }
   ],
   "source": [
    "# Get redirect webs\n",
    "redirect_webs = content_df[content_df[\"redirect_url\"].notna()]\n",
    "\n",
    "# Randomly sample 5 websites\n",
    "sampled_webs = redirect_webs.sample(5)\n",
    "\n",
    "for i, row in sampled_webs.iterrows():\n",
    "    print(f\"ℹ️ {row['original_url']} redirects to {row['redirect_url']}\")"
   ]
  },
  {
   "cell_type": "markdown",
   "metadata": {},
   "source": [
    "It appears that plus or minus the redirects are not an issue since most of the times the difference in the urls is just `/` the slash at the end of the url. Next, let's parse the html of the valid urls:"
   ]
  },
  {
   "cell_type": "code",
   "execution_count": 38,
   "metadata": {},
   "outputs": [
    {
     "name": "stderr",
     "output_type": "stream",
     "text": [
      "100%|██████████| 769/769 [00:29<00:00, 26.28it/s]\n"
     ]
    }
   ],
   "source": [
    "# Get valid webs\n",
    "valid_webs = content_df[content_df[\"is_valid\"]].copy()\n",
    "\n",
    "# Save the features in a dict\n",
    "web_features = {}\n",
    "\n",
    "for i in tqdm(range(len(valid_webs))):\n",
    "    # Get html\n",
    "    html = valid_webs.iloc[i]['html']\n",
    "\n",
    "    # Get redirected url if available else original url\n",
    "    url = valid_webs.iloc[i]['redirect_url'] if valid_webs.iloc[i]['redirect_url'] else valid_webs.iloc[i]['original_url']\n",
    "\n",
    "    # Get id\n",
    "    wid = valid_webs.iloc[i]['webid']\n",
    "\n",
    "    # Get features\n",
    "    html_features = utils.parse_html(html, max_sentences=100)\n",
    "    url_features = utils.parse_url(url)\n",
    "    features = {**html_features, **url_features}\n",
    "\n",
    "    # Save the features\n",
    "    web_features[wid] = features"
   ]
  },
  {
   "cell_type": "markdown",
   "metadata": {},
   "source": [
    "Select random url and shows its extractred features:"
   ]
  },
  {
   "cell_type": "code",
   "execution_count": 60,
   "metadata": {},
   "outputs": [
    {
     "name": "stdout",
     "output_type": "stream",
     "text": [
      "ℹ️ title: DTELS  Home Page\n",
      "ℹ️ description: DTELS website devoted to the history of the Directorate of Telecommunications,  Police & Fire Radio Communications\n",
      "ℹ️ keywords: None\n",
      "ℹ️ links: ['index.html', 'html', 'about', 'dtels.html', 'html', 'dtels', 'forum.html', 'html', 'feedback.html', 'html', 'image', 'library.html', 'html', 'legal.html', 'html', 'miscellaneous.html', 'html', 'publications.html', 'html', 'personal', 'recollections.html', 'html', 'post', 'dtels.html', 'html', 'site', 'map.html', 'html', 'webmaster.html', 'html', 'legal.html', 'html', 'web', 'site.html', 'html', 'bishops', 'cleeve.html', 'forum', 'viewtopic.php', 't', 'html', 'publications', '.html', 'html', 'radio', 'test', 'area.html', 'html', 'feedback.html', 'forum', 'viewforum.php', 'f', 'html', 'feedback.html', 'html', 'feedback.html', 'html', 'acknowledgements.html']\n",
      "ℹ️ sentences: ['DTELS - Home Page', 'HOME', 'Cookies Statement:\\xa0 some cookies are used on this site and continued browsing assumes you are happy with that -\\xa0 see', 'Legal', 'Cannot find the topic you are looking for?\\xa0 Try using Google search', 'Welcome to DTELS.ORG', 'updated 17 August 2023', 'Welcome', 'May I extend a big welcome to those of you who may be visiting this web site for the first time. If you not already aware, this site is dedicated to recording some of the history of the Directorate of Telecommunications.', 'As a public sector department within the Home Office for England and Wales, the Directorate was responsible for providing wireless communication support to Emergency Service users in the two countries.', 'Its origins go back to World War II (circa 1939) and grew over the years to become a major service provider to a wider range of Public Safety central and local government services. In 1991 it changed its name to DTELS and three years later became a private sector company following a trade sale to National Transcommunications Limited (ntl).', 'For more information about this web site, please', 'click here', 'BCMU/Romsley Cricket 1970', 'Tony Ketteringham has sent me his collection of 34 photos taken at a cricket match between Bishops Cleeve MU and Romsley Depot held in May 1970 together with supporting text.\\xa0 They can be', 'viewed here', '.', '... and Finally', 'Please continue to visit this site, particularly the forum to view new postings and see updates on this home page.', 'Wishing you all the best for 2023 and hope you have a healthy and enjoyable year.', 'Kind Regards', 'Steven Cole', 'Webmaster', 'stevencole.uk', 'RN1 and RN2 Information Sought', 'updated 3 September 2023', 'Steve Millin is a volunteer at the Nothe Fort Weymouth and is seeking information relating RN1 & RN2.\\xa0 Please see this', 'forum posting', 'for further details.', 'Intercom Journals', 'Containing many interesting technical articles written by Directorate staff and other contributors during the 1970’s.', 'Radio Test Area', 'updated 17 August 2023', 'Earlier this week Peter Bridgeman sent me an article he had written recording the setting up of a Radio Test Area from 1975 onwards within the Directorate to carry out specialist research.', 'Previously, this had been done on operational schemes but there had been a clear and growing need for a dedicated Radio Trials or Test Area for the purposes of conducting investigations and trials without the need of disturbing operational schemes.\\xa0 You can read this article in the', 'Personal Recollections section', '.', 'If anyone else would like to contribute an article for this website please contact the', 'webmaster', '.', 'BEREAVEMENTS', 'updated 17 November 2023', 'Please', 'Click here', 'for bereavement notices relating to former DTELS employees.\\xa0 Latest notice posted 17th November 2023:', 'Audrey Davidson - CO Marley Hill', 'John F.A. Stokes - SWE Horseferry House', 'Keith Harewood - WT Rochester Row', 'Madhav ‘Beau’ Joglekar - TET Bishops Cleeve MU', 'Ernie Yard - WT Marley Hill', 'FEATURES', 'About Us', 'Historical information about the Directorate, its responsibilities, organisational structure, aims, objectives and principal customers', 'DTELS Forum', 'Active member postings and notices covering a range of topics.', 'New Registrations', 'Please follow instructions as set out in the', 'feedback', 'page.', 'Feedback', 'A quick and convenient way to contact', 'Steven Cole for all DTELS.Org site matters.', 'Click this link for the feedback form', 'Image Library', 'Photographs covering Directorate people, places and equipment. Mouse over image below to select required topic', 'Legal', 'Contact and site legal details', 'Miscellaneous', 'Miscellaneous topics, links to other sites, glossary etc', 'Publications', 'Library of Directorate publications giving an insight to the function and breadth of the organisation', 'Personal Recollections', 'Personal memories contributed by individuals who either worked for, or had contact with, the Directorate', 'Post DTELS', 'Events, reunions and related information', 'Site Map', 'Links to every topic on this site', 'Webmaster', 'Background information', 'Articles for Publishing', 'As ever I welcome DTELS related articles for publishing on this site. In particular personal recollection articles as I know many of you have enjoyed these trips down memory lane', 'So please do your bit to record some history and send your articles by email to the address given on the feedback page.', 'Unless otherwise stated, material and web design used within this site is copyright of Steven R. Cole - All Rights Reserved ©2023', 'Site Contributers and', 'Acknowledgement']\n",
      "ℹ️ metatags: ['generator', 'description', 'date', 'robots', 'keywords', 'copyright', 'author', 'language', 'revisit-after', 'rating']\n",
      "ℹ️ tld: org\n",
      "ℹ️ domain: dtels\n"
     ]
    }
   ],
   "source": [
    "# Get random sample of 1 website\n",
    "sampled_web_id = valid_webs.sample(1)['webid'].values[0]\n",
    "\n",
    "# Get the features of the sampled website\n",
    "sampled_web_features = web_features[sampled_web_id]\n",
    "\n",
    "# Print the features\n",
    "for k, v in sampled_web_features.items():\n",
    "    print(f\"ℹ️ {k}: {v}\")"
   ]
  },
  {
   "cell_type": "markdown",
   "metadata": {},
   "source": [
    "Now, let's run compute some insights on the extracted features:"
   ]
  },
  {
   "cell_type": "code",
   "execution_count": 40,
   "metadata": {},
   "outputs": [
    {
     "name": "stdout",
     "output_type": "stream",
     "text": [
      "ℹ️ Number of sites with title: 98.70%\n",
      "ℹ️ Number of sites with description: 55.01%\n",
      "ℹ️ Number of sites with keywords: 19.38%\n",
      "ℹ️ Number of sites with links: 89.99%\n"
     ]
    }
   ],
   "source": [
    "# Total number of websites\n",
    "n = len(web_features)\n",
    "\n",
    "# Number of sites with title\n",
    "n_titles = len([title for title in web_features.values() if title['title'] is not None])\n",
    "print(f\"ℹ️ Number of sites with title: {n_titles/n*100:.2f}%\")\n",
    "\n",
    "# Number of sites with description\n",
    "n_descriptions = len([description for description in web_features.values() if description['description'] is not None])\n",
    "print(f\"ℹ️ Number of sites with description: {n_descriptions/n*100:.2f}%\")\n",
    "\n",
    "# Number of sites with keywords\n",
    "n_keywords = len([keywords for keywords in web_features.values() if keywords['keywords'] is not None])\n",
    "print(f\"ℹ️ Number of sites with keywords: {n_keywords/n*100:.2f}%\")\n",
    "\n",
    "# Number of sites with links\n",
    "n_links = len([links for links in web_features.values() if links['links'] is not None])\n",
    "print(f\"ℹ️ Number of sites with links: {n_links/n*100:.2f}%\")"
   ]
  },
  {
   "cell_type": "markdown",
   "metadata": {},
   "source": [
    "Now, let's look at the distribution of the number of meta tags and the number of links across the websites:"
   ]
  },
  {
   "cell_type": "code",
   "execution_count": 49,
   "metadata": {},
   "outputs": [
    {
     "data": {
      "image/png": "[encoded data removed]",
      "text/plain": [
       "<Figure size 1500x500 with 2 Axes>"
      ]
     },
     "metadata": {},
     "output_type": "display_data"
    }
   ],
   "source": [
    "# Get the number of meta tags and links for each website\n",
    "meta_tags = []\n",
    "links = []\n",
    "for features in web_features.values():\n",
    "    if features['metatags'] is not None:\n",
    "        meta_tags.append(len(features['metatags']))\n",
    "    if features['links'] is not None:\n",
    "        links.append(len(features['links']))\n",
    "\n",
    "# Setup the figure\n",
    "fig, axs = plt.subplots(1, 2, figsize=(15, 5))\n",
    "\n",
    "# Plot the distribution of meta tags\n",
    "sns.histplot(meta_tags, ax=axs[0], color=\"#31748f\")\n",
    "axs[0].set_title(\"Distribution of number of meta tags\")\n",
    "\n",
    "# Plot the distribution of links\n",
    "sns.histplot(links, ax=axs[1], color=\"#31748f\")\n",
    "axs[1].set_title(\"Distribution of number of links\");"
   ]
  },
  {
   "cell_type": "markdown",
   "metadata": {},
   "source": [
    "Further, let's compute the number of occurences of each meta tag and tld:"
   ]
  },
  {
   "cell_type": "code",
   "execution_count": 55,
   "metadata": {},
   "outputs": [
    {
     "name": "stdout",
     "output_type": "stream",
     "text": [
      "ℹ️ Top 10 metatags:\n",
      "- viewport: 73.86%\n",
      "- description: 59.17%\n",
      "- robots: 46.55%\n",
      "- generator: 45.64%\n",
      "- twitter:card: 35.89%\n",
      "- keywords: 25.88%\n",
      "- msapplication-tileimage: 23.28%\n",
      "- twitter:title: 17.17%\n",
      "- twitter:description: 14.95%\n",
      "- google-site-verification: 14.30%\n",
      "\n",
      "ℹ️ Top 10 tlds:\n",
      "- com: 60.47%\n",
      "- org: 16.12%\n",
      "- co.uk: 4.68%\n",
      "- net: 3.51%\n",
      "- edu: 2.60%\n",
      "- org.uk: 1.69%\n",
      "- com.au: 1.30%\n",
      "- de: 1.04%\n",
      "- blogspot.com: 0.91%\n",
      "- ca: 0.91%\n"
     ]
    }
   ],
   "source": [
    "# Compute the number of occurrences of each metatag\n",
    "metatags = {}\n",
    "tlds = {}\n",
    "for features in web_features.values():\n",
    "    if features['metatags'] is not None:\n",
    "        for metatag in features['metatags']:\n",
    "            if metatag not in metatags:\n",
    "                metatags[metatag] = 1\n",
    "            else:\n",
    "                metatags[metatag] += 1\n",
    "    \n",
    "    if features['tld'] is not None:\n",
    "            tld = features['tld']\n",
    "            if tld not in tlds:\n",
    "                tlds[tld] = 1\n",
    "            else:\n",
    "                tlds[tld] += 1\n",
    "\n",
    "\n",
    "# Sort the metatags by number of occurrences\n",
    "metatags = {k: v for k, v in sorted(metatags.items(), key=lambda item: item[1], reverse=True)}\n",
    "\n",
    "# Sort the tlds by number of occurrences\n",
    "tlds = {k: v for k, v in sorted(tlds.items(), key=lambda item: item[1], reverse=True)}\n",
    "\n",
    "# Print the top 10 metatags\n",
    "print(\"ℹ️ Top 10 metatags:\")\n",
    "for i, (k, v) in enumerate(metatags.items()):\n",
    "    if i == 10:\n",
    "        break\n",
    "    print(f\"- {k}: {v/len(web_features)*100:.2f}%\")\n",
    "\n",
    "print()\n",
    "# Print the top 10 tlds\n",
    "print(\"ℹ️ Top 10 tlds:\")\n",
    "for i, (k, v) in enumerate(tlds.items()):\n",
    "    if i == 10:\n",
    "        break\n",
    "    print(f\"- {k}: {v/len(web_features)*100:.2f}%\")"
   ]
  },
  {
   "cell_type": "markdown",
   "metadata": {},
   "source": [
    "Finally, let's look into the average number of characters in the sentences:"
   ]
  },
  {
   "cell_type": "code",
   "execution_count": 59,
   "metadata": {},
   "outputs": [
    {
     "data": {
      "image/png": "[encoded data removed]",
      "text/plain": [
       "<Figure size 1500x500 with 1 Axes>"
      ]
     },
     "metadata": {},
     "output_type": "display_data"
    }
   ],
   "source": [
    "# Compute the number of characters in each sentence\n",
    "sentence_lengths = []\n",
    "for features in web_features.values():\n",
    "    if features['sentences'] is not None:\n",
    "        for sentence in features['sentences']:\n",
    "            sentence_lengths.append(len(sentence))\n",
    "\n",
    "# Setup the figure\n",
    "fig, ax = plt.subplots(figsize=(15, 5))\n",
    "\n",
    "# Plot the distribution of sentence lengths\n",
    "sns.histplot(sentence_lengths, ax=ax, color=\"#31748f\", log_scale=True);\n",
    "\n",
    "# Add labels\n",
    "ax.set_title(\"Distribution of sentence lengths\")\n",
    "ax.set_xlabel(\"Log Scale of Sentence length\")\n",
    "ax.set_ylabel(\"Number of sentences with the given length\");"
   ]
  },
  {
   "cell_type": "markdown",
   "metadata": {},
   "source": [
    "---"
   ]
  }
 ],
 "metadata": {
  "kernelspec": {
   "display_name": "cs502",
   "language": "python",
   "name": "python3"
  },
  "language_info": {
   "codemirror_mode": {
    "name": "ipython",
    "version": 3
   },
   "file_extension": ".py",
   "mimetype": "text/x-python",
   "name": "python",
   "nbconvert_exporter": "python",
   "pygments_lexer": "ipython3",
   "version": "3.10.13"
  }
 },
 "nbformat": 4,
 "nbformat_minor": 2
}
