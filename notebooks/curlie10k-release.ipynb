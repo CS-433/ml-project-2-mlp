{
 "cells": [
  {
   "cell_type": "markdown",
   "metadata": {},
   "source": [
    "### Curlie 10k  Release\n",
    "\n",
    "---\n",
    "\n",
    "In this notebook, we prepare the annotated Curlie dataset for the public release."
   ]
  },
  {
   "cell_type": "code",
   "execution_count": 1,
   "metadata": {},
   "outputs": [],
   "source": [
    "# ruff: noqa\n",
    "%reload_ext autoreload\n",
    "%autoreload 2\n",
    "\n",
    "import json\n",
    "import os\n",
    "\n",
    "import hydra\n",
    "import rootutils\n",
    "\n",
    "import pandas as pd"
   ]
  },
  {
   "cell_type": "code",
   "execution_count": 2,
   "metadata": {},
   "outputs": [],
   "source": [
    "# Reinitialize hydra on every run\n",
    "hydra.core.global_hydra.GlobalHydra.instance().clear()\n",
    "h = hydra.initialize(config_path=\"../conf\", job_name=\"eda\", version_base=None)\n",
    "\n",
    "# Setup root environment\n",
    "root_path = rootutils.setup_root(\".\")\n",
    "rootutils.set_root(\n",
    "    path=root_path,\n",
    "    project_root_env_var=True,\n",
    ")"
   ]
  },
  {
   "cell_type": "code",
   "execution_count": 3,
   "metadata": {},
   "outputs": [],
   "source": [
    "DATA_DIR = os.path.join(\"..\", \"data\")\n",
    "RELEASE_DIR = os.path.join(DATA_DIR, \"release\")\n",
    "os.makedirs(RELEASE_DIR, exist_ok=True)"
   ]
  },
  {
   "cell_type": "markdown",
   "metadata": {},
   "source": [
    "### Load the data\n",
    "\n",
    "---"
   ]
  },
  {
   "cell_type": "markdown",
   "metadata": {},
   "source": [
    "#### Features"
   ]
  },
  {
   "cell_type": "code",
   "execution_count": 4,
   "metadata": {},
   "outputs": [
    {
     "name": "stderr",
     "output_type": "stream",
     "text": [
      "/Users/ludekcizinsky/Library/Caches/pypoetry/virtualenvs/ml-project-2-mlp-rx2AOdW0-py3.10/lib/python3.10/site-packages/tqdm/auto.py:21: TqdmWarning: IProgress not found. Please update jupyter and ipywidgets. See https://ipywidgets.readthedocs.io/en/stable/user_install.html\n",
      "  from .autonotebook import tqdm as notebook_tqdm\n"
     ]
    }
   ],
   "source": [
    "# Load config\n",
    "curlie_cfg = hydra.compose(config_name=\"eda\", overrides=[\"data=curlie\"])\n",
    "\n",
    "# Get all data\n",
    "curlie_data = hydra.utils.instantiate(curlie_cfg.data)\n",
    "\n",
    "# Get data for the individual stages of the pipeline\n",
    "raw_data = curlie_data.get_raw_data()\n",
    "processed_data = curlie_data.get_processed_data()\n",
    "embedded_data = curlie_data.get_embeddings()"
   ]
  },
  {
   "cell_type": "markdown",
   "metadata": {},
   "source": [
    "#### Labels"
   ]
  },
  {
   "cell_type": "code",
   "execution_count": 5,
   "metadata": {},
   "outputs": [],
   "source": [
    "# Initialise configuration for all labelers\n",
    "gpt_labeler_names = [\n",
    "    \"gpt3.5-oneshot-context2\",\n",
    "    \"gpt4-zeroshot-context2\",\n",
    "\n",
    "]\n",
    "gpt_labelers_cfg = {labeler: hydra.compose(config_name=\"eda\", overrides=[f\"labeler={labeler}\"]) for labeler in gpt_labeler_names}\n",
    "\n",
    "# Instantiate labelers\n",
    "gpt_labelers = {labeler: hydra.utils.instantiate(cfg.labeler, data=curlie_data) for labeler, cfg in gpt_labelers_cfg.items()}"
   ]
  },
  {
   "cell_type": "markdown",
   "metadata": {},
   "source": [
    "#### Categories"
   ]
  },
  {
   "cell_type": "code",
   "execution_count": 6,
   "metadata": {},
   "outputs": [],
   "source": [
    "# Load categories\n",
    "path = os.path.join(root_path, \"data\", \"meta\", \"categories.json\")\n",
    "with open(path) as f:\n",
    "    categories = list(json.load(f).keys())"
   ]
  },
  {
   "cell_type": "markdown",
   "metadata": {},
   "source": [
    "### Prepare the data\n",
    "\n",
    "---\n",
    "\n",
    "For each labeler, we will have a dataset which will include `wid`, `url` and `one-hot` encoded labels."
   ]
  },
  {
   "cell_type": "code",
   "execution_count": 7,
   "metadata": {},
   "outputs": [],
   "source": [
    "dfs = []\n",
    "for name, labeler in gpt_labelers.items():\n",
    "    labels = labeler.get_labels()\n",
    "    rows = []\n",
    "    for wid, label in labels.items():\n",
    "        url = raw_data[raw_data[\"wid\"] == int(wid)][\"url\"]\n",
    "        if len(url) == 0:\n",
    "            continue\n",
    "        else:\n",
    "            url = url.values[0]\n",
    "        row = {\"wid\": wid, \"url\": url}\n",
    "        onehot = {categories[i]: v for i, v in enumerate(label[\"labels\"])}\n",
    "        row.update(onehot)\n",
    "        rows.append(row)\n",
    "    df = pd.DataFrame(rows)\n",
    "    dfs.append((name, df))"
   ]
  },
  {
   "cell_type": "markdown",
   "metadata": {},
   "source": [
    "Finally, save these into the predefine location:"
   ]
  },
  {
   "cell_type": "code",
   "execution_count": 9,
   "metadata": {},
   "outputs": [],
   "source": [
    "for name, df in dfs:\n",
    "    path = os.path.join(RELEASE_DIR, f\"curlie-10k-{name.split('-')[0]}.csv\")\n",
    "    df.to_csv(path, index=False)"
   ]
  },
  {
   "cell_type": "markdown",
   "metadata": {},
   "source": [
    "---"
   ]
  }
 ],
 "metadata": {
  "kernelspec": {
   "display_name": "ml-project-2-mlp-rx2AOdW0-py3.10",
   "language": "python",
   "name": "python3"
  },
  "language_info": {
   "codemirror_mode": {
    "name": "ipython",
    "version": 3
   },
   "file_extension": ".py",
   "mimetype": "text/x-python",
   "name": "python",
   "nbconvert_exporter": "python",
   "pygments_lexer": "ipython3",
   "version": "3.10.13"
  }
 },
 "nbformat": 4,
 "nbformat_minor": 2
}
