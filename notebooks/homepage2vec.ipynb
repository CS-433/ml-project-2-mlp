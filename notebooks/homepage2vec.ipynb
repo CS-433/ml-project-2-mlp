{
 "cells": [
  {
   "cell_type": "markdown",
   "metadata": {},
   "source": [
    "# Homepage2Vec Demo\n"
   ]
  },
  {
   "cell_type": "code",
   "execution_count": 1,
   "metadata": {},
   "outputs": [
    {
     "name": "stderr",
     "output_type": "stream",
     "text": [
      "/Users/jonas-mika/Library/Caches/pypoetry/virtualenvs/ml-project-2-mlp-a6NSXBdT-py3.10/lib/python3.10/site-packages/tqdm/auto.py:21: TqdmWarning: IProgress not found. Please update jupyter and ipywidgets. See https://ipywidgets.readthedocs.io/en/stable/user_install.html\n",
      "  from .autonotebook import tqdm as notebook_tqdm\n"
     ]
    }
   ],
   "source": [
    "from homepage2vec.model import WebsiteClassifier as Homepage2Vec\n",
    "from ml_project_2_mlp.homepage2vec.model import WebsiteClassifier as LocalHomepage2Vec\n",
    "\n",
    "# Imports\n",
    "%reload_ext autoreload\n",
    "%autoreload 2"
   ]
  },
  {
   "cell_type": "code",
   "execution_count": 2,
   "metadata": {},
   "outputs": [],
   "source": [
    "# Initialise model\n",
    "model = Homepage2Vec()"
   ]
  },
  {
   "cell_type": "code",
   "execution_count": 3,
   "metadata": {},
   "outputs": [],
   "source": [
    "# Website to predict\n",
    "website = model.fetch_website(\"epfl.ch\")"
   ]
  },
  {
   "cell_type": "code",
   "execution_count": 4,
   "metadata": {},
   "outputs": [
    {
     "name": "stdout",
     "output_type": "stream",
     "text": [
      "Classes probabilities:\n",
      "Science: 0.9601742029190063\n",
      "Reference: 0.9133725166320801\n",
      "Kids_and_Teens: 0.3320331871509552\n",
      "Arts: 0.29504159092903137\n",
      "Society: 0.29014983773231506\n",
      "Business: 0.07357819378376007\n",
      "Health: 0.03680882602930069\n",
      "Computers: 0.035030215978622437\n",
      "News: 0.022342052310705185\n",
      "Recreation: 0.010718646459281445\n",
      "Shopping: 0.0006430148496292531\n",
      "Sports: 0.0004938548663631082\n",
      "Home: 0.00034767991746775806\n",
      "Games: 8.126863576762844e-06\n"
     ]
    }
   ],
   "source": [
    "# Obtain scores and embeddings\n",
    "scores, embeddings = model.predict(website)\n",
    "\n",
    "# Sort scores (descending)\n",
    "sorted_scores = {\n",
    "    k: v for k, v in sorted(scores.items(), key=lambda x: x[1], reverse=True)\n",
    "}\n",
    "\n",
    "print(\"Classes probabilities:\")\n",
    "print(\"\\n\".join(f\"{k}: {v}\" for k, v in sorted_scores.items()))"
   ]
  },
  {
   "cell_type": "markdown",
   "metadata": {},
   "source": [
    "## Running with custom class\n"
   ]
  },
  {
   "cell_type": "markdown",
   "metadata": {},
   "source": [
    "Upon first usage, the model will be downloaded and cached in the user’s home\n",
    "directory in the directory `~/.homepage2vec/`. As this is the text-only version,\n",
    "the model is in `~/.homepage2vec/h2v_1000_100_text_only/model.pt`.\n"
   ]
  },
  {
   "cell_type": "code",
   "execution_count": 5,
   "metadata": {},
   "outputs": [],
   "source": [
    "local_model = LocalHomepage2Vec()"
   ]
  },
  {
   "cell_type": "code",
   "execution_count": 6,
   "metadata": {},
   "outputs": [],
   "source": [
    "# Website to predict\n",
    "website = local_model.fetch_website(\"epfl.ch\")"
   ]
  },
  {
   "cell_type": "code",
   "execution_count": 7,
   "metadata": {},
   "outputs": [
    {
     "name": "stdout",
     "output_type": "stream",
     "text": [
      "Classes probabilities:\n",
      "Science: 0.9601742029190063\n",
      "Reference: 0.9133725166320801\n",
      "Kids_and_Teens: 0.3320331871509552\n",
      "Arts: 0.29504159092903137\n",
      "Society: 0.29014983773231506\n",
      "Business: 0.07357819378376007\n",
      "Health: 0.03680882602930069\n",
      "Computers: 0.035030215978622437\n",
      "News: 0.022342052310705185\n",
      "Recreation: 0.010718646459281445\n",
      "Shopping: 0.0006430148496292531\n",
      "Sports: 0.0004938548663631082\n",
      "Home: 0.00034767991746775806\n",
      "Games: 8.126863576762844e-06\n"
     ]
    }
   ],
   "source": [
    "# Obtain scores and embeddings\n",
    "scores, embeddings = local_model.predict(website)\n",
    "\n",
    "# Sort scores (descending)\n",
    "sorted_scores = {\n",
    "    k: v for k, v in sorted(scores.items(), key=lambda x: x[1], reverse=True)\n",
    "}\n",
    "\n",
    "print(\"Classes probabilities:\")\n",
    "print(\"\\n\".join(f\"{k}: {v}\" for k, v in sorted_scores.items()))"
   ]
  },
  {
   "cell_type": "markdown",
   "metadata": {},
   "source": [
    "Great, we get the same results. The local implementation seems to be working as\n",
    "expected.\n"
   ]
  }
 ],
 "metadata": {
  "kernelspec": {
   "display_name": "ml-project-2-mlp-a6NSXBdT-py3.10",
   "language": "python",
   "name": "python3"
  },
  "language_info": {
   "codemirror_mode": {
    "name": "ipython",
    "version": 3
   },
   "file_extension": ".py",
   "mimetype": "text/x-python",
   "name": "python",
   "nbconvert_exporter": "python",
   "pygments_lexer": "ipython3",
   "version": "3.10.13"
  }
 },
 "nbformat": 4,
 "nbformat_minor": 2
}
