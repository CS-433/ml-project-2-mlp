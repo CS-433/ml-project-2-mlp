{
 "cells": [
  {
   "cell_type": "markdown",
   "metadata": {},
   "source": [
    "# Homepage2Vec Demo\n"
   ]
  },
  {
   "cell_type": "code",
   "execution_count": 1,
   "metadata": {},
   "outputs": [
    {
     "name": "stderr",
     "output_type": "stream",
     "text": [
      "/Users/jonas-mika/Library/Caches/pypoetry/virtualenvs/ml-project-2-mlp-a6NSXBdT-py3.10/lib/python3.10/site-packages/tqdm/auto.py:21: TqdmWarning: IProgress not found. Please update jupyter and ipywidgets. See https://ipywidgets.readthedocs.io/en/stable/user_install.html\n",
      "  from .autonotebook import tqdm as notebook_tqdm\n"
     ]
    }
   ],
   "source": [
    "# ruff: noqa\n",
    "%reload_ext autoreload\n",
    "%autoreload 2\n",
    "\n",
    "import os\n",
    "import torch\n",
    "\n",
    "from homepage2vec.model import WebsiteClassifier as Homepage2Vec\n",
    "from ml_project_2_mlp.homepage2vec.model import WebsiteClassifier as LocalHomepage2Vec"
   ]
  },
  {
   "cell_type": "code",
   "execution_count": 2,
   "metadata": {},
   "outputs": [],
   "source": [
    "# Paths\n",
    "ROOT_DIR = \"..\"\n",
    "MODEL_DIR = os.path.join(ROOT_DIR, \"models\")\n",
    "HOMEPAGE2VEC_DIR = os.path.join(MODEL_DIR, \"homepage2vec\")\n",
    "GPT_3_DIR = os.path.join(MODEL_DIR, \"finetuned\", \"gpt3.5\")\n",
    "GPT_4_DIR = os.path.join(MODEL_DIR, \"finetuned\", \"gpt4\")\n",
    "\n",
    "# Checkpoint paths\n",
    "# CKPT_GPT3_PATH = \"/Users/jonas-mika/epfl/coursework/projects/ml-project-2-mlp/logs/train/multiruns/2023-12-21_10-50-22/66/checkpoints/epoch_031.ckpt\" \n",
    "# CKPT_GPT4_PATH = \"/Users/jonas-mika/epfl/coursework/projects/ml-project-2-mlp/logs/train/multiruns/2023-12-21_10-50-22/73/checkpoints/epoch_046.ckpt\""
   ]
  },
  {
   "cell_type": "code",
   "execution_count": 3,
   "metadata": {},
   "outputs": [],
   "source": [
    "# Website to classify\n",
    "WEBSITE = \"https://www.epfl.ch\""
   ]
  },
  {
   "cell_type": "code",
   "execution_count": 4,
   "metadata": {},
   "outputs": [],
   "source": [
    "def get_state_dict(ckpt_path: str) -> dict:\n",
    "    \"\"\"\n",
    "    Load state dict from PyTorch Lightning checkpoint.\n",
    "    \"\"\"\n",
    "    checkpoint = torch.load(ckpt_path)\n",
    "    state_dict = checkpoint[\"state_dict\"]\n",
    "    state_dict = {k.replace(\"model.\", \"\"): v for k, v in state_dict.items() if \"model\" in k}\n",
    "    return state_dict\n",
    "\n",
    "def sort_scores(scores: dict) -> dict:\n",
    "    \"\"\"Sort scores by value in descending order.\"\"\"\n",
    "    return {k: v for k, v in sorted(scores.items(), key=lambda x: x[1], reverse=True)}"
   ]
  },
  {
   "cell_type": "markdown",
   "metadata": {},
   "source": [
    "### Homepage2Vec\n",
    "\n",
    "A quick demo of the online version of Homepage2Vec."
   ]
  },
  {
   "cell_type": "code",
   "execution_count": 5,
   "metadata": {},
   "outputs": [
    {
     "name": "stdout",
     "output_type": "stream",
     "text": [
      "Classes probabilities:\n",
      "Science: 0.9571831822395325\n",
      "Reference: 0.9026567935943604\n",
      "Kids_and_Teens: 0.5716081857681274\n",
      "Arts: 0.5242454409599304\n",
      "Society: 0.27132657170295715\n",
      "Business: 0.08574333041906357\n",
      "News: 0.04988005757331848\n",
      "Computers: 0.02889983355998993\n",
      "Recreation: 0.02259485051035881\n",
      "Health: 0.009944452904164791\n",
      "Shopping: 0.0012295827036723495\n",
      "Sports: 0.0008726614178158343\n",
      "Home: 0.00036933409865014255\n",
      "Games: 1.9969978893641382e-05\n"
     ]
    }
   ],
   "source": [
    "# Initialise model\n",
    "model = Homepage2Vec()\n",
    "\n",
    "# Website to predict\n",
    "website = model.fetch_website(WEBSITE)\n",
    "\n",
    "# Obtain scores and embeddings\n",
    "scores, embeddings = model.predict(website)\n",
    "\n",
    "print(\"Classes probabilities:\")\n",
    "print(\"\\n\".join(f\"{k}: {v}\" for k, v in sort_scores(scores).items()))"
   ]
  },
  {
   "cell_type": "markdown",
   "metadata": {},
   "source": [
    "### Finetuned Homepage2Ve\n",
    "\n",
    "In this section we are loading in the weights from our **finetuned model** to check that everything works as expected."
   ]
  },
  {
   "cell_type": "markdown",
   "metadata": {},
   "source": [
    "**Finetuned on `curlie-gpt3.5-10k`**"
   ]
  },
  {
   "cell_type": "code",
   "execution_count": 6,
   "metadata": {},
   "outputs": [
    {
     "name": "stdout",
     "output_type": "stream",
     "text": [
      "Classes probabilities:\n",
      "Science: 0.7964304685592651\n",
      "Reference: 0.7635273933410645\n",
      "Society: 0.5921807289123535\n",
      "News: 0.5681739449501038\n",
      "Arts: 0.5368830561637878\n",
      "Kids_and_Teens: 0.508224606513977\n",
      "Computers: 0.3853667974472046\n",
      "Business: 0.3469756543636322\n",
      "Health: 0.33045274019241333\n",
      "Recreation: 0.2595757842063904\n",
      "Sports: 0.11109738796949387\n",
      "Home: 0.10465463995933533\n",
      "Shopping: 0.06366318464279175\n",
      "Games: 0.031982336193323135\n"
     ]
    }
   ],
   "source": [
    "# Initialise model\n",
    "model = LocalHomepage2Vec(model_dir=GPT_3_DIR)\n",
    "\n",
    "# Website to predict\n",
    "website = model.fetch_website(WEBSITE)\n",
    "\n",
    "# Obtain scores and embeddings\n",
    "scores, embeddings = model.predict(website)\n",
    "\n",
    "print(\"Classes probabilities:\")\n",
    "print(\"\\n\".join(f\"{k}: {v}\" for k, v in sort_scores(scores).items()))"
   ]
  },
  {
   "cell_type": "markdown",
   "metadata": {},
   "source": [
    "**Finetuned on `curlie-gpt4-10k`**"
   ]
  },
  {
   "cell_type": "code",
   "execution_count": 7,
   "metadata": {},
   "outputs": [
    {
     "name": "stdout",
     "output_type": "stream",
     "text": [
      "Classes probabilities:\n",
      "Science: 0.9800454378128052\n",
      "Reference: 0.7734379768371582\n",
      "Society: 0.369582861661911\n",
      "Business: 0.17371125519275665\n",
      "Recreation: 0.12732912600040436\n",
      "Computers: 0.0544419139623642\n",
      "Health: 0.02717871218919754\n",
      "Arts: 0.008378472179174423\n",
      "Sports: 0.007091645151376724\n",
      "Kids_and_Teens: 0.002522727008908987\n",
      "News: 0.00039661736809648573\n",
      "Home: 0.000121747434604913\n",
      "Shopping: 6.818987458245829e-05\n",
      "Games: 1.6320313079631887e-05\n"
     ]
    }
   ],
   "source": [
    "# Initialise model\n",
    "model = LocalHomepage2Vec(model_dir=GPT_4_DIR)\n",
    "\n",
    "# Website to predict\n",
    "website = model.fetch_website(WEBSITE)\n",
    "\n",
    "# Obtain scores and embeddings\n",
    "scores, embeddings = model.predict(website)\n",
    "\n",
    "print(\"Classes probabilities:\")\n",
    "print(\"\\n\".join(f\"{k}: {v}\" for k, v in sort_scores(scores).items()))"
   ]
  }
 ],
 "metadata": {
  "kernelspec": {
   "display_name": "ml-project-2-mlp-a6NSXBdT-py3.10",
   "language": "python",
   "name": "python3"
  },
  "language_info": {
   "codemirror_mode": {
    "name": "ipython",
    "version": 3
   },
   "file_extension": ".py",
   "mimetype": "text/x-python",
   "name": "python",
   "nbconvert_exporter": "python",
   "pygments_lexer": "ipython3",
   "version": "3.10.13"
  }
 },
 "nbformat": 4,
 "nbformat_minor": 2
}
