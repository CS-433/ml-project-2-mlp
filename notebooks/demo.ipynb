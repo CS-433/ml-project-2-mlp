{
 "cells": [
  {
   "cell_type": "markdown",
   "metadata": {},
   "source": [
    "# Homepage2Vec Demo\n"
   ]
  },
  {
   "cell_type": "code",
   "execution_count": 1,
   "metadata": {},
   "outputs": [
    {
     "name": "stderr",
     "output_type": "stream",
     "text": [
      "/Users/jonas-mika/Library/Caches/pypoetry/virtualenvs/ml-project-2-mlp-a6NSXBdT-py3.10/lib/python3.10/site-packages/tqdm/auto.py:21: TqdmWarning: IProgress not found. Please update jupyter and ipywidgets. See https://ipywidgets.readthedocs.io/en/stable/user_install.html\n",
      "  from .autonotebook import tqdm as notebook_tqdm\n"
     ]
    }
   ],
   "source": [
    "# ruff: noqa\n",
    "%reload_ext autoreload\n",
    "%autoreload 2\n",
    "\n",
    "import os\n",
    "import torch\n",
    "\n",
    "from homepage2vec.model import WebsiteClassifier as Homepage2Vec\n",
    "from ml_project_2_mlp.homepage2vec.model import WebsiteClassifier as LocalHomepage2Vec"
   ]
  },
  {
   "cell_type": "code",
   "execution_count": 2,
   "metadata": {},
   "outputs": [],
   "source": [
    "# Paths\n",
    "ROOT_DIR = \"..\"\n",
    "MODEL_DIR = os.path.join(ROOT_DIR, \"models\")\n",
    "HOMEPAGE2VEC_DIR = os.path.join(MODEL_DIR, \"homepage2vec\")\n",
    "GPT_3_DIR = os.path.join(MODEL_DIR, \"finetuned\", \"gpt3.5\")\n",
    "GPT_4_DIR = os.path.join(MODEL_DIR, \"finetuned\", \"gpt4\")\n",
    "\n",
    "# Checkpoint paths\n",
    "CKPT_GPT3_PATH = \"/Users/jonas-mika/epfl/coursework/projects/ml-project-2-mlp/logs/train/multiruns/2023-12-19_00-31-07/18/checkpoints/epoch_031.ckpt\" \n",
    "CKPT_GPT4_PATH = \"/Users/jonas-mika/epfl/coursework/projects/ml-project-2-mlp/logs/train/multiruns/2023-12-20_22-48-11/9/checkpoints/epoch_039.ckpt\""
   ]
  },
  {
   "cell_type": "code",
   "execution_count": 3,
   "metadata": {},
   "outputs": [],
   "source": [
    "# Website to classify\n",
    "WEBSITE = \"https://www.epfl.ch\""
   ]
  },
  {
   "cell_type": "code",
   "execution_count": 4,
   "metadata": {},
   "outputs": [],
   "source": [
    "def sort_scores(scores: dict) -> dict:\n",
    "    \"\"\"Sort scores by value in descending order.\"\"\"\n",
    "    return {k: v for k, v in sorted(scores.items(), key=lambda x: x[1], reverse=True)}"
   ]
  },
  {
   "cell_type": "markdown",
   "metadata": {},
   "source": [
    "### Homepage2Vec\n",
    "\n",
    "A quick demo of the online version of Homepage2Vec."
   ]
  },
  {
   "cell_type": "code",
   "execution_count": 5,
   "metadata": {},
   "outputs": [
    {
     "name": "stdout",
     "output_type": "stream",
     "text": [
      "Classes probabilities:\n",
      "Science: 0.9571831822395325\n",
      "Reference: 0.9026567935943604\n",
      "Kids_and_Teens: 0.5716081857681274\n",
      "Arts: 0.5242454409599304\n",
      "Society: 0.27132657170295715\n",
      "Business: 0.08574333041906357\n",
      "News: 0.04988005757331848\n",
      "Computers: 0.02889983355998993\n",
      "Recreation: 0.02259485051035881\n",
      "Health: 0.009944452904164791\n",
      "Shopping: 0.0012295827036723495\n",
      "Sports: 0.0008726614178158343\n",
      "Home: 0.00036933409865014255\n",
      "Games: 1.9969978893641382e-05\n"
     ]
    }
   ],
   "source": [
    "# Initialise model\n",
    "model = Homepage2Vec()\n",
    "\n",
    "# Website to predict\n",
    "website = model.fetch_website(WEBSITE)\n",
    "\n",
    "# Obtain scores and embeddings\n",
    "scores, embeddings = model.predict(website)\n",
    "\n",
    "print(\"Classes probabilities:\")\n",
    "print(\"\\n\".join(f\"{k}: {v}\" for k, v in sort_scores(scores).items()))"
   ]
  },
  {
   "cell_type": "markdown",
   "metadata": {},
   "source": [
    "### Finetuned Homepage2Ve\n",
    "\n",
    "In this section we are loading in the weights from our **finetuned model** to check that everything works as expected."
   ]
  },
  {
   "cell_type": "markdown",
   "metadata": {},
   "source": [
    "**Finetuned on `curlie-gpt3.5-10k`**"
   ]
  },
  {
   "cell_type": "code",
   "execution_count": 6,
   "metadata": {},
   "outputs": [
    {
     "name": "stdout",
     "output_type": "stream",
     "text": [
      "Classes probabilities:\n",
      "Science: 0.8412251472473145\n",
      "Reference: 0.7838622331619263\n",
      "Society: 0.5793622732162476\n",
      "Kids_and_Teens: 0.4533769190311432\n",
      "Arts: 0.44181838631629944\n",
      "Computers: 0.4027433693408966\n",
      "News: 0.37343618273735046\n",
      "Health: 0.3063579201698303\n",
      "Business: 0.24803754687309265\n",
      "Recreation: 0.19114521145820618\n",
      "Sports: 0.0962551087141037\n",
      "Home: 0.037589993327856064\n",
      "Shopping: 0.028511211276054382\n",
      "Games: 0.028346922248601913\n"
     ]
    }
   ],
   "source": [
    "# Initialise model\n",
    "model = LocalHomepage2Vec(model_dir=GPT_3_DIR)\n",
    "\n",
    "# Website to predict\n",
    "website = model.fetch_website(WEBSITE)\n",
    "\n",
    "# Obtain scores and embeddings\n",
    "scores, embeddings = model.predict(website)\n",
    "\n",
    "print(\"Classes probabilities:\")\n",
    "print(\"\\n\".join(f\"{k}: {v}\" for k, v in sort_scores(scores).items()))"
   ]
  },
  {
   "cell_type": "markdown",
   "metadata": {},
   "source": [
    "**Finetuned on `curlie-gpt4-10k`**"
   ]
  },
  {
   "cell_type": "code",
   "execution_count": 7,
   "metadata": {},
   "outputs": [
    {
     "name": "stdout",
     "output_type": "stream",
     "text": [
      "Classes probabilities:\n",
      "Science: 0.9493160843849182\n",
      "Reference: 0.659612774848938\n",
      "Society: 0.49875521659851074\n",
      "Business: 0.3018222749233246\n",
      "Computers: 0.18622104823589325\n",
      "News: 0.09135214984416962\n",
      "Recreation: 0.08869662880897522\n",
      "Arts: 0.05620817095041275\n",
      "Kids_and_Teens: 0.04272356256842613\n",
      "Health: 0.03221626207232475\n",
      "Sports: 0.01675873063504696\n",
      "Home: 0.003997097257524729\n",
      "Shopping: 0.002112273359671235\n",
      "Games: 0.0012009597849100828\n"
     ]
    }
   ],
   "source": [
    "# Initialise model\n",
    "model = LocalHomepage2Vec(model_dir=GPT_4_DIR)\n",
    "\n",
    "# Website to predict\n",
    "website = model.fetch_website(WEBSITE)\n",
    "\n",
    "# Obtain scores and embeddings\n",
    "scores, embeddings = model.predict(website)\n",
    "\n",
    "print(\"Classes probabilities:\")\n",
    "print(\"\\n\".join(f\"{k}: {v}\" for k, v in sort_scores(scores).items()))"
   ]
  }
 ],
 "metadata": {
  "kernelspec": {
   "display_name": "ml-project-2-mlp-a6NSXBdT-py3.10",
   "language": "python",
   "name": "python3"
  },
  "language_info": {
   "codemirror_mode": {
    "name": "ipython",
    "version": 3
   },
   "file_extension": ".py",
   "mimetype": "text/x-python",
   "name": "python",
   "nbconvert_exporter": "python",
   "pygments_lexer": "ipython3",
   "version": "3.10.13"
  }
 },
 "nbformat": 4,
 "nbformat_minor": 2
}
