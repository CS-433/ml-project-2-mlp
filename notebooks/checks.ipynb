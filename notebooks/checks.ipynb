{
 "cells": [
  {
   "cell_type": "markdown",
   "metadata": {},
   "source": [
    "# Check\n",
    "\n",
    "This notebook simply checks that we can execute the code in the repository properly. All external dependencies and the Python exectuale are installed as specified in the `pyproject.toml` file. "
   ]
  },
  {
   "cell_type": "code",
   "execution_count": 1,
   "metadata": {},
   "outputs": [],
   "source": [
    "%load_ext autoreload\n",
    "%autoreload 2\n",
    "\n",
    "# External imports\n",
    "import sys\n",
    "import torch\n",
    "\n",
    "# Internal imports\n",
    "import ml_project_2_mlp.utils as utils"
   ]
  },
  {
   "cell_type": "code",
   "execution_count": 2,
   "metadata": {},
   "outputs": [
    {
     "name": "stdout",
     "output_type": "stream",
     "text": [
      "✅ Using correct Python version (3.10.13)\n"
     ]
    }
   ],
   "source": [
    "# Check Python version\n",
    "err_msg = f\"❌ Python version should be 3.10.13, but is {sys.version}\"\n",
    "assert sys.version.startswith(\"3.10.13\"), err_msg\n",
    "\n",
    "print(\"✅ Using correct Python version (3.10.13)\")"
   ]
  },
  {
   "cell_type": "code",
   "execution_count": 3,
   "metadata": {},
   "outputs": [
    {
     "name": "stdout",
     "output_type": "stream",
     "text": [
      "✅ Using external dependencies in correct version\n"
     ]
    }
   ],
   "source": [
    "err_msg = \"❌ Not using the correct version of PyTorch. Please install PyTorch 1.4.0\"\n",
    "torch.__version__ == \"2.1.1\", err_msg\n",
    "\n",
    "print(\"✅ Using external dependencies in correct version\")"
   ]
  },
  {
   "cell_type": "code",
   "execution_count": 4,
   "metadata": {},
   "outputs": [
    {
     "name": "stdout",
     "output_type": "stream",
     "text": [
      "✅ Can install local modules\n"
     ]
    }
   ],
   "source": [
    "err_msg = \"❌ Cannot install local package.\"\n",
    "assert utils.check_import(), err_msg\n",
    "\n",
    "print(\"✅ Can install local modules\")"
   ]
  }
 ],
 "metadata": {
  "kernelspec": {
   "display_name": "ml-project-2-mlp-a6NSXBdT-py3.10",
   "language": "python",
   "name": "python3"
  },
  "language_info": {
   "codemirror_mode": {
    "name": "ipython",
    "version": 3
   },
   "file_extension": ".py",
   "mimetype": "text/x-python",
   "name": "python",
   "nbconvert_exporter": "python",
   "pygments_lexer": "ipython3",
   "version": "3.10.13"
  }
 },
 "nbformat": 4,
 "nbformat_minor": 2
}
