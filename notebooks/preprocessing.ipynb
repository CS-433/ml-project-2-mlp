{
 "cells": [
  {
   "cell_type": "markdown",
   "metadata": {},
   "source": [
    "### Preprocessing\n",
    "\n",
    "---\n",
    "\n",
    "From the authors of Homepage2Vec, we were given crowdsourced annotated data for roughly 800 homepages. Each homepage was labeled independently by three labelers. Our goal in this notebook to obtain a single label for each homepage. "
   ]
  },
  {
   "cell_type": "markdown",
   "metadata": {},
   "source": [
    "### Setup\n",
    "\n",
    "---\n"
   ]
  },
  {
   "cell_type": "code",
   "execution_count": 1,
   "metadata": {},
   "outputs": [],
   "source": [
    "%load_ext autoreload\n",
    "%autoreload 2"
   ]
  },
  {
   "cell_type": "code",
   "execution_count": 2,
   "metadata": {},
   "outputs": [],
   "source": [
    "import pandas as pd\n",
    "import numpy as np\n",
    "from sklearn.metrics import cohen_kappa_score\n",
    "\n",
    "import os\n",
    "import json\n",
    "\n",
    "import matplotlib.pyplot as plt\n",
    "import seaborn as sns\n",
    "\n",
    "sns.set_style(\"whitegrid\")\n",
    "import bleach\n",
    "\n",
    "import warnings\n",
    "\n",
    "warnings.filterwarnings(\"ignore\")\n",
    "\n",
    "from ml_project_2_mlp import utils"
   ]
  },
  {
   "cell_type": "code",
   "execution_count": 3,
   "metadata": {},
   "outputs": [],
   "source": [
    "sns.set_style(\"dark\")\n",
    "sns.set_palette(\"gist_stern\")"
   ]
  },
  {
   "cell_type": "markdown",
   "metadata": {},
   "source": [
    "### Load Data\n",
    "\n",
    "---\n"
   ]
  },
  {
   "cell_type": "code",
   "execution_count": 4,
   "metadata": {},
   "outputs": [],
   "source": [
    "load_path = os.path.join(\"..\", \"data\", \"crowdsourced\", \"labeled.csv\")\n",
    "labeled = pd.read_csv(load_path)"
   ]
  },
  {
   "cell_type": "code",
   "execution_count": 5,
   "metadata": {},
   "outputs": [],
   "source": [
    "idx2cat = {\n",
    "    \"0\": 'Arts', \n",
    "    \"1\": 'Business', \n",
    "    \"2\": 'Computers',\n",
    "    \"3\": 'Games', \n",
    "    \"4\": 'Health',\n",
    "    \"5\": 'Home', \n",
    "    \"6\": 'Kids_and_Teens', \n",
    "    \"7\": 'News', \n",
    "    \"8\": 'Recreation', \n",
    "    \"9\": 'Reference', \n",
    "    \"10\": 'Science', \n",
    "    \"11\": 'Shopping', \n",
    "    \"12\": 'Society', \n",
    "    \"13\": 'Sports'\n",
    "}\n",
    "\n",
    "cat2idx = {v : k for k, v in idx2cat.items()}"
   ]
  },
  {
   "cell_type": "markdown",
   "metadata": {},
   "source": [
    "### Crowdsourced Data: Labeling Analysis\n",
    "\n",
    "---\n"
   ]
  },
  {
   "cell_type": "markdown",
   "metadata": {},
   "source": [
    "Let's start with some basic EDA:\n"
   ]
  },
  {
   "cell_type": "code",
   "execution_count": 6,
   "metadata": {},
   "outputs": [
    {
     "name": "stdout",
     "output_type": "stream",
     "text": [
      "Task title: Select all categories that are relevant for the website (English websites)\n",
      "Task description: Given a screenshot, title, and description of a website, select all the relevant categories.\n",
      "Task reward: $0.10\n"
     ]
    }
   ],
   "source": [
    "print(f\"Task title: {labeled['Title'][0]}\")\n",
    "print(f\"Task description: {labeled['Description'][0]}\")\n",
    "print(f\"Task reward: {labeled['Reward'][0]}\")"
   ]
  },
  {
   "cell_type": "code",
   "execution_count": 7,
   "metadata": {},
   "outputs": [
    {
     "name": "stdout",
     "output_type": "stream",
     "text": [
      "There are 840 websites each annotated by 3 labelers\n",
      "There are 3 unique responses: {'UNSURE', 'NO', 'YES'}\n",
      "On average each labeler annotated 60.0 pages\n"
     ]
    }
   ],
   "source": [
    "# Number of records per unique page\n",
    "number_of_labels, count = np.unique(\n",
    "    labeled[\"Input.uid\"].value_counts(), return_counts=True\n",
    ")\n",
    "for numlabels, c in zip(number_of_labels, count):\n",
    "    print(f\"There are {c} websites each annotated by {numlabels} labelers\")\n",
    "\n",
    "# Show the unique responses for each question\n",
    "answers = set()\n",
    "for answer in labeled[\"Answer.taskAnswers\"]:\n",
    "    parsed_answer = json.loads(answer)\n",
    "    answers.update([v for v in parsed_answer[0].values() if type(v) == str])\n",
    "print(f\"There are {len(answers)} unique responses: {answers}\")\n",
    "\n",
    "# Average number of labels per user\n",
    "avg_user_labels = labeled[\"WorkerId\"].value_counts().mean()\n",
    "print(f\"On average each labeler annotated {avg_user_labels} pages\")"
   ]
  },
  {
   "cell_type": "code",
   "execution_count": 8,
   "metadata": {},
   "outputs": [
    {
     "name": "stdout",
     "output_type": "stream",
     "text": [
      "✅ All records have AssignmentStatus Approved\n",
      "✅ This checks with the max assignments allowed.\n",
      "✅ All records has taskAnswers list length = 1\n",
      "❗️ Input.title has 2.86% missing values\n",
      "❗️ Input.description has 46.19% missing values\n"
     ]
    }
   ],
   "source": [
    "# Make sure that for all records, AssignmentStatus is Approved\n",
    "assert (\n",
    "    len(labeled[\"AssignmentStatus\"].unique()) == 1\n",
    "    and labeled[\"AssignmentStatus\"].unique()[0] == \"Approved\"\n",
    "), \"AssignmentStatus is not Approved\"\n",
    "print(\"✅ All records have AssignmentStatus Approved\")\n",
    "\n",
    "# Confirm that all pages are assigned with at most 3 assignments\n",
    "max_assignments, count = np.unique(labeled[\"MaxAssignments\"], return_counts=True)\n",
    "assert len(max_assignments) == 1 and max_assignments[0] == 3, \"MaxAssignments is not 3\"\n",
    "print(\"✅ This checks with the max assignments allowed.\")\n",
    "\n",
    "\n",
    "# Get Double Check that the list in TaskAnswers is of length 1 always\n",
    "answers = set()\n",
    "total = 0\n",
    "for answer in labeled[\"Answer.taskAnswers\"]:\n",
    "    parsed_answer = json.loads(answer)\n",
    "    if len(parsed_answer) > 1:\n",
    "        total += 1\n",
    "if total > 0:\n",
    "    print(f\"❗️ There are {total} records with taskAnswers list length > 1\")\n",
    "else:\n",
    "    print(\"✅ All records has taskAnswers list length = 1\")\n",
    "\n",
    "# Check missing values for Input.url, Input.screenshot, Input.title, Input.description, report in percentage\n",
    "for col in [\"Input.url\", \"Input.screenshot\", \"Input.title\", \"Input.description\"]:\n",
    "    miss_vals = labeled[col].isna().sum() / len(labeled) * 100\n",
    "    if miss_vals > 0:\n",
    "        print(f\"❗️ {col} has {miss_vals:.2f}% missing values\")"
   ]
  },
  {
   "cell_type": "markdown",
   "metadata": {},
   "source": [
    "Next, let's one hot encode the column `Answer.taskAnswers` based on the\n",
    "dictionary that each row includes:\n"
   ]
  },
  {
   "cell_type": "code",
   "execution_count": 9,
   "metadata": {},
   "outputs": [
    {
     "data": {
      "text/html": [
       "<div>\n",
       "<style scoped>\n",
       "    .dataframe tbody tr th:only-of-type {\n",
       "        vertical-align: middle;\n",
       "    }\n",
       "\n",
       "    .dataframe tbody tr th {\n",
       "        vertical-align: top;\n",
       "    }\n",
       "\n",
       "    .dataframe thead th {\n",
       "        text-align: right;\n",
       "    }\n",
       "</style>\n",
       "<table border=\"1\" class=\"dataframe\">\n",
       "  <thead>\n",
       "    <tr style=\"text-align: right;\">\n",
       "      <th></th>\n",
       "      <th>Input.uid</th>\n",
       "      <th>Input.url</th>\n",
       "      <th>Arts</th>\n",
       "      <th>Business</th>\n",
       "      <th>Computers</th>\n",
       "      <th>Games</th>\n",
       "      <th>Health</th>\n",
       "      <th>Home</th>\n",
       "      <th>Kids_and_Teens</th>\n",
       "      <th>News</th>\n",
       "      <th>Recreation</th>\n",
       "      <th>Reference</th>\n",
       "      <th>Science</th>\n",
       "      <th>Shopping</th>\n",
       "      <th>Society</th>\n",
       "      <th>Sports</th>\n",
       "    </tr>\n",
       "  </thead>\n",
       "  <tbody>\n",
       "    <tr>\n",
       "      <th>0</th>\n",
       "      <td>1161124</td>\n",
       "      <td>www.pointlesssites.com</td>\n",
       "      <td>0</td>\n",
       "      <td>0</td>\n",
       "      <td>1</td>\n",
       "      <td>1</td>\n",
       "      <td>0</td>\n",
       "      <td>1</td>\n",
       "      <td>1</td>\n",
       "      <td>0</td>\n",
       "      <td>1</td>\n",
       "      <td>0</td>\n",
       "      <td>0</td>\n",
       "      <td>0</td>\n",
       "      <td>0</td>\n",
       "      <td>0</td>\n",
       "    </tr>\n",
       "    <tr>\n",
       "      <th>1</th>\n",
       "      <td>1161124</td>\n",
       "      <td>www.pointlesssites.com</td>\n",
       "      <td>0</td>\n",
       "      <td>0</td>\n",
       "      <td>0</td>\n",
       "      <td>1</td>\n",
       "      <td>0</td>\n",
       "      <td>1</td>\n",
       "      <td>1</td>\n",
       "      <td>0</td>\n",
       "      <td>1</td>\n",
       "      <td>0</td>\n",
       "      <td>0</td>\n",
       "      <td>0</td>\n",
       "      <td>1</td>\n",
       "      <td>0</td>\n",
       "    </tr>\n",
       "    <tr>\n",
       "      <th>2</th>\n",
       "      <td>1161124</td>\n",
       "      <td>www.pointlesssites.com</td>\n",
       "      <td>1</td>\n",
       "      <td>0</td>\n",
       "      <td>1</td>\n",
       "      <td>0</td>\n",
       "      <td>0</td>\n",
       "      <td>0</td>\n",
       "      <td>0</td>\n",
       "      <td>0</td>\n",
       "      <td>1</td>\n",
       "      <td>0</td>\n",
       "      <td>0</td>\n",
       "      <td>0</td>\n",
       "      <td>0</td>\n",
       "      <td>0</td>\n",
       "    </tr>\n",
       "    <tr>\n",
       "      <th>3</th>\n",
       "      <td>1081241</td>\n",
       "      <td>www.connecticutplastics.com</td>\n",
       "      <td>0</td>\n",
       "      <td>1</td>\n",
       "      <td>1</td>\n",
       "      <td>0</td>\n",
       "      <td>1</td>\n",
       "      <td>0</td>\n",
       "      <td>0</td>\n",
       "      <td>0</td>\n",
       "      <td>0</td>\n",
       "      <td>0</td>\n",
       "      <td>1</td>\n",
       "      <td>0</td>\n",
       "      <td>0</td>\n",
       "      <td>0</td>\n",
       "    </tr>\n",
       "    <tr>\n",
       "      <th>4</th>\n",
       "      <td>1081241</td>\n",
       "      <td>www.connecticutplastics.com</td>\n",
       "      <td>0</td>\n",
       "      <td>0</td>\n",
       "      <td>0</td>\n",
       "      <td>0</td>\n",
       "      <td>1</td>\n",
       "      <td>0</td>\n",
       "      <td>0</td>\n",
       "      <td>0</td>\n",
       "      <td>0</td>\n",
       "      <td>0</td>\n",
       "      <td>0</td>\n",
       "      <td>0</td>\n",
       "      <td>0</td>\n",
       "      <td>0</td>\n",
       "    </tr>\n",
       "  </tbody>\n",
       "</table>\n",
       "</div>"
      ],
      "text/plain": [
       "   Input.uid                    Input.url  Arts  Business  Computers  Games  \\\n",
       "0    1161124       www.pointlesssites.com     0         0          1      1   \n",
       "1    1161124       www.pointlesssites.com     0         0          0      1   \n",
       "2    1161124       www.pointlesssites.com     1         0          1      0   \n",
       "3    1081241  www.connecticutplastics.com     0         1          1      0   \n",
       "4    1081241  www.connecticutplastics.com     0         0          0      0   \n",
       "\n",
       "   Health  Home  Kids_and_Teens  News  Recreation  Reference  Science  \\\n",
       "0       0     1               1     0           1          0        0   \n",
       "1       0     1               1     0           1          0        0   \n",
       "2       0     0               0     0           1          0        0   \n",
       "3       1     0               0     0           0          0        1   \n",
       "4       1     0               0     0           0          0        0   \n",
       "\n",
       "   Shopping  Society  Sports  \n",
       "0         0        0       0  \n",
       "1         0        1       0  \n",
       "2         0        0       0  \n",
       "3         0        0       0  \n",
       "4         0        0       0  "
      ]
     },
     "execution_count": 9,
     "metadata": {},
     "output_type": "execute_result"
    }
   ],
   "source": [
    "# Create a new column AnswersParsed\n",
    "labeled[\"AnswersParsed\"] = labeled[\"Answer.taskAnswers\"].apply(\n",
    "    lambda x: {\n",
    "        k.split(\"-\")[-1]: v for k, v in json.loads(x)[0].items() if type(v) == str\n",
    "    }\n",
    ")\n",
    "\n",
    "# Obtain the selected Idx and corresponding categories\n",
    "labeled[\"SelectedIdx\"] = labeled[\"AnswersParsed\"].apply(\n",
    "    lambda x: [k for k, v in x.items() if v == \"YES\"]\n",
    ")\n",
    "labeled[\"SelectedCategories\"] = labeled[\"SelectedIdx\"].apply(\n",
    "    lambda x: [idx2cat[idx] for idx in x]\n",
    ")\n",
    "\n",
    "# Now, let's one hot encode the selected categories\n",
    "for cat in cat2idx:\n",
    "    labeled[cat] = labeled[\"SelectedCategories\"].apply(lambda x: 1 if cat in x else 0)\n",
    "\n",
    "relevant_columns = [\"Input.uid\", \"Input.url\"] + list(cat2idx)\n",
    "labeled = labeled[relevant_columns]\n",
    "labeled.head()"
   ]
  },
  {
   "cell_type": "markdown",
   "metadata": {},
   "source": [
    "Now, for each website and category, we want to look at the aggreement accross\n",
    "annotators.\n"
   ]
  },
  {
   "cell_type": "code",
   "execution_count": 10,
   "metadata": {},
   "outputs": [
    {
     "data": {
      "image/png": "[encoded data removed]",
      "text/plain": [
       "<Figure size 640x480 with 1 Axes>"
      ]
     },
     "metadata": {},
     "output_type": "display_data"
    }
   ],
   "source": [
    "website_ids = labeled[\"Input.uid\"].unique()\n",
    "aggrements = []\n",
    "for wid in website_ids:\n",
    "    # Get all the annotations for this website\n",
    "    annotations = labeled[labeled[\"Input.uid\"] == wid].iloc[:, 2:].to_numpy()\n",
    "\n",
    "    # Pair the annotations\n",
    "    kappas = []\n",
    "    for i in range(len(annotations)):\n",
    "        for j in range(i + 1, len(annotations)):\n",
    "            kappas.append(cohen_kappa_score(annotations[i], annotations[j]))\n",
    "\n",
    "    # Take the average of all the kappas\n",
    "    avg_kappa = np.mean(kappas)\n",
    "\n",
    "    # If nan, then set to 0\n",
    "    if np.isnan(avg_kappa):\n",
    "        avg_kappa = 0\n",
    "\n",
    "    # Save the average kappa for this website\n",
    "    aggrements.append([wid, avg_kappa])\n",
    "\n",
    "# Turn into pandas dataframe\n",
    "aggrements = pd.DataFrame(aggrements, columns=[\"Input.uid\", \"Aggrement\"])\n",
    "\n",
    "# Plot the distribution of aggrements\n",
    "sns.histplot(aggrements[\"Aggrement\"])\n",
    "plt.title(\n",
    "    \"Distribution of Aggrements with mean = {:.2f}\".format(\n",
    "        aggrements[\"Aggrement\"].mean()\n",
    "    )\n",
    ");"
   ]
  },
  {
   "cell_type": "markdown",
   "metadata": {},
   "source": [
    "Let's more accurate estimate of the mean using confidence intervals:"
   ]
  },
  {
   "cell_type": "code",
   "execution_count": 11,
   "metadata": {},
   "outputs": [
    {
     "name": "stdout",
     "output_type": "stream",
     "text": [
      "Mean (95% CI): 0.20 ± 0.02\n"
     ]
    }
   ],
   "source": [
    "# Compute the mean and standard deviation of the aggrements\n",
    "mean, std = aggrements[\"Aggrement\"].mean(), aggrements[\"Aggrement\"].std()\n",
    "\n",
    "# Compute the 95% confidence interval\n",
    "cf = 1.96 * std / np.sqrt(len(aggrements)) \n",
    "print(f\"Mean (95% CI): {mean:.2f} ± {cf:.2f}\")"
   ]
  },
  {
   "cell_type": "markdown",
   "metadata": {},
   "source": [
    "Next, let's use different aggregation strategies to obtain final labels for each\n",
    "webpage:\n"
   ]
  },
  {
   "cell_type": "code",
   "execution_count": 12,
   "metadata": {},
   "outputs": [
    {
     "name": "stdout",
     "output_type": "stream",
     "text": [
      "For threshold = 1, the mean number of categories per website is 7.66\n",
      "For threshold = 2, the mean number of categories per website is 2.50\n",
      "For threshold = 3, the mean number of categories per website is 0.54\n"
     ]
    },
    {
     "data": {
      "image/png": "[encoded data removed]",
      "text/plain": [
       "<Figure size 1500x500 with 3 Axes>"
      ]
     },
     "metadata": {},
     "output_type": "display_data"
    }
   ],
   "source": [
    "# Compute for each website the number of times the website was assigned given label\n",
    "page_labc = labeled.groupby(\"Input.uid\").sum()\n",
    "\n",
    "# For each website, decided whether it belongs to the category or not based on the threshold = min. number of annotations\n",
    "thresholds = [1, 2, 3]\n",
    "thresholded = []\n",
    "for t in thresholds:\n",
    "    thresholded.append((page_labc.iloc[:, 1:] >= t).astype(int))\n",
    "\n",
    "# Show the distribution of the number of categories per website\n",
    "numlab_dist = [thresholded[t - 1].sum(axis=1) for t in thresholds]\n",
    "print(\n",
    "    f\"For threshold = 1, the mean number of categories per website is {numlab_dist[0].mean():.2f}\"\n",
    ")\n",
    "print(\n",
    "    f\"For threshold = 2, the mean number of categories per website is {numlab_dist[1].mean():.2f}\"\n",
    ")\n",
    "print(\n",
    "    f\"For threshold = 3, the mean number of categories per website is {numlab_dist[2].mean():.2f}\"\n",
    ")\n",
    "\n",
    "# Print the distribution of the number of categories per website\n",
    "fig, axs = plt.subplots(1, 3, figsize=(15, 5))\n",
    "for i, ax in enumerate(axs):\n",
    "    sns.barplot(\n",
    "        x=numlab_dist[i].value_counts().index,\n",
    "        y=numlab_dist[i].value_counts().values / numlab_dist[i].shape[0],\n",
    "        ax=ax,\n",
    "        color=\"#31748f\",\n",
    "    )\n",
    "\n",
    "# Add the labels\n",
    "axs[0].set_title(\"Threshold = 1\")\n",
    "axs[1].set_title(\"Threshold = 2\")\n",
    "axs[2].set_title(\"Threshold = 3\")\n",
    "\n",
    "for ax in axs:\n",
    "    ax.set_xlabel(\"Number of categories\")\n",
    "    ax.set_ylabel(\"Percentage\")\n",
    "\n",
    "# Add title\n",
    "fig.suptitle(\"Distribution of the number of categories per website\");"
   ]
  },
  {
   "cell_type": "markdown",
   "metadata": {},
   "source": [
    "Given these results, having all three annotators agree on a label results in a very low number of labels per website. On the opposite site, having at least one annotator agree on a label results in a very high number of labels per website. Therefore, we will the at least 2 annotators agree on a label strategy which is likely the best trade-off between the two extremes. Let's save the labels and websites obtained via this strategy to the corresponding folders:"
   ]
  },
  {
   "cell_type": "code",
   "execution_count": 13,
   "metadata": {},
   "outputs": [
    {
     "data": {
      "text/html": [
       "<div>\n",
       "<style scoped>\n",
       "    .dataframe tbody tr th:only-of-type {\n",
       "        vertical-align: middle;\n",
       "    }\n",
       "\n",
       "    .dataframe tbody tr th {\n",
       "        vertical-align: top;\n",
       "    }\n",
       "\n",
       "    .dataframe thead th {\n",
       "        text-align: right;\n",
       "    }\n",
       "</style>\n",
       "<table border=\"1\" class=\"dataframe\">\n",
       "  <thead>\n",
       "    <tr style=\"text-align: right;\">\n",
       "      <th></th>\n",
       "      <th>wid</th>\n",
       "      <th>url</th>\n",
       "    </tr>\n",
       "  </thead>\n",
       "  <tbody>\n",
       "    <tr>\n",
       "      <th>0</th>\n",
       "      <td>1161124</td>\n",
       "      <td>www.pointlesssites.com</td>\n",
       "    </tr>\n",
       "    <tr>\n",
       "      <th>3</th>\n",
       "      <td>1081241</td>\n",
       "      <td>www.connecticutplastics.com</td>\n",
       "    </tr>\n",
       "    <tr>\n",
       "      <th>6</th>\n",
       "      <td>1162420</td>\n",
       "      <td>99percentinvisible.org</td>\n",
       "    </tr>\n",
       "    <tr>\n",
       "      <th>9</th>\n",
       "      <td>1146040</td>\n",
       "      <td>www.medicaid.gov</td>\n",
       "    </tr>\n",
       "    <tr>\n",
       "      <th>12</th>\n",
       "      <td>1117243</td>\n",
       "      <td>www.graalonline.com</td>\n",
       "    </tr>\n",
       "  </tbody>\n",
       "</table>\n",
       "</div>"
      ],
      "text/plain": [
       "        wid                          url\n",
       "0   1161124       www.pointlesssites.com\n",
       "3   1081241  www.connecticutplastics.com\n",
       "6   1162420       99percentinvisible.org\n",
       "9   1146040             www.medicaid.gov\n",
       "12  1117243          www.graalonline.com"
      ]
     },
     "execution_count": 13,
     "metadata": {},
     "output_type": "execute_result"
    }
   ],
   "source": [
    "wid_url = labeled[[\"Input.uid\", \"Input.url\"]].drop_duplicates().rename({\"Input.uid\": \"wid\", \"Input.url\": \"url\"}, inplace=False, axis=1)\n",
    "\n",
    "save_dir = os.path.join(\"..\", \"data\", \"raw\")\n",
    "save_path = os.path.join(save_dir, \"crowdsourced.csv\")\n",
    "os.makedirs(save_dir, exist_ok=True)\n",
    "\n",
    "wid_url.to_csv(save_path, index=False)\n",
    "wid_url.head()"
   ]
  },
  {
   "cell_type": "code",
   "execution_count": 14,
   "metadata": {},
   "outputs": [
    {
     "name": "stdout",
     "output_type": "stream",
     "text": [
      "125542 {'labels': [0, 1, 0, 0, 0, 0, 0, 0, 0, 1, 0, 0, 1, 0]}\n",
      "246754 {'labels': [1, 0, 0, 0, 0, 0, 0, 0, 1, 0, 0, 0, 0, 0]}\n",
      "290883 {'labels': [1, 0, 0, 0, 0, 0, 0, 0, 0, 0, 0, 0, 0, 0]}\n",
      "312868 {'labels': [0, 0, 0, 0, 0, 0, 0, 0, 0, 0, 0, 0, 0, 0]}\n",
      "382929 {'labels': [0, 1, 0, 0, 0, 0, 0, 0, 0, 0, 0, 0, 0, 0]}\n"
     ]
    }
   ],
   "source": [
    "t2 = thresholded[1].reset_index().rename({\"Input.uid\": \"wid\"}, inplace=False, axis=1)\n",
    "wid2labels = dict()\n",
    "for _, row in t2.iterrows():\n",
    "    wid2labels[str(row[\"wid\"])] = {\"labels\": row.iloc[1:].to_list()}\n",
    "\n",
    "save_dir = os.path.join(\"../data/labels/human\")\n",
    "save_path = os.path.join(save_dir, \"crowdsourced.json\")\n",
    "os.makedirs(save_dir, exist_ok=True)\n",
    "\n",
    "with open(save_path, \"w\") as f:\n",
    "    json.dump(wid2labels, f)\n",
    "\n",
    "keys = list(wid2labels.keys())\n",
    "for k in keys[:5]:\n",
    "    print(k, wid2labels[k])"
   ]
  },
  {
   "cell_type": "markdown",
   "metadata": {},
   "source": [
    "### Further Exploration of the Preprocessed Data\n",
    "\n",
    "---"
   ]
  },
  {
   "cell_type": "code",
   "execution_count": 58,
   "metadata": {},
   "outputs": [
    {
     "data": {
      "image/png": "[encoded data removed]",
      "text/plain": [
       "<Figure size 500x400 with 1 Axes>"
      ]
     },
     "metadata": {},
     "output_type": "display_data"
    }
   ],
   "source": [
    "# Setup the figure\n",
    "fig, axs = plt.subplots(figsize=(5, 4))\n",
    "cats = t2.set_index(\"wid\", inplace=False)\n",
    "\n",
    "# Rename Kids_and_Teens to Kids and Teens\n",
    "cats.rename({\"Kids_and_Teens\": \"Kids and Teens\"}, inplace=True, axis=1)\n",
    "\n",
    "# Compute the percentage of each category\n",
    "cat_per = (cats.sum(axis=0) / cats.shape[0] * 100).round(2).sort_values(ascending=False)\n",
    "\n",
    "# Set labels\n",
    "axs.set_xlabel(\"Percentage\")\n",
    "axs.set_ylabel(\" \")\n",
    "\n",
    "# To each bar assign the corresponding percentage\n",
    "for i, v in enumerate(cat_per.values):\n",
    "    axs.text(v + 1, i, f\"{v}\", color=\"black\", va=\"center\", fontsize=11)\n",
    "\n",
    "# Set x-axis limits\n",
    "axs.set_xlim([0, 65])\n",
    "\n",
    "# Plot using seaborn\n",
    "sns.barplot(y=cat_per.index, x=cat_per.values, ax=axs);\n",
    "\n",
    "fig.tight_layout()\n",
    "\n",
    "# Save the figure\n",
    "save_path = os.path.join(\"..\", \"report\", \"figures\", \"category_distribution.png\")\n",
    "fig.savefig(save_path, bbox_inches=\"tight\", dpi=300)"
   ]
  },
  {
   "cell_type": "markdown",
   "metadata": {},
   "source": [
    "---"
   ]
  }
 ],
 "metadata": {
  "kernelspec": {
   "display_name": "cs502",
   "language": "python",
   "name": "python3"
  },
  "language_info": {
   "codemirror_mode": {
    "name": "ipython",
    "version": 3
   },
   "file_extension": ".py",
   "mimetype": "text/x-python",
   "name": "python",
   "nbconvert_exporter": "python",
   "pygments_lexer": "ipython3",
   "version": "3.10.13"
  }
 },
 "nbformat": 4,
 "nbformat_minor": 2
}
